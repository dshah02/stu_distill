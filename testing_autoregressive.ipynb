{
 "cells": [
  {
   "cell_type": "code",
   "execution_count": 33,
   "metadata": {},
   "outputs": [
    {
     "name": "stdout",
     "output_type": "stream",
     "text": [
      "Using device: cuda\n",
      "Loading the checkpoint...\n",
      "Successfully loaded the checkpoint in 1.34 seconds\n"
     ]
    }
   ],
   "source": [
    "import numpy as np\n",
    "import torch\n",
    "import torch.nn.functional as F\n",
    "import tiktoken\n",
    "import logging\n",
    "import json\n",
    "from time import time\n",
    "from safetensors import safe_open\n",
    "from model import FlashSTU\n",
    "from config import FlashSTUConfig\n",
    "import torch.nn as nn\n",
    "\n",
    "# Setup device\n",
    "device = torch.device(\"cuda\" if torch.cuda.is_available() else \"cpu\")\n",
    "print(f\"Using device: {device}\")\n",
    "\n",
    "\n",
    "def get_hankel(seq_len: int, use_hankel_L: bool = False) -> np.ndarray:\n",
    "    entries = np.arange(1, seq_len + 1, dtype=np.float64)\n",
    "    i_plus_j = entries[:, None] + entries[None, :]\n",
    "\n",
    "    if use_hankel_L:\n",
    "        sgn = (-1.0) ** (i_plus_j - 2.0) + 1.0\n",
    "        denom = (i_plus_j + 3.0) * (i_plus_j - 1.0) * (i_plus_j + 1.0)\n",
    "        Z = sgn * (8.0 / denom)\n",
    "    elif not use_hankel_L:\n",
    "        Z = 2.0 / (i_plus_j**3 - i_plus_j)\n",
    "    else:\n",
    "        raise ValueError(\"use_hankel_L must be a boolean\")\n",
    "\n",
    "    return Z\n",
    "\n",
    "def get_spectral_filters(\n",
    "    seq_len: int, \n",
    "    K: int, \n",
    "    use_hankel_L: bool = False, \n",
    "    device: torch.device = None,\n",
    "    dtype: torch.dtype = torch.bfloat16,\n",
    ") -> torch.Tensor:\n",
    "    assert torch.cuda.is_available(), \"CUDA is required.\"\n",
    "    Z = get_hankel(seq_len, use_hankel_L)\n",
    "    sigma, phi = np.linalg.eigh(Z)\n",
    "    sigma_k, phi_k = sigma[-K:], phi[:, -K:]\n",
    "    phi_k *= sigma_k ** 0.25\n",
    "    filters = torch.from_numpy(phi_k)\n",
    "    return filters.to(device=device, dtype=dtype)\n",
    "\n",
    "# Load the checkpoint\n",
    "print(\"Loading the checkpoint...\")\n",
    "start_time = time()\n",
    "state_dict = {}\n",
    "with safe_open(\n",
    "    \"model_19073.safetensors\",\n",
    "    framework=\"pt\",\n",
    "    device=\"cuda\",\n",
    ") as f:\n",
    "    for k in f.keys():\n",
    "        state_dict[k] = f.get_tensor(k)\n",
    "\n",
    "print(f\"Successfully loaded the checkpoint in {time() - start_time:.2f} seconds\")\n"
   ]
  },
  {
   "cell_type": "code",
   "execution_count": 34,
   "metadata": {},
   "outputs": [
    {
     "name": "stdout",
     "output_type": "stream",
     "text": [
      "Model Parameter Count: 426.28M\n",
      "\n"
     ]
    }
   ],
   "source": [
    "# Set precision for matrix multiplication\n",
    "torch.set_float32_matmul_precision(\"high\")\n",
    "\n",
    "# Load model configurations from JSON file\n",
    "with open(\"config.json\", \"r\") as file:\n",
    "    config = json.load(file)\n",
    "\n",
    "# Extract model configurations\n",
    "n_embd = config[\"n_embd\"]\n",
    "n_heads = config[\"n_heads\"]\n",
    "n_layers = config[\"n_layers\"]\n",
    "seq_len = config[\"seq_len\"]\n",
    "window_size = config[\"window_size\"]\n",
    "vocab_size = config[\"vocab_size\"]\n",
    "mlp_scale = config[\"mlp_scale\"]\n",
    "bias = config[\"bias\"]\n",
    "dropout = config[\"dropout\"]\n",
    "num_eigh = config[\"num_eigh\"]\n",
    "use_hankel_L = config[\"use_hankel_L\"]\n",
    "use_flash_fft = config[\"use_flash_fft\"]\n",
    "use_approx = config[\"use_approx\"]\n",
    "use_attn = config[\"use_attn\"]\n",
    "softcap = config[\"softcap\"]\n",
    "\n",
    "# Model setup\n",
    "config = FlashSTUConfig(\n",
    "    n_embd=n_embd,\n",
    "    n_heads=n_heads,\n",
    "    n_layers=n_layers,\n",
    "    seq_len=seq_len,\n",
    "    window_size=window_size,\n",
    "    vocab_size=vocab_size,\n",
    "    mlp_scale=mlp_scale,\n",
    "    bias=bias,\n",
    "    dropout=dropout,\n",
    "    num_eigh=num_eigh,\n",
    "    use_hankel_L=use_hankel_L,\n",
    "    use_flash_fft=use_flash_fft,\n",
    "    use_approx=use_approx,\n",
    "    use_attn=use_attn,\n",
    "    softcap=softcap,\n",
    "    torch_dtype=getattr(torch, config[\"torch_dtype\"]),\n",
    ")\n",
    "phi = get_spectral_filters(seq_len, num_eigh, use_hankel_L, device, torch.float32)\n",
    "model = FlashSTU(config, phi)\n",
    "\n",
    "# Load state dictionary into the model\n",
    "model.load_state_dict(state_dict, strict = True)\n",
    "model.to(device)\n",
    "model.eval()\n",
    "\n",
    "# Prepare tokenizer\n",
    "tokenizer = tiktoken.get_encoding(\"o200k_base\")"
   ]
  },
  {
   "cell_type": "code",
   "execution_count": 3,
   "metadata": {},
   "outputs": [],
   "source": [
    "import tqdm\n",
    "def generate_text(\n",
    "    model, tokenizer, prompt, num_return_sequences=4, max_length=1024, device=\"cuda\", temperature=1.0, top_k=50\n",
    "):\n",
    "    model.eval()\n",
    "    tokens = torch.tensor([tokenizer.encode(prompt, allowed_special={\"<|endoftext|>\"})], device=device)\n",
    "    tokens = tokens.repeat(num_return_sequences, 1)\n",
    "\n",
    "    sample_rng = torch.Generator(device=device)\n",
    "    sample_rng.manual_seed(1337)\n",
    "\n",
    "    eos_token_id = tokenizer.encode(\"<|endoftext|>\", allowed_special={\"<|endoftext|>\"})[0]\n",
    "\n",
    "    with torch.no_grad():\n",
    "        for _ in tqdm.tqdm(range(max_length - tokens.size(1))):\n",
    "            with torch.amp.autocast(device_type=\"cuda\", dtype=torch.bfloat16):\n",
    "                logits = model(tokens)\n",
    "                logits = logits[:, -1, :]  # Get logits for the last token\n",
    "\n",
    "                # Apply temperature scaling if temperature > 0\n",
    "                if temperature > 0:\n",
    "                    logits = logits / temperature\n",
    "\n",
    "            probs = F.softmax(logits, dim=-1)  # Compute probabilities\n",
    "\n",
    "            # Top-K sampling: set all probabilities outside the top K to 0\n",
    "            top_k_probs, top_k_indices = torch.topk(probs, top_k, dim=-1)\n",
    "            ix = torch.multinomial(top_k_probs, 1, generator=sample_rng)\n",
    "            next_token = torch.gather(top_k_indices, -1, ix)\n",
    "            tokens = torch.cat((tokens, next_token), dim=1)\n",
    "\n",
    "            # Break if EOS token is generated\n",
    "            if (next_token == eos_token_id).any():\n",
    "                break\n",
    "\n",
    "    generated_sequences = []\n",
    "    for i in range(num_return_sequences):\n",
    "        decoded = tokenizer.decode(tokens[i].tolist())\n",
    "        generated_sequences.append(decoded)\n",
    "\n",
    "    return generated_sequences"
   ]
  },
  {
   "cell_type": "code",
   "execution_count": 4,
   "metadata": {},
   "outputs": [
    {
     "name": "stdout",
     "output_type": "stream",
     "text": [
      "\n",
      "Generating text for prompt: 'The future of artificial intelligence is'\n",
      "\n"
     ]
    },
    {
     "name": "stderr",
     "output_type": "stream",
     "text": [
      "100%|██████████| 44/44 [00:06<00:00,  6.38it/s]"
     ]
    },
    {
     "name": "stdout",
     "output_type": "stream",
     "text": [
      "Sample 1: The future of artificial intelligence is also a bit controversial in the political area. The idea of artificial intelligence is actually a part of people who might not have a clear idea of how can we make this technology come to life. People that already have computers can\n",
      "\n"
     ]
    },
    {
     "name": "stderr",
     "output_type": "stream",
     "text": [
      "\n"
     ]
    }
   ],
   "source": [
    "prompts = [\n",
    "    \"The future of artificial intelligence is\",\n",
    "    # \"In the year 2050, the world will\",\n",
    "    # \"The most important scientific discovery of the 21st century is\",\n",
    "    # \"If I could change one thing about the education system, it would be\",\n",
    "    # \"In a shocking finding, scientist discovered a herd of unicorns living in a remote, previously unexplored valley, in the Andes Mountains. Even more surprising to the researchers was the fact that the unicorns spoke perfect English.\",\n",
    "]\n",
    "\n",
    "for prompt in prompts:\n",
    "    print(f\"\\nGenerating text for prompt: '{prompt}'\\n\")\n",
    "    generated_texts = generate_text(model, tokenizer, prompt, num_return_sequences=1, max_length=50)\n",
    "    for i, text in enumerate(generated_texts):\n",
    "        print(f\"Sample {i + 1}: {text}\\n\")\n"
   ]
  },
  {
   "cell_type": "code",
   "execution_count": 35,
   "metadata": {},
   "outputs": [],
   "source": [
    "import copy\n",
    "stu = copy.deepcopy(model.layers[0].stu)\n",
    "stu.phi = stu.phi.to(torch.bfloat16)"
   ]
  },
  {
   "cell_type": "code",
   "execution_count": 6,
   "metadata": {},
   "outputs": [],
   "source": [
    "def exponential_decay_init(size, lam=5.0):\n",
    "    \"\"\"\n",
    "    Samples from an exponential distribution with rate lam, \n",
    "    then clips at 1, does (1 - clipped_value),\n",
    "    and finally multiplies by ±1 with probability 1/2.\n",
    "    \"\"\"\n",
    "    # 1) Sample uniform [0,1], convert to exponential\n",
    "    u = torch.rand(size)\n",
    "    x = -1.0 / lam * torch.log(1 - u)  # Exponential(λ = lam)\n",
    "\n",
    "    # 2) Clip at 1\n",
    "    x = torch.clamp(x, max=1.0)\n",
    "\n",
    "    # 3) Subtract from 1 (to be near 1 for small x)\n",
    "    x = 1.0 - x  # Now we have distribution mostly near 1 for large lam\n",
    "\n",
    "    # 4) Multiply by ±1 with prob 1/2\n",
    "    sign = torch.sign(torch.randn(size))\n",
    "    return x * sign"
   ]
  },
  {
   "cell_type": "code",
   "execution_count": 7,
   "metadata": {},
   "outputs": [
    {
     "data": {
      "text/plain": [
       "(array([225., 140.,  55.,  37.,  18.,   8.,  11.,   6.,   4.,   3.,   1.,\n",
       "          1.,   0.,   0.,   1.,   0.,   1.,   0.,   0.,   0.,   0.,   0.,\n",
       "          0.,   0.,   0.,   0.,   0.,   0.,   0.,   0.,   0.,   0.,   0.,\n",
       "          1.,   0.,   0.,   0.,   1.,   2.,   0.,   1.,   1.,   3.,   6.,\n",
       "         18.,  20.,  33.,  68., 122., 213.]),\n",
       " array([-9.99951184e-01, -9.59956467e-01, -9.19961751e-01, -8.79967034e-01,\n",
       "        -8.39972317e-01, -7.99977601e-01, -7.59982884e-01, -7.19988167e-01,\n",
       "        -6.79993451e-01, -6.39998734e-01, -6.00004017e-01, -5.60009301e-01,\n",
       "        -5.20014584e-01, -4.80019897e-01, -4.40025181e-01, -4.00030464e-01,\n",
       "        -3.60035747e-01, -3.20041031e-01, -2.80046314e-01, -2.40051597e-01,\n",
       "        -2.00056881e-01, -1.60062164e-01, -1.20067447e-01, -8.00727308e-02,\n",
       "        -4.00780141e-02, -8.32974911e-05,  3.99114192e-02,  7.99061358e-02,\n",
       "         1.19900852e-01,  1.59895569e-01,  1.99890286e-01,  2.39885002e-01,\n",
       "         2.79879719e-01,  3.19874436e-01,  3.59869152e-01,  3.99863869e-01,\n",
       "         4.39858586e-01,  4.79853302e-01,  5.19847989e-01,  5.59842706e-01,\n",
       "         5.99837422e-01,  6.39832139e-01,  6.79826856e-01,  7.19821572e-01,\n",
       "         7.59816289e-01,  7.99811006e-01,  8.39805722e-01,  8.79800439e-01,\n",
       "         9.19795156e-01,  9.59789872e-01,  9.99784589e-01]),\n",
       " <BarContainer object of 50 artists>)"
      ]
     },
     "execution_count": 7,
     "metadata": {},
     "output_type": "execute_result"
    },
    {
     "data": {
      "image/png": "[encoded data removed]",
      "text/plain": [
       "<Figure size 640x480 with 1 Axes>"
      ]
     },
     "metadata": {},
     "output_type": "display_data"
    }
   ],
   "source": [
    "import matplotlib.pyplot as plt\n",
    "plt.hist(exponential_decay_init(1000, lam = 15), bins =50)"
   ]
  },
  {
   "cell_type": "code",
   "execution_count": 8,
   "metadata": {},
   "outputs": [],
   "source": [
    "import torch\n",
    "\n",
    "def compute_ar_x_preds(w: torch.Tensor, x: torch.Tensor) -> torch.Tensor:\n",
    "    \"\"\"\n",
    "    Compute the auto-regressive component of a spectral SSM (PyTorch version),\n",
    "    allowing for a batch dimension in `x`.\n",
    "\n",
    "    Args:\n",
    "        w: A tensor of shape [d_out, d_in, k].\n",
    "        x: A tensor of shape [batch_size, l, d_in].\n",
    "\n",
    "    Returns:\n",
    "        A tensor of shape [batch_size, l, d_out].\n",
    "    \"\"\"\n",
    "    d_out, d_in, k = w.shape\n",
    "    b, l, d_in_x = x.shape\n",
    "    assert d_in == d_in_x, (\n",
    "        f\"Dimension mismatch: w.shape={w.shape}, x.shape={x.shape}\"\n",
    "    )\n",
    "\n",
    "    o = torch.einsum(\"oik,bli->bklo\", w, x)\n",
    "\n",
    "    for i in range(k):\n",
    "        # shape: [b, l, d_out]\n",
    "        o[:, i] = torch.roll(o[:, i], shifts=i, dims=1)\n",
    "\n",
    "    m = torch.triu(torch.ones(k, l, dtype=o.dtype, device=o.device))  # [k, l]\n",
    "    # shape: [k, l, 1] -> then repeat along d_out\n",
    "    m = m.unsqueeze(-1).repeat(1, 1, d_out)  # [k, l, d_out]\n",
    "\n",
    "    ar_x_preds = torch.sum(o * m, dim=1)  # now shape is [b, l, d_out]\n",
    "\n",
    "    return ar_x_preds\n"
   ]
  },
  {
   "cell_type": "code",
   "execution_count": 9,
   "metadata": {},
   "outputs": [],
   "source": [
    "class LDS(nn.Module):\n",
    "    def __init__(self, state_dim, input_dim, output_dim, kx=5):\n",
    "        super(LDS, self).__init__()\n",
    "        self.state_dim = state_dim\n",
    "        self.input_dim = input_dim\n",
    "        self.output_dim = output_dim\n",
    "        self.kx = kx\n",
    "        self.h0 = nn.Parameter(torch.randn(state_dim))\n",
    "        # init_A = torch.randn(state_dim)\n",
    "        # self.A = nn.Parameter(init_A / torch.max(torch.abs(init_A)))\n",
    "\n",
    "        # self.A = nn.Parameter((torch.rand(state_dim) * 0.2 + 0.8) * torch.sign(torch.randn(state_dim)))\n",
    "        self.A = nn.Parameter(exponential_decay_init([state_dim], lam = 15))\n",
    "        self.B = nn.Parameter(torch.randn(input_dim, state_dim) / input_dim)\n",
    "        self.C = nn.Parameter(torch.randn(state_dim, output_dim) / state_dim)\n",
    "        self.M = nn.Parameter(torch.randn(output_dim, input_dim, kx) / (output_dim))\n",
    "\n",
    "    def forward(self, inputs):\n",
    "        device = inputs.device\n",
    "        bsz, seq_len, _ = inputs.shape\n",
    "        h_t = self.h0.expand(bsz, self.state_dim).to(device)\n",
    "        A = self.A.flatten()\n",
    "        all_h_t = []\n",
    "        for t in range(seq_len):\n",
    "            u_t = inputs[:, t, :]\n",
    "            h_t = A * h_t + (u_t @ self.B)\n",
    "            all_h_t.append(h_t.unsqueeze(1))\n",
    "        all_h_t = torch.cat(all_h_t, dim=1)\n",
    "        lds_out = torch.matmul(all_h_t, self.C)\n",
    "\n",
    "        ar = compute_ar_x_preds(self.M, inputs)\n",
    "        return lds_out + ar\n",
    "\n",
    "    def compute_loss(self, inputs, targets):\n",
    "        mse_loss = nn.MSELoss()\n",
    "        outputs = self(inputs)\n",
    "        return mse_loss(outputs, targets)"
   ]
  },
  {
   "cell_type": "code",
   "execution_count": 13,
   "metadata": {},
   "outputs": [],
   "source": [
    "import math\n",
    "class LDS_LR(nn.Module):\n",
    "    def __init__(self, state_dim, input_dim, output_dim, kx=5, rank = 50):\n",
    "        super(LDS_LR, self).__init__()\n",
    "        self.state_dim = state_dim\n",
    "        self.input_dim = input_dim\n",
    "        self.output_dim = output_dim\n",
    "        self.kx = kx\n",
    "        self.h0 = nn.Parameter(torch.randn(state_dim))\n",
    "        # init_A = torch.randn(state_dim)\n",
    "        # self.A = nn.Parameter(init_A / torch.max(torch.abs(init_A)))\n",
    "\n",
    "        self.A = nn.Parameter(exponential_decay_init([state_dim], lam = 15))\n",
    "        self.B1 = nn.Parameter(torch.randn(input_dim, rank) / (input_dim))\n",
    "        self.B2 = nn.Parameter(torch.randn(rank, state_dim) / (rank))\n",
    "        self.C1 = nn.Parameter(torch.randn(state_dim, rank) / (state_dim))\n",
    "        self.C2 = nn.Parameter(torch.randn(rank, output_dim) / (rank))\n",
    "        self.M = nn.Parameter(torch.randn(output_dim, input_dim, kx) / (output_dim))\n",
    "\n",
    "\n",
    "        # self.M1 = nn.Parameter(torch.randn(rank, input_dim, kx) / math.sqrt(output_dim))\n",
    "        # self.M2 = nn.Parameter(torch.randn(output_dim, rank, kx) / math.sqrt(output_dim))\n",
    "\n",
    "    def forward(self, inputs):\n",
    "        device = inputs.devic\n",
    "        bsz, seq_len, _ = inputs.shape\n",
    "        h_t = self.h0.expand(bsz, self.state_dim).to(device)\n",
    "        A = self.A.flatten()\n",
    "        all_h_t = []\n",
    "\n",
    "        lds_in = torch.matmul(inputs, self.B1)\n",
    "        lds_in = torch.matmul(lds_in, self.B2)\n",
    "\n",
    "        for t in range(seq_len):\n",
    "            h_t = A * h_t + lds_in[:, t, :]\n",
    "            all_h_t.append(h_t.unsqueeze(1))\n",
    "        all_h_t = torch.cat(all_h_t, dim=1)\n",
    " \n",
    "        lds_out = torch.matmul(all_h_t, self.C1)\n",
    "        lds_out = torch.matmul(lds_out, self.C2)\n",
    "\n",
    "        ar = compute_ar_x_preds(self.M, inputs)\n",
    "\n",
    "        # ar = compute_ar_x_preds(self.M1, inputs)\n",
    "        # ar = comspute_ar_x_preds(self.M2, ar)\n",
    "        \n",
    "        return lds_out + ar\n",
    "\n",
    "    def compute_loss(self, inputs, targets):\n",
    "        mse_loss = nn.MSELoss()\n",
    "        outputs = self(inputs)\n",
    "        return mse_loss(outputs, targets)\n"
   ]
  },
  {
   "cell_type": "code",
   "execution_count": 36,
   "metadata": {},
   "outputs": [
    {
     "name": "stdout",
     "output_type": "stream",
     "text": [
      "Epoch 0, Loss: 0.10519014298915863\n",
      "Epoch 10, Loss: 0.014078572392463684\n",
      "Epoch 20, Loss: 0.005255751311779022\n",
      "Epoch 30, Loss: 0.002177697140723467\n",
      "Epoch 40, Loss: 0.0010158619843423367\n",
      "Epoch 50, Loss: 0.0005591019289568067\n",
      "Epoch 60, Loss: 0.0003615509485825896\n",
      "Epoch 70, Loss: 0.000265210575889796\n",
      "Epoch 80, Loss: 0.00021263578673824668\n",
      "Epoch 90, Loss: 0.00018250581342726946\n",
      "Epoch 100, Loss: 0.0001628996542422101\n",
      "Epoch 110, Loss: 0.00014922895934432745\n",
      "Epoch 120, Loss: 0.00013861953630112112\n",
      "Epoch 130, Loss: 0.00013178175140637904\n",
      "Epoch 140, Loss: 0.00012599323235917836\n",
      "Epoch 150, Loss: 0.00012062345922458917\n",
      "Epoch 160, Loss: 0.00011637995339697227\n",
      "Epoch 170, Loss: 0.00011192431702511385\n",
      "Epoch 180, Loss: 0.00010895701416302472\n",
      "Epoch 190, Loss: 0.00010530537838349119\n"
     ]
    }
   ],
   "source": [
    "#remarkably, the approximation gets better and better as state_dim increases from  20 to ~500 (i.e 500 is 8x better than 50)\n",
    "state_dim = 2000 #@param\n",
    "lds = LDS(state_dim, 768, 768, kx = 5).to(device)\n",
    "optimizer = torch.optim.Adam(lds.parameters(), lr = 0.002)\n",
    "lds_epochs = 200\n",
    "lds_loss_values = []\n",
    "\n",
    "for epoch in range(lds_epochs):\n",
    "    inputs = torch.randn(10, 4096, 768).to(device).to(torch.bfloat16)\n",
    "    stu_outputs = stu(inputs).to(device)\n",
    "\n",
    "    optimizer.zero_grad()\n",
    "    loss = lds.compute_loss(inputs.to(stu_outputs.dtype), stu_outputs)\n",
    "    loss.backward()\n",
    "    torch.nn.utils.clip_grad_norm_(lds.parameters(), max_norm=1)\n",
    "    lds_loss_values.append(loss.item())\n",
    "    optimizer.step()\n",
    "\n",
    "    with torch.no_grad():\n",
    "        lds.A.data.clamp_(max=1, min = -1)\n",
    "\n",
    "    if epoch % 10 == 0:\n",
    "        print(f'Epoch {epoch}, Loss: {loss.item()}') #Epoch 2000, Loss: 0.00030023115687072277 for normal LDS and  state dim  10000\n",
    "        #Epoch 2000, Loss: 0.001 for normal LDS and  state dim  1000\n",
    "        #0.0007 for 2000 epochs on LDS with 5 autoregressive heads\n",
    "\n",
    "        #with improved init we reach 0.00029 in 300 epochs at kx = 5\n",
    "        #with improved init we reach 0.00027 in 300 epochs (range 0.7 - 1) at kx =5\n",
    "        #with improved init we reached 0.00024 in 300 with range (0.8 - 1) at kx = 5\n",
    "        #but worse perf for (0.9 - 1) at kx = 10\n",
    "        #0.00020 with lam = 15\n",
    "\n",
    "        #interestingly, it gets worse after a few hundred epochs"
   ]
  },
  {
   "cell_type": "code",
   "execution_count": 14,
   "metadata": {},
   "outputs": [
    {
     "data": {
      "image/png": "[encoded data removed]",
      "text/plain": [
       "<Figure size 640x480 with 1 Axes>"
      ]
     },
     "metadata": {},
     "output_type": "display_data"
    }
   ],
   "source": [
    "import matplotlib.pyplot as plt\n",
    "\n",
    "# Convert lds.A to a numpy array and plot the histogram\n",
    "A_data = lds.A.data.cpu().numpy()\n",
    "plt.hist(A_data, bins=100, alpha=0.75)\n",
    "plt.title('Histogram of lds.A')\n",
    "plt.xlabel('Value')\n",
    "plt.ylabel('Frequency')\n",
    "plt.show()"
   ]
  },
  {
   "cell_type": "code",
   "execution_count": null,
   "metadata": {},
   "outputs": [
    {
     "data": {
      "image/png": "[encoded data removed]",
      "text/plain": [
       "<Figure size 1000x600 with 1 Axes>"
      ]
     },
     "metadata": {},
     "output_type": "display_data"
    }
   ],
   "source": [
    "import matplotlib.pyplot as plt\n",
    "#comparing trajectory of first digit\n",
    "# Generate random input\n",
    "input_data = torch.randn(1, 1024, 768).to(device).to(torch.bfloat16)\n",
    "\n",
    "# Compute outputs from lds and stu\n",
    "lds_output = lds(input_data.to(torch.float))\n",
    "stu_output = stu(input_data)\n",
    "\n",
    "# Convert outputs to numpy arrays for plotting\n",
    "lds_output_np = lds_output[:,:,1].detach().cpu().numpy().flatten()\n",
    "stu_output_np = stu_output[:,:,1].detach().cpu().numpy().flatten()\n",
    "\n",
    "gap = lds_output_np - stu_output_np\n",
    "\n",
    "# Create the plot\n",
    "plt.figure(figsize=(10, 6))\n",
    "plt.plot(lds_output_np, label='LDS Output', alpha=0.7)\n",
    "plt.plot(stu_output_np, label='STU Output', alpha=0.7)\n",
    "plt.plot(gap, label='gap', alpha=0.7)\n",
    "plt.xlabel('Index')\n",
    "plt.ylabel('Value')\n",
    "plt.title('LDS Output vs STU Output')\n",
    "plt.legend()\n",
    "plt.show()"
   ]
  },
  {
   "cell_type": "code",
   "execution_count": null,
   "metadata": {},
   "outputs": [],
   "source": [
    "torch.save(lds.state_dict(), \"./lds_layer_new_2cap_0.pt\")"
   ]
  },
  {
   "cell_type": "code",
   "execution_count": 45,
   "metadata": {},
   "outputs": [
    {
     "name": "stderr",
     "output_type": "stream",
     "text": [
      "C:\\Users\\devan\\AppData\\Local\\Temp\\ipykernel_8148\\4269825310.py:2: FutureWarning: You are using `torch.load` with `weights_only=False` (the current default value), which uses the default pickle module implicitly. It is possible to construct malicious pickle data which will execute arbitrary code during unpickling (See https://github.com/pytorch/pytorch/blob/main/SECURITY.md#untrusted-models for more details). In a future release, the default value for `weights_only` will be flipped to `True`. This limits the functions that could be executed during unpickling. Arbitrary objects will no longer be allowed to be loaded via this mode unless they are explicitly allowlisted by the user via `torch.serialization.add_safe_globals`. We recommend you start setting `weights_only=True` for any use case where you don't have full control of the loaded file. Please open an issue on GitHub for any issues related to this experimental feature.\n",
      "  checkpoint = torch.load(\"./lds_trained/2237_0_10000_best_lds_model_and_optimizer.pt\")\n"
     ]
    },
    {
     "data": {
      "text/plain": [
       "_IncompatibleKeys(missing_keys=['M'], unexpected_keys=[])"
      ]
     },
     "execution_count": 45,
     "metadata": {},
     "output_type": "execute_result"
    }
   ],
   "source": [
    "# Load the model and optimizer\n",
    "checkpoint = torch.load(\"./lds_trained/2237_0_10000_best_lds_model_and_optimizer.pt\")\n",
    "del checkpoint['lds_state_dict']['M'] #this param doesn't correspond to current M\n",
    "lds_model = LDS(state_dim=10000, input_dim=768, output_dim=768, kx=0)\n",
    "lds_model.load_state_dict(checkpoint['lds_state_dict'], strict =  False)"
   ]
  },
  {
   "cell_type": "code",
   "execution_count": 46,
   "metadata": {},
   "outputs": [
    {
     "data": {
      "image/png": "[encoded data removed]",
      "text/plain": [
       "<Figure size 640x480 with 1 Axes>"
      ]
     },
     "metadata": {},
     "output_type": "display_data"
    }
   ],
   "source": [
    "import matplotlib.pyplot as plt\n",
    "A_data = lds_model.A.data.cpu().numpy()\n",
    "plt.hist(A_data, bins=100, alpha=0.75)\n",
    "plt.title('Histogram of lds.A')\n",
    "plt.xlabel('Value')\n",
    "plt.ylabel('Frequency')\n",
    "plt.show()"
   ]
  },
  {
   "cell_type": "code",
   "execution_count": 47,
   "metadata": {},
   "outputs": [
    {
     "name": "stdout",
     "output_type": "stream",
     "text": [
      "Percentage of values over 0.9: 32.96%\n"
     ]
    }
   ],
   "source": [
    "percent_over_0_9 = np.sum(A_data > 0.9) / len(A_data) * 100\n",
    "print(f\"Percentage of values over 0.9: {percent_over_0_9:.2f}%\")"
   ]
  },
  {
   "cell_type": "code",
   "execution_count": 27,
   "metadata": {},
   "outputs": [
    {
     "name": "stderr",
     "output_type": "stream",
     "text": [
      "2025-01-14 18:37:35,292 - INFO - Found 1 shards for split val\n"
     ]
    }
   ],
   "source": [
    "from dataloader import DataLoader\n",
    "\n",
    "val_loader = DataLoader(\n",
    "    bsz=1,\n",
    "    seq_len=seq_len, \n",
    "    dataset='./fineweb-edu', \n",
    "    split=\"val\", \n",
    "    main_process=True,\n",
    ")"
   ]
  },
  {
   "cell_type": "code",
   "execution_count": 28,
   "metadata": {},
   "outputs": [],
   "source": [
    "from torch.amp import autocast\n",
    "from torch.nn import CrossEntropyLoss\n",
    "\n",
    "def evaluate(model):\n",
    "    loss_fn = CrossEntropyLoss()\n",
    "    val_loss = 0.0\n",
    "    torch_dtype = getattr(torch, 'bfloat16')\n",
    "    val_steps = 5 # Arbitrarily set to reduce long evaluations, >20 typically used\n",
    "    model.eval()\n",
    "    val_loader.reset()\n",
    "    with torch.no_grad():\n",
    "        for i, batch in zip(range(val_steps), val_loader, strict=False):\n",
    "            inputs, targets = batch\n",
    "            inputs, targets = inputs.to(device), targets.to(device)\n",
    "            if torch_dtype != torch.float32:\n",
    "                with autocast(device_type=device.type, dtype=torch_dtype, cache_enabled=True):\n",
    "                    preds = model(inputs)\n",
    "            else:\n",
    "                preds = model(inputs)\n",
    "\n",
    "            loss = loss_fn(preds.flatten(0, 1), targets.flatten(0, 1))\n",
    "            loss = loss / val_steps\n",
    "            val_loss += loss.detach().float()\n",
    "    return(val_loss)"
   ]
  },
  {
   "cell_type": "code",
   "execution_count": 29,
   "metadata": {},
   "outputs": [
    {
     "data": {
      "text/plain": [
       "tensor(3.5156, device='cuda:0')"
      ]
     },
     "execution_count": 29,
     "metadata": {},
     "output_type": "execute_result"
    }
   ],
   "source": [
    "evaluate(model)"
   ]
  },
  {
   "cell_type": "code",
   "execution_count": 48,
   "metadata": {},
   "outputs": [
    {
     "data": {
      "text/plain": [
       "tensor(8.1719, device='cuda:0')"
      ]
     },
     "execution_count": 48,
     "metadata": {},
     "output_type": "execute_result"
    }
   ],
   "source": [
    "stu_save = copy.deepcopy(model.layers[0].stu)\n",
    "# model.layers[0].stu = lds.to(device)\n",
    "model.layers[0].stu = lds_model.to(device)\n",
    "evaluate(model)\n",
    "\n",
    "#FOR SOME REASON, THE NEW LDS underperforms"
   ]
  },
  {
   "cell_type": "code",
   "execution_count": 57,
   "metadata": {},
   "outputs": [
    {
     "name": "stdout",
     "output_type": "stream",
     "text": [
      "MSE Loss: 0.07866311073303223\n"
     ]
    }
   ],
   "source": [
    "import torch.nn as nn\n",
    "\n",
    "# Generate random input\n",
    "random_input = torch.randn(1, 1024, 768).to(device).to(torch.bfloat16)\n",
    "\n",
    "# Compute outputs from stu and lds_model\n",
    "stu.phi = stu.phi.to(torch.bfloat16)\n",
    "stu_output = stu(random_input)\n",
    "lds_model_output = lds_model(random_input.to(torch.float))\n",
    "\n",
    "# Compute MSE loss\n",
    "mse_loss_fn = nn.MSELoss()\n",
    "mse_loss = mse_loss_fn(stu_output, lds_model_output)\n",
    "\n",
    "print(f\"MSE Loss: {mse_loss.item()}\")"
   ]
  },
  {
   "cell_type": "code",
   "execution_count": 27,
   "metadata": {},
   "outputs": [
    {
     "data": {
      "text/plain": [
       "Parameter containing:\n",
       "tensor([0., 0., 0.,  ..., 0., 0., 0.], requires_grad=True)"
      ]
     },
     "execution_count": 27,
     "metadata": {},
     "output_type": "execute_result"
    }
   ],
   "source": [
    "new_lds.A"
   ]
  },
  {
   "cell_type": "code",
   "execution_count": 28,
   "metadata": {},
   "outputs": [
    {
     "data": {
      "text/plain": [
       "tensor(5.2266, device='cuda:0')"
      ]
     },
     "execution_count": 28,
     "metadata": {},
     "output_type": "execute_result"
    }
   ],
   "source": [
    "stu = copy.deepcopy(model.layers[0].stu)\n",
    "model.layers[0].stu = new_lds.to(device) #filtered, slow\n",
    "evaluate(model)\n",
    "\n",
    "#FOR SOME REASON, THE NEW LDS underperforms"
   ]
  },
  {
   "cell_type": "code",
   "execution_count": 115,
   "metadata": {},
   "outputs": [
    {
     "data": {
      "text/plain": [
       "tensor(9.6250, device='cuda:0')"
      ]
     },
     "execution_count": 115,
     "metadata": {},
     "output_type": "execute_result"
    }
   ],
   "source": [
    "stu = copy.deepcopy(model.layers[0].stu)\n",
    "model.layers[0].stu = new_lds_filtered.to(device) #filtered, fast\n",
    "evaluate(model)\n",
    "\n",
    "#FOR SOME REASON, THE NEW LDS underperforms"
   ]
  },
  {
   "cell_type": "code",
   "execution_count": 44,
   "metadata": {},
   "outputs": [],
   "source": [
    "inputs = inputs.to(torch.float)"
   ]
  },
  {
   "cell_type": "code",
   "execution_count": 47,
   "metadata": {},
   "outputs": [
    {
     "data": {
      "text/plain": [
       "torch.Size([1, 1024, 768])"
      ]
     },
     "execution_count": 47,
     "metadata": {},
     "output_type": "execute_result"
    }
   ],
   "source": [
    "inputs.shape"
   ]
  },
  {
   "cell_type": "code",
   "execution_count": 95,
   "metadata": {},
   "outputs": [],
   "source": [
    "new_lds_filtered = new_lds_filtered.to(device)"
   ]
  },
  {
   "cell_type": "code",
   "execution_count": 100,
   "metadata": {},
   "outputs": [],
   "source": [
    "h_t = new_lds_filtered.h0.expand(1, new_lds_filtered.state_dim).to(device)\n",
    "A = new_lds_filtered.A.flatten()\n",
    "all_h_t = []\n",
    "for t in range(1024):\n",
    "    u_t = inputs[:, t, :]\n",
    "    h_t = A * h_t + (u_t @ new_lds_filtered.B)\n",
    "    all_h_t.append(h_t.unsqueeze(1))\n",
    "all_h_t = torch.cat(all_h_t, dim=1)\n",
    "lds_out = torch.matmul(all_h_t, new_lds_filtered.C)\n",
    "new_ht = lds_out.clone()"
   ]
  },
  {
   "cell_type": "code",
   "execution_count": 109,
   "metadata": {},
   "outputs": [
    {
     "data": {
      "text/plain": [
       "tensor([[[-0.0559, -0.0489, -0.0393,  ..., -0.0129, -0.0298, -0.0301],\n",
       "         [ 0.0111,  0.1352, -0.0287,  ..., -0.1449,  0.0984, -0.0868],\n",
       "         [ 0.0075, -0.2174, -0.0297,  ...,  0.1494,  0.1317,  0.0024],\n",
       "         ...,\n",
       "         [-0.1460,  0.0488, -0.2218,  ..., -0.0125, -0.1097,  0.1176],\n",
       "         [-0.1231,  0.0952,  0.0334,  ..., -0.0448, -0.0257, -0.0463],\n",
       "         [-0.1197,  0.0074,  0.1675,  ..., -0.1491, -0.0926, -0.1805]]],\n",
       "       device='cuda:0', grad_fn=<AddBackward0>)"
      ]
     },
     "execution_count": 109,
     "metadata": {},
     "output_type": "execute_result"
    }
   ],
   "source": [
    "new_ht + compute_ar_x_preds(new_lds_filtered.M,inputs)"
   ]
  },
  {
   "cell_type": "code",
   "execution_count": 106,
   "metadata": {},
   "outputs": [],
   "source": [
    "lds_model= lds_model.to(device)"
   ]
  },
  {
   "cell_type": "code",
   "execution_count": 107,
   "metadata": {},
   "outputs": [],
   "source": [
    "h_t = lds_model.h0.expand(1, lds_model.state_dim).to(device)\n",
    "A = lds_model.A.flatten()\n",
    "all_h_t = []\n",
    "for t in range(1024):\n",
    "    u_t = inputs[:, t, :]\n",
    "    h_t = A * h_t + (u_t @ lds_model.B)\n",
    "    all_h_t.append(h_t.unsqueeze(1))\n",
    "all_h_t = torch.cat(all_h_t, dim=1)\n",
    "lds_out = torch.matmul(all_h_t, lds_model.C)"
   ]
  },
  {
   "cell_type": "code",
   "execution_count": 104,
   "metadata": {},
   "outputs": [
    {
     "data": {
      "text/plain": [
       "tensor([[[ 0.0369, -0.1756, -0.0140,  ..., -0.0095,  0.2034,  0.2664],\n",
       "         [-0.0109, -0.1869, -0.1448,  ..., -0.0877, -0.2060, -0.1952],\n",
       "         [-0.3321,  0.3115, -0.0473,  ..., -0.2979, -0.5652, -0.3678],\n",
       "         ...,\n",
       "         [-0.0103, -0.1460,  0.1361,  ..., -0.0476, -0.1077, -0.1046],\n",
       "         [-0.0336, -0.2587,  0.1905,  ...,  0.1077, -0.0199, -0.0399],\n",
       "         [ 0.1209, -0.1252, -0.2284,  ..., -0.1752, -0.1115,  0.1808]]],\n",
       "       device='cuda:0', grad_fn=<UnsafeViewBackward0>)"
      ]
     },
     "execution_count": 104,
     "metadata": {},
     "output_type": "execute_result"
    }
   ],
   "source": [
    "lds_out"
   ]
  },
  {
   "cell_type": "code",
   "execution_count": null,
   "metadata": {},
   "outputs": [],
   "source": [
    "# can we remove D\n",
    "# finetune model after residual\n",
    "# factorization\n",
    "# is gaussian most realistic input data (uniform?, from data)\n",
    "# greedy fitting\n",
    "\n",
    "#why does an LDS exist that fits the STU\n",
    "#why does gradient descent find it\n",
    "\n",
    "#stu filters are 24 dim subspace of R^L, this subclass captures LDSs,\n",
    "#  "
   ]
  },
  {
   "cell_type": "code",
   "execution_count": null,
   "metadata": {},
   "outputs": [],
   "source": []
  },
  {
   "cell_type": "code",
   "execution_count": 31,
   "metadata": {},
   "outputs": [
    {
     "data": {
      "text/plain": [
       "[tensor(-0.9963, device='cuda:0'),\n",
       " tensor(-0.9950, device='cuda:0'),\n",
       " tensor(-0.9950, device='cuda:0'),\n",
       " tensor(-0.9949, device='cuda:0'),\n",
       " tensor(-0.9948, device='cuda:0')]"
      ]
     },
     "execution_count": 31,
     "metadata": {},
     "output_type": "execute_result"
    }
   ],
   "source": [
    "sorted(lds.A.data)[:5]"
   ]
  },
  {
   "cell_type": "code",
   "execution_count": 32,
   "metadata": {},
   "outputs": [
    {
     "data": {
      "text/plain": [
       "[tensor(0.9945, device='cuda:0'),\n",
       " tensor(0.9948, device='cuda:0'),\n",
       " tensor(0.9958, device='cuda:0'),\n",
       " tensor(0.9960, device='cuda:0'),\n",
       " tensor(0.9960, device='cuda:0')]"
      ]
     },
     "execution_count": 32,
     "metadata": {},
     "output_type": "execute_result"
    }
   ],
   "source": [
    "sorted(lds.A.data)[-5:]"
   ]
  },
  {
   "cell_type": "code",
   "execution_count": null,
   "metadata": {},
   "outputs": [
    {
     "name": "stderr",
     "output_type": "stream",
     "text": [
      "C:\\Users\\devan\\AppData\\Local\\Temp\\ipykernel_21096\\3432883371.py:3: FutureWarning: You are using `torch.load` with `weights_only=False` (the current default value), which uses the default pickle module implicitly. It is possible to construct malicious pickle data which will execute arbitrary code during unpickling (See https://github.com/pytorch/pytorch/blob/main/SECURITY.md#untrusted-models for more details). In a future release, the default value for `weights_only` will be flipped to `True`. This limits the functions that could be executed during unpickling. Arbitrary objects will no longer be allowed to be loaded via this mode unless they are explicitly allowlisted by the user via `torch.serialization.add_safe_globals`. We recommend you start setting `weights_only=True` for any use case where you don't have full control of the loaded file. Please open an issue on GitHub for any issues related to this experimental feature.\n",
      "  lds_layer_0.load_state_dict(torch.load(\"./lds_layer_0.pt\"))\n",
      "C:\\Users\\devan\\AppData\\Local\\Temp\\ipykernel_21096\\3432883371.py:6: FutureWarning: You are using `torch.load` with `weights_only=False` (the current default value), which uses the default pickle module implicitly. It is possible to construct malicious pickle data which will execute arbitrary code during unpickling (See https://github.com/pytorch/pytorch/blob/main/SECURITY.md#untrusted-models for more details). In a future release, the default value for `weights_only` will be flipped to `True`. This limits the functions that could be executed during unpickling. Arbitrary objects will no longer be allowed to be loaded via this mode unless they are explicitly allowlisted by the user via `torch.serialization.add_safe_globals`. We recommend you start setting `weights_only=True` for any use case where you don't have full control of the loaded file. Please open an issue on GitHub for any issues related to this experimental feature.\n",
      "  lds_layer_2.load_state_dict(torch.load(\"./lds_layer_2.pt\"))\n",
      "C:\\Users\\devan\\AppData\\Local\\Temp\\ipykernel_21096\\3432883371.py:9: FutureWarning: You are using `torch.load` with `weights_only=False` (the current default value), which uses the default pickle module implicitly. It is possible to construct malicious pickle data which will execute arbitrary code during unpickling (See https://github.com/pytorch/pytorch/blob/main/SECURITY.md#untrusted-models for more details). In a future release, the default value for `weights_only` will be flipped to `True`. This limits the functions that could be executed during unpickling. Arbitrary objects will no longer be allowed to be loaded via this mode unless they are explicitly allowlisted by the user via `torch.serialization.add_safe_globals`. We recommend you start setting `weights_only=True` for any use case where you don't have full control of the loaded file. Please open an issue on GitHub for any issues related to this experimental feature.\n",
      "  lds_layer_4.load_state_dict(torch.load(\"./lds_layer_4.pt\"))\n"
     ]
    },
    {
     "name": "stdout",
     "output_type": "stream",
     "text": [
      "Validation Loss: 6.224609375\n"
     ]
    }
   ],
   "source": [
    "# Load LDS models for layers 0, 2, and 4\n",
    "\n",
    "lds_layer_0 = LDS(10000, 768, 768).to(device)\n",
    "lds_layer_0.load_state_dict(torch.load(\"./lds_layer_0.pt\"))\n",
    "\n",
    "lds_layer_2 = LDS(10000, 768, 768).to(device)\n",
    "lds_layer_2.load_state_dict(torch.load(\"./lds_layer_2.pt\"))\n",
    "\n",
    "lds_layer_4 = LDS(10000, 768, 768).to(device)\n",
    "lds_layer_4.load_state_dict(torch.load(\"./lds_layer_4.pt\"))\n",
    "\n",
    "# Substitute LDS models into model2\n",
    "model2.layers[0].stu = lds_layer_0\n",
    "model2.layers[2].stu = lds_layer_2\n",
    "model2.layers[4].stu = lds_layer_4\n",
    "\n",
    "# Run evaluation\n",
    "val_loss = evaluate(model2)\n",
    "print(f\"Validation Loss: {val_loss}\")"
   ]
  },
  {
   "cell_type": "code",
   "execution_count": 29,
   "metadata": {},
   "outputs": [
    {
     "name": "stdout",
     "output_type": "stream",
     "text": [
      "Validation Loss: 4.3359375\n"
     ]
    }
   ],
   "source": [
    "model2 =  copy.deepcopy(model)\n",
    "model2.layers[0].stu = lds_layer_0\n",
    "# model2.layers[2].stu = lds_layer_2\n",
    "model2.layers[4].stu = lds_layer_4\n",
    "val_loss = evaluate(model2)\n",
    "print(f\"Validation Loss: {val_loss}\")"
   ]
  },
  {
   "cell_type": "code",
   "execution_count": 23,
   "metadata": {},
   "outputs": [
    {
     "data": {
      "text/plain": [
       "tensor(3.8779, device='cuda:0')"
      ]
     },
     "execution_count": 23,
     "metadata": {},
     "output_type": "execute_result"
    }
   ],
   "source": [
    "evaluate(model)"
   ]
  },
  {
   "cell_type": "code",
   "execution_count": 24,
   "metadata": {},
   "outputs": [
    {
     "data": {
      "text/plain": [
       "FlashSTU(\n",
       "  (tok_emb): Embedding(200064, 768)\n",
       "  (dropout): Dropout(p=0.0, inplace=False)\n",
       "  (layers): ModuleList(\n",
       "    (0): STULayer(\n",
       "      (stu_norm): RMSNorm((768,), eps=None, elementwise_affine=True)\n",
       "      (stu): STU()\n",
       "      (mlp_norm): RMSNorm((768,), eps=None, elementwise_affine=True)\n",
       "      (mlp): MLP(\n",
       "        (gate_proj): Linear(in_features=768, out_features=9216, bias=False)\n",
       "        (up_proj): Linear(in_features=768, out_features=9216, bias=False)\n",
       "        (down_proj): Linear(in_features=9216, out_features=768, bias=False)\n",
       "        (dropout): Dropout(p=0.0, inplace=False)\n",
       "      )\n",
       "    )\n",
       "    (1): AttentionLayer(\n",
       "      (attn_norm): RMSNorm((768,), eps=None, elementwise_affine=True)\n",
       "      (attn): Attention(\n",
       "        (c_attn): Linear(in_features=768, out_features=2304, bias=False)\n",
       "        (c_proj): Linear(in_features=768, out_features=768, bias=False)\n",
       "        (resid_dropout): Dropout(p=0.0, inplace=False)\n",
       "      )\n",
       "      (mlp_norm): RMSNorm((768,), eps=None, elementwise_affine=True)\n",
       "      (mlp): MLP(\n",
       "        (gate_proj): Linear(in_features=768, out_features=9216, bias=False)\n",
       "        (up_proj): Linear(in_features=768, out_features=9216, bias=False)\n",
       "        (down_proj): Linear(in_features=9216, out_features=768, bias=False)\n",
       "        (dropout): Dropout(p=0.0, inplace=False)\n",
       "      )\n",
       "    )\n",
       "    (2): STULayer(\n",
       "      (stu_norm): RMSNorm((768,), eps=None, elementwise_affine=True)\n",
       "      (stu): STU()\n",
       "      (mlp_norm): RMSNorm((768,), eps=None, elementwise_affine=True)\n",
       "      (mlp): MLP(\n",
       "        (gate_proj): Linear(in_features=768, out_features=9216, bias=False)\n",
       "        (up_proj): Linear(in_features=768, out_features=9216, bias=False)\n",
       "        (down_proj): Linear(in_features=9216, out_features=768, bias=False)\n",
       "        (dropout): Dropout(p=0.0, inplace=False)\n",
       "      )\n",
       "    )\n",
       "    (3): AttentionLayer(\n",
       "      (attn_norm): RMSNorm((768,), eps=None, elementwise_affine=True)\n",
       "      (attn): Attention(\n",
       "        (c_attn): Linear(in_features=768, out_features=2304, bias=False)\n",
       "        (c_proj): Linear(in_features=768, out_features=768, bias=False)\n",
       "        (resid_dropout): Dropout(p=0.0, inplace=False)\n",
       "      )\n",
       "      (mlp_norm): RMSNorm((768,), eps=None, elementwise_affine=True)\n",
       "      (mlp): MLP(\n",
       "        (gate_proj): Linear(in_features=768, out_features=9216, bias=False)\n",
       "        (up_proj): Linear(in_features=768, out_features=9216, bias=False)\n",
       "        (down_proj): Linear(in_features=9216, out_features=768, bias=False)\n",
       "        (dropout): Dropout(p=0.0, inplace=False)\n",
       "      )\n",
       "    )\n",
       "    (4): STULayer(\n",
       "      (stu_norm): RMSNorm((768,), eps=None, elementwise_affine=True)\n",
       "      (stu): LDS()\n",
       "      (mlp_norm): RMSNorm((768,), eps=None, elementwise_affine=True)\n",
       "      (mlp): MLP(\n",
       "        (gate_proj): Linear(in_features=768, out_features=9216, bias=False)\n",
       "        (up_proj): Linear(in_features=768, out_features=9216, bias=False)\n",
       "        (down_proj): Linear(in_features=9216, out_features=768, bias=False)\n",
       "        (dropout): Dropout(p=0.0, inplace=False)\n",
       "      )\n",
       "    )\n",
       "    (5): AttentionLayer(\n",
       "      (attn_norm): RMSNorm((768,), eps=None, elementwise_affine=True)\n",
       "      (attn): Attention(\n",
       "        (c_attn): Linear(in_features=768, out_features=2304, bias=False)\n",
       "        (c_proj): Linear(in_features=768, out_features=768, bias=False)\n",
       "        (resid_dropout): Dropout(p=0.0, inplace=False)\n",
       "      )\n",
       "      (mlp_norm): RMSNorm((768,), eps=None, elementwise_affine=True)\n",
       "      (mlp): MLP(\n",
       "        (gate_proj): Linear(in_features=768, out_features=9216, bias=False)\n",
       "        (up_proj): Linear(in_features=768, out_features=9216, bias=False)\n",
       "        (down_proj): Linear(in_features=9216, out_features=768, bias=False)\n",
       "        (dropout): Dropout(p=0.0, inplace=False)\n",
       "      )\n",
       "    )\n",
       "    (6): STULayer(\n",
       "      (stu_norm): RMSNorm((768,), eps=None, elementwise_affine=True)\n",
       "      (stu): STU()\n",
       "      (mlp_norm): RMSNorm((768,), eps=None, elementwise_affine=True)\n",
       "      (mlp): MLP(\n",
       "        (gate_proj): Linear(in_features=768, out_features=9216, bias=False)\n",
       "        (up_proj): Linear(in_features=768, out_features=9216, bias=False)\n",
       "        (down_proj): Linear(in_features=9216, out_features=768, bias=False)\n",
       "        (dropout): Dropout(p=0.0, inplace=False)\n",
       "      )\n",
       "    )\n",
       "    (7): AttentionLayer(\n",
       "      (attn_norm): RMSNorm((768,), eps=None, elementwise_affine=True)\n",
       "      (attn): Attention(\n",
       "        (c_attn): Linear(in_features=768, out_features=2304, bias=False)\n",
       "        (c_proj): Linear(in_features=768, out_features=768, bias=False)\n",
       "        (resid_dropout): Dropout(p=0.0, inplace=False)\n",
       "      )\n",
       "      (mlp_norm): RMSNorm((768,), eps=None, elementwise_affine=True)\n",
       "      (mlp): MLP(\n",
       "        (gate_proj): Linear(in_features=768, out_features=9216, bias=False)\n",
       "        (up_proj): Linear(in_features=768, out_features=9216, bias=False)\n",
       "        (down_proj): Linear(in_features=9216, out_features=768, bias=False)\n",
       "        (dropout): Dropout(p=0.0, inplace=False)\n",
       "      )\n",
       "    )\n",
       "    (8): STULayer(\n",
       "      (stu_norm): RMSNorm((768,), eps=None, elementwise_affine=True)\n",
       "      (stu): STU()\n",
       "      (mlp_norm): RMSNorm((768,), eps=None, elementwise_affine=True)\n",
       "      (mlp): MLP(\n",
       "        (gate_proj): Linear(in_features=768, out_features=9216, bias=False)\n",
       "        (up_proj): Linear(in_features=768, out_features=9216, bias=False)\n",
       "        (down_proj): Linear(in_features=9216, out_features=768, bias=False)\n",
       "        (dropout): Dropout(p=0.0, inplace=False)\n",
       "      )\n",
       "    )\n",
       "    (9): AttentionLayer(\n",
       "      (attn_norm): RMSNorm((768,), eps=None, elementwise_affine=True)\n",
       "      (attn): Attention(\n",
       "        (c_attn): Linear(in_features=768, out_features=2304, bias=False)\n",
       "        (c_proj): Linear(in_features=768, out_features=768, bias=False)\n",
       "        (resid_dropout): Dropout(p=0.0, inplace=False)\n",
       "      )\n",
       "      (mlp_norm): RMSNorm((768,), eps=None, elementwise_affine=True)\n",
       "      (mlp): MLP(\n",
       "        (gate_proj): Linear(in_features=768, out_features=9216, bias=False)\n",
       "        (up_proj): Linear(in_features=768, out_features=9216, bias=False)\n",
       "        (down_proj): Linear(in_features=9216, out_features=768, bias=False)\n",
       "        (dropout): Dropout(p=0.0, inplace=False)\n",
       "      )\n",
       "    )\n",
       "    (10): STULayer(\n",
       "      (stu_norm): RMSNorm((768,), eps=None, elementwise_affine=True)\n",
       "      (stu): STU()\n",
       "      (mlp_norm): RMSNorm((768,), eps=None, elementwise_affine=True)\n",
       "      (mlp): MLP(\n",
       "        (gate_proj): Linear(in_features=768, out_features=9216, bias=False)\n",
       "        (up_proj): Linear(in_features=768, out_features=9216, bias=False)\n",
       "        (down_proj): Linear(in_features=9216, out_features=768, bias=False)\n",
       "        (dropout): Dropout(p=0.0, inplace=False)\n",
       "      )\n",
       "    )\n",
       "    (11): AttentionLayer(\n",
       "      (attn_norm): RMSNorm((768,), eps=None, elementwise_affine=True)\n",
       "      (attn): Attention(\n",
       "        (c_attn): Linear(in_features=768, out_features=2304, bias=False)\n",
       "        (c_proj): Linear(in_features=768, out_features=768, bias=False)\n",
       "        (resid_dropout): Dropout(p=0.0, inplace=False)\n",
       "      )\n",
       "      (mlp_norm): RMSNorm((768,), eps=None, elementwise_affine=True)\n",
       "      (mlp): MLP(\n",
       "        (gate_proj): Linear(in_features=768, out_features=9216, bias=False)\n",
       "        (up_proj): Linear(in_features=768, out_features=9216, bias=False)\n",
       "        (down_proj): Linear(in_features=9216, out_features=768, bias=False)\n",
       "        (dropout): Dropout(p=0.0, inplace=False)\n",
       "      )\n",
       "    )\n",
       "  )\n",
       "  (norm): RMSNorm((768,), eps=None, elementwise_affine=True)\n",
       "  (lm_head): Linear(in_features=768, out_features=200064, bias=False)\n",
       ")"
      ]
     },
     "execution_count": 24,
     "metadata": {},
     "output_type": "execute_result"
    }
   ],
   "source": [
    "model"
   ]
  },
  {
   "cell_type": "code",
   "execution_count": 25,
   "metadata": {},
   "outputs": [],
   "source": [
    "model.layers[4].stu = stu"
   ]
  },
  {
   "cell_type": "code",
   "execution_count": 26,
   "metadata": {},
   "outputs": [
    {
     "data": {
      "text/plain": [
       "FlashSTU(\n",
       "  (tok_emb): Embedding(200064, 768)\n",
       "  (dropout): Dropout(p=0.0, inplace=False)\n",
       "  (layers): ModuleList(\n",
       "    (0): STULayer(\n",
       "      (stu_norm): RMSNorm((768,), eps=None, elementwise_affine=True)\n",
       "      (stu): STU()\n",
       "      (mlp_norm): RMSNorm((768,), eps=None, elementwise_affine=True)\n",
       "      (mlp): MLP(\n",
       "        (gate_proj): Linear(in_features=768, out_features=9216, bias=False)\n",
       "        (up_proj): Linear(in_features=768, out_features=9216, bias=False)\n",
       "        (down_proj): Linear(in_features=9216, out_features=768, bias=False)\n",
       "        (dropout): Dropout(p=0.0, inplace=False)\n",
       "      )\n",
       "    )\n",
       "    (1): AttentionLayer(\n",
       "      (attn_norm): RMSNorm((768,), eps=None, elementwise_affine=True)\n",
       "      (attn): Attention(\n",
       "        (c_attn): Linear(in_features=768, out_features=2304, bias=False)\n",
       "        (c_proj): Linear(in_features=768, out_features=768, bias=False)\n",
       "        (resid_dropout): Dropout(p=0.0, inplace=False)\n",
       "      )\n",
       "      (mlp_norm): RMSNorm((768,), eps=None, elementwise_affine=True)\n",
       "      (mlp): MLP(\n",
       "        (gate_proj): Linear(in_features=768, out_features=9216, bias=False)\n",
       "        (up_proj): Linear(in_features=768, out_features=9216, bias=False)\n",
       "        (down_proj): Linear(in_features=9216, out_features=768, bias=False)\n",
       "        (dropout): Dropout(p=0.0, inplace=False)\n",
       "      )\n",
       "    )\n",
       "    (2): STULayer(\n",
       "      (stu_norm): RMSNorm((768,), eps=None, elementwise_affine=True)\n",
       "      (stu): STU()\n",
       "      (mlp_norm): RMSNorm((768,), eps=None, elementwise_affine=True)\n",
       "      (mlp): MLP(\n",
       "        (gate_proj): Linear(in_features=768, out_features=9216, bias=False)\n",
       "        (up_proj): Linear(in_features=768, out_features=9216, bias=False)\n",
       "        (down_proj): Linear(in_features=9216, out_features=768, bias=False)\n",
       "        (dropout): Dropout(p=0.0, inplace=False)\n",
       "      )\n",
       "    )\n",
       "    (3): AttentionLayer(\n",
       "      (attn_norm): RMSNorm((768,), eps=None, elementwise_affine=True)\n",
       "      (attn): Attention(\n",
       "        (c_attn): Linear(in_features=768, out_features=2304, bias=False)\n",
       "        (c_proj): Linear(in_features=768, out_features=768, bias=False)\n",
       "        (resid_dropout): Dropout(p=0.0, inplace=False)\n",
       "      )\n",
       "      (mlp_norm): RMSNorm((768,), eps=None, elementwise_affine=True)\n",
       "      (mlp): MLP(\n",
       "        (gate_proj): Linear(in_features=768, out_features=9216, bias=False)\n",
       "        (up_proj): Linear(in_features=768, out_features=9216, bias=False)\n",
       "        (down_proj): Linear(in_features=9216, out_features=768, bias=False)\n",
       "        (dropout): Dropout(p=0.0, inplace=False)\n",
       "      )\n",
       "    )\n",
       "    (4): STULayer(\n",
       "      (stu_norm): RMSNorm((768,), eps=None, elementwise_affine=True)\n",
       "      (stu): LDS()\n",
       "      (mlp_norm): RMSNorm((768,), eps=None, elementwise_affine=True)\n",
       "      (mlp): MLP(\n",
       "        (gate_proj): Linear(in_features=768, out_features=9216, bias=False)\n",
       "        (up_proj): Linear(in_features=768, out_features=9216, bias=False)\n",
       "        (down_proj): Linear(in_features=9216, out_features=768, bias=False)\n",
       "        (dropout): Dropout(p=0.0, inplace=False)\n",
       "      )\n",
       "    )\n",
       "    (5): AttentionLayer(\n",
       "      (attn_norm): RMSNorm((768,), eps=None, elementwise_affine=True)\n",
       "      (attn): Attention(\n",
       "        (c_attn): Linear(in_features=768, out_features=2304, bias=False)\n",
       "        (c_proj): Linear(in_features=768, out_features=768, bias=False)\n",
       "        (resid_dropout): Dropout(p=0.0, inplace=False)\n",
       "      )\n",
       "      (mlp_norm): RMSNorm((768,), eps=None, elementwise_affine=True)\n",
       "      (mlp): MLP(\n",
       "        (gate_proj): Linear(in_features=768, out_features=9216, bias=False)\n",
       "        (up_proj): Linear(in_features=768, out_features=9216, bias=False)\n",
       "        (down_proj): Linear(in_features=9216, out_features=768, bias=False)\n",
       "        (dropout): Dropout(p=0.0, inplace=False)\n",
       "      )\n",
       "    )\n",
       "    (6): STULayer(\n",
       "      (stu_norm): RMSNorm((768,), eps=None, elementwise_affine=True)\n",
       "      (stu): STU()\n",
       "      (mlp_norm): RMSNorm((768,), eps=None, elementwise_affine=True)\n",
       "      (mlp): MLP(\n",
       "        (gate_proj): Linear(in_features=768, out_features=9216, bias=False)\n",
       "        (up_proj): Linear(in_features=768, out_features=9216, bias=False)\n",
       "        (down_proj): Linear(in_features=9216, out_features=768, bias=False)\n",
       "        (dropout): Dropout(p=0.0, inplace=False)\n",
       "      )\n",
       "    )\n",
       "    (7): AttentionLayer(\n",
       "      (attn_norm): RMSNorm((768,), eps=None, elementwise_affine=True)\n",
       "      (attn): Attention(\n",
       "        (c_attn): Linear(in_features=768, out_features=2304, bias=False)\n",
       "        (c_proj): Linear(in_features=768, out_features=768, bias=False)\n",
       "        (resid_dropout): Dropout(p=0.0, inplace=False)\n",
       "      )\n",
       "      (mlp_norm): RMSNorm((768,), eps=None, elementwise_affine=True)\n",
       "      (mlp): MLP(\n",
       "        (gate_proj): Linear(in_features=768, out_features=9216, bias=False)\n",
       "        (up_proj): Linear(in_features=768, out_features=9216, bias=False)\n",
       "        (down_proj): Linear(in_features=9216, out_features=768, bias=False)\n",
       "        (dropout): Dropout(p=0.0, inplace=False)\n",
       "      )\n",
       "    )\n",
       "    (8): STULayer(\n",
       "      (stu_norm): RMSNorm((768,), eps=None, elementwise_affine=True)\n",
       "      (stu): STU()\n",
       "      (mlp_norm): RMSNorm((768,), eps=None, elementwise_affine=True)\n",
       "      (mlp): MLP(\n",
       "        (gate_proj): Linear(in_features=768, out_features=9216, bias=False)\n",
       "        (up_proj): Linear(in_features=768, out_features=9216, bias=False)\n",
       "        (down_proj): Linear(in_features=9216, out_features=768, bias=False)\n",
       "        (dropout): Dropout(p=0.0, inplace=False)\n",
       "      )\n",
       "    )\n",
       "    (9): AttentionLayer(\n",
       "      (attn_norm): RMSNorm((768,), eps=None, elementwise_affine=True)\n",
       "      (attn): Attention(\n",
       "        (c_attn): Linear(in_features=768, out_features=2304, bias=False)\n",
       "        (c_proj): Linear(in_features=768, out_features=768, bias=False)\n",
       "        (resid_dropout): Dropout(p=0.0, inplace=False)\n",
       "      )\n",
       "      (mlp_norm): RMSNorm((768,), eps=None, elementwise_affine=True)\n",
       "      (mlp): MLP(\n",
       "        (gate_proj): Linear(in_features=768, out_features=9216, bias=False)\n",
       "        (up_proj): Linear(in_features=768, out_features=9216, bias=False)\n",
       "        (down_proj): Linear(in_features=9216, out_features=768, bias=False)\n",
       "        (dropout): Dropout(p=0.0, inplace=False)\n",
       "      )\n",
       "    )\n",
       "    (10): STULayer(\n",
       "      (stu_norm): RMSNorm((768,), eps=None, elementwise_affine=True)\n",
       "      (stu): STU()\n",
       "      (mlp_norm): RMSNorm((768,), eps=None, elementwise_affine=True)\n",
       "      (mlp): MLP(\n",
       "        (gate_proj): Linear(in_features=768, out_features=9216, bias=False)\n",
       "        (up_proj): Linear(in_features=768, out_features=9216, bias=False)\n",
       "        (down_proj): Linear(in_features=9216, out_features=768, bias=False)\n",
       "        (dropout): Dropout(p=0.0, inplace=False)\n",
       "      )\n",
       "    )\n",
       "    (11): AttentionLayer(\n",
       "      (attn_norm): RMSNorm((768,), eps=None, elementwise_affine=True)\n",
       "      (attn): Attention(\n",
       "        (c_attn): Linear(in_features=768, out_features=2304, bias=False)\n",
       "        (c_proj): Linear(in_features=768, out_features=768, bias=False)\n",
       "        (resid_dropout): Dropout(p=0.0, inplace=False)\n",
       "      )\n",
       "      (mlp_norm): RMSNorm((768,), eps=None, elementwise_affine=True)\n",
       "      (mlp): MLP(\n",
       "        (gate_proj): Linear(in_features=768, out_features=9216, bias=False)\n",
       "        (up_proj): Linear(in_features=768, out_features=9216, bias=False)\n",
       "        (down_proj): Linear(in_features=9216, out_features=768, bias=False)\n",
       "        (dropout): Dropout(p=0.0, inplace=False)\n",
       "      )\n",
       "    )\n",
       "  )\n",
       "  (norm): RMSNorm((768,), eps=None, elementwise_affine=True)\n",
       "  (lm_head): Linear(in_features=768, out_features=200064, bias=False)\n",
       ")"
      ]
     },
     "execution_count": 26,
     "metadata": {},
     "output_type": "execute_result"
    }
   ],
   "source": [
    "model"
   ]
  },
  {
   "cell_type": "code",
   "execution_count": null,
   "metadata": {},
   "outputs": [],
   "source": []
  }
 ],
 "metadata": {
  "kernelspec": {
   "display_name": "flashstu",
   "language": "python",
   "name": "python3"
  },
  "language_info": {
   "codemirror_mode": {
    "name": "ipython",
    "version": 3
   },
   "file_extension": ".py",
   "mimetype": "text/x-python",
   "name": "python",
   "nbconvert_exporter": "python",
   "pygments_lexer": "ipython3",
   "version": "3.12.5"
  }
 },
 "nbformat": 4,
 "nbformat_minor": 2
}
