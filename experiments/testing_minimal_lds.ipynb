{
 "cells": [
  {
   "cell_type": "code",
   "execution_count": 1,
   "metadata": {},
   "outputs": [],
   "source": [
    "import sys\n",
    "import os\n",
    "sys.path.append(os.path.abspath(\"../src\"))"
   ]
  },
  {
   "cell_type": "code",
   "execution_count": 2,
   "metadata": {},
   "outputs": [
    {
     "name": "stdout",
     "output_type": "stream",
     "text": [
      "Unable to import FlashFFTConv: No module named 'flashfftconv'. Falling back to PyTorch implementation.\n"
     ]
    }
   ],
   "source": [
    "import argparse\n",
    "import torch\n",
    "from torch import nn\n",
    "import matplotlib.pyplot as plt\n",
    "from stu import STU\n",
    "import time\n",
    "import random"
   ]
  },
  {
   "cell_type": "code",
   "execution_count": 4,
   "metadata": {},
   "outputs": [],
   "source": [
    "def exponential_decay_init(size, lam=5.0):\n",
    "    \"\"\"\n",
    "    Samples from an exponential distribution with rate lam, \n",
    "    then clips at 1, does (1 - clipped_value),\n",
    "    and finally multiplies by ±1 with probability 1/2.\n",
    "    \"\"\"\n",
    "    # 1) Sample uniform [0,1], convert to exponential\n",
    "    u = torch.rand(size)\n",
    "    x = -1.0 / lam * torch.log(1 - u)  # Exponential(λ = lam)\n",
    "\n",
    "    # 2) Clip at 1\n",
    "    x = torch.clamp(x, max=1.0)\n",
    "\n",
    "    # 3) Subtract from 1 (to be nea.r 1 for small x)\n",
    "    x = 1.0 - x  # Now we have distribution mostly near 1 for large lam\n",
    "\n",
    "    # 4) Multiply by ±1 with prob 1/2\n",
    "    sign = torch.sign(torch.randn(size))\n",
    "    return x * sign\n",
    "\n",
    "def compute_ar_x_preds(w: torch.Tensor, x: torch.Tensor) -> torch.Tensor:\n",
    "    d_out, d_in, k = w.shape\n",
    "    b, l, d_in_x = x.shape\n",
    "    assert d_in == d_in_x, (\n",
    "        f\"Dimension mismatch: w.shape={w.shape}, x.shape={x.shape}\"\n",
    "    )\n",
    "\n",
    "    o = torch.einsum(\"oik,bli->bklo\", w, x)\n",
    "\n",
    "    for i in range(k):\n",
    "        o[:, i] = torch.roll(o[:, i], shifts=i, dims=1)\n",
    "\n",
    "    m = torch.triu(torch.ones(k, l, dtype=o.dtype, device=o.device))  # [k, l]\n",
    "    m = m.unsqueeze(-1).repeat(1, 1, d_out)  # [k, l, d_out]\n",
    "\n",
    "    ar_x_preds = torch.sum(o * m, dim=1)  # now shape is [b, l, d_out]\n",
    "\n",
    "    return ar_x_preds\n",
    "\n",
    "class LDS(nn.Module):\n",
    "    def __init__(self, state_dim, input_dim, output_dim, kx=10):\n",
    "        super(LDS, self).__init__()\n",
    "        self.state_dim = state_dim\n",
    "        self.input_dim = input_dim\n",
    "        self.output_dim = output_dim\n",
    "        self.kx = kx\n",
    "        self.h0 = nn.Parameter(torch.randn(state_dim))\n",
    "        # init_A = torch.randn(state_dim)\n",
    "        # self.A = nn.Parameter(init_A / torch.max(torch.abs(init_A)))\n",
    "\n",
    "        # self.A = nn.Parameter((torch.rand(state_dim) * 0.2 + 0.8) * torch.sign(torch.randn(state_dim)))\n",
    "        self.A = nn.Parameter(exponential_decay_init([state_dim], lam = 15))\n",
    "        self.B = nn.Parameter(torch.randn(input_dim, state_dim) / input_dim)\n",
    "        self.C = nn.Parameter(torch.randn(state_dim, output_dim) / state_dim)\n",
    "        self.M = nn.Parameter(torch.randn(output_dim, input_dim, kx) / (output_dim))\n",
    "\n",
    "    def forward(self, inputs):\n",
    "        device = inputs.device\n",
    "        bsz, seq_len, _ = inputs.shape\n",
    "        h_t = self.h0.expand(bsz, self.state_dim).to(device)\n",
    "        A = self.A.flatten()\n",
    "        all_h_t = []\n",
    "        for t in range(seq_len):\n",
    "            u_t = inputs[:, t, :]\n",
    "            h_t = A * h_t + (u_t @ self.B)\n",
    "            all_h_t.append(h_t.unsqueeze(1))\n",
    "        all_h_t = torch.cat(all_h_t, dim=1)\n",
    "        lds_out = torch.matmul(all_h_t, self.C)\n",
    "\n",
    "        ar = compute_ar_x_preds(self.M, inputs)\n",
    "        return lds_out + ar\n",
    "\n",
    "    def compute_loss(self, inputs, targets):\n",
    "        mse_loss = nn.MSELoss()\n",
    "        outputs = self(inputs)\n",
    "        return mse_loss(outputs, targets)"
   ]
  },
  {
   "cell_type": "code",
   "execution_count": 8,
   "metadata": {},
   "outputs": [
    {
     "name": "stderr",
     "output_type": "stream",
     "text": [
      "/var/folders/42/5cczn_jx4454n6fvhcg5qbjw0000gn/T/ipykernel_83753/3556665184.py:13: FutureWarning: You are using `torch.load` with `weights_only=False` (the current default value), which uses the default pickle module implicitly. It is possible to construct malicious pickle data which will execute arbitrary code during unpickling (See https://github.com/pytorch/pytorch/blob/main/SECURITY.md#untrusted-models for more details). In a future release, the default value for `weights_only` will be flipped to `True`. This limits the functions that could be executed during unpickling. Arbitrary objects will no longer be allowed to be loaded via this mode unless they are explicitly allowlisted by the user via `torch.serialization.add_safe_globals`. We recommend you start setting `weights_only=True` for any use case where you don't have full control of the loaded file. Please open an issue on GitHub for any issues related to this experimental feature.\n",
      "  stu_layer_full = torch.load(f\"../stu_layers/stu_layer_{layer_i}_500m_param_full.pt\", map_location=torch.device('cpu'))\n",
      "/opt/homebrew/anaconda3/envs/flashstu/lib/python3.12/site-packages/tqdm/auto.py:21: TqdmWarning: IProgress not found. Please update jupyter and ipywidgets. See https://ipywidgets.readthedocs.io/en/stable/user_install.html\n",
      "  from .autonotebook import tqdm as notebook_tqdm\n"
     ]
    }
   ],
   "source": [
    "layer_i = 0\n",
    "state_dim = 768\n",
    "batch_size = 10\n",
    "epochs = 4000\n",
    "seq_len = 1024\n",
    "kx = 10\n",
    "lr = 0.0001\n",
    "\n",
    "# Device setup\n",
    "device = torch.device(\"cuda\" if torch.cuda.is_available() else \"cpu\")\n",
    "\n",
    "# Load the layer i weights\n",
    "stu_layer_full = torch.load(f\"../stu_layers/stu_layer_{layer_i}_500m_param_full.pt\", map_location=torch.device('cpu'))\n",
    "stu_layer_full.to(device)\n",
    "\n",
    "# Initialize LDS model\n",
    "lds = LDS(state_dim, 768, 768, kx).to(device)\n",
    "optimizer = torch.optim.Adam(lds.parameters(), lr=lr)\n",
    "\n",
    "# Training\n",
    "lds_loss_values = []\n",
    "\n",
    "best_loss = float('inf')"
   ]
  },
  {
   "cell_type": "code",
   "execution_count": 9,
   "metadata": {},
   "outputs": [
    {
     "name": "stdout",
     "output_type": "stream",
     "text": [
      "Epoch 0, Loss: 0.1116056740283966\n",
      "Epoch 10, Loss: 0.0946127325296402\n",
      "Epoch 20, Loss: 0.08109938353300095\n",
      "Epoch 30, Loss: 0.07006219029426575\n"
     ]
    }
   ],
   "source": [
    "for epoch in range(epochs):\n",
    "    inputs = torch.randn(batch_size, seq_len, 768).to(device).to(torch.bfloat16)\n",
    "    stu_outputs = stu_layer_full(inputs).to(device)\n",
    "\n",
    "    optimizer.zero_grad()\n",
    "    loss = lds.compute_loss(inputs.to(stu_outputs.dtype), stu_outputs)\n",
    "    loss.backward()\n",
    "    torch.nn.utils.clip_grad_norm_(lds.parameters(), max_norm=1)\n",
    "    lds_loss_values.append(loss.item())\n",
    "    optimizer.step()\n",
    "\n",
    "    with torch.no_grad():\n",
    "        lds.A.data.clamp_(max=1, min=-1)\n",
    "\n",
    "    if epoch % 10 == 0:\n",
    "        print(f\"Epoch {epoch}, Loss: {loss.item()}\")"
   ]
  },
  {
   "cell_type": "code",
   "execution_count": null,
   "metadata": {},
   "outputs": [],
   "source": []
  }
 ],
 "metadata": {
  "kernelspec": {
   "display_name": "flashstu",
   "language": "python",
   "name": "python3"
  },
  "language_info": {
   "codemirror_mode": {
    "name": "ipython",
    "version": 3
   },
   "file_extension": ".py",
   "mimetype": "text/x-python",
   "name": "python",
   "nbconvert_exporter": "python",
   "pygments_lexer": "ipython3",
   "version": "3.12.5"
  }
 },
 "nbformat": 4,
 "nbformat_minor": 2
}
