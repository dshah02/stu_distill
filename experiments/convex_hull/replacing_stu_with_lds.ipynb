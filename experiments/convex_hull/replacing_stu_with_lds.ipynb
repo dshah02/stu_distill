{
 "cells": [
  {
   "cell_type": "code",
   "execution_count": 1,
   "metadata": {},
   "outputs": [],
   "source": [
    "import sys\n",
    "import os\n",
    "sys.path.append(os.path.abspath(\"../../src\"))"
   ]
  },
  {
   "cell_type": "code",
   "execution_count": 2,
   "metadata": {},
   "outputs": [],
   "source": [
    "import torch\n",
    "import torch.nn as nn\n",
    "import torch.nn.functional  as  F\n",
    "import math\n",
    "import numpy as np\n",
    "\n",
    "device = torch.device(\"cuda\"  if torch.cuda.is_available() else \"cpu\")"
   ]
  },
  {
   "cell_type": "code",
   "execution_count": 3,
   "metadata": {},
   "outputs": [
    {
     "name": "stdout",
     "output_type": "stream",
     "text": [
      "Unable to import FlashFFTConv: No module named 'flashfftconv'. Falling back to PyTorch implementation.\n"
     ]
    }
   ],
   "source": [
    "from convolve import convolve, nearest_power_of_two\n",
    "from stu import STU\n",
    "from lds_utils import compute_ar_x_preds, compute_ar_x_preds_hard\n",
    "from lds import LDS"
   ]
  },
  {
   "cell_type": "code",
   "execution_count": 4,
   "metadata": {},
   "outputs": [],
   "source": [
    "flash_fft_available = False\n",
    "dtype = torch.bfloat16 if flash_fft_available else torch.float32\n",
    "\n",
    "use_hankel_L  = False\n",
    "phi = torch.tensor(np.load('spectral_filters.npy')).to(device).to(dtype)\n",
    "seq_len, num_eigh = 8192, 24    \n",
    "# phi= get_spectral_filters(seq_len = seq_len, K = num_eigh,  use_hankel_L= use_hankel_L, device  = device,  dtype = torch.float32)\n",
    "#I have checked that phi from the file and from get_spectral_filters are the same up to precision and sign\n",
    "n = nearest_power_of_two(seq_len * 2 - 1, round_up=True)\n",
    "\n",
    "class Config:\n",
    "    def __init__(self):\n",
    "        self.num_eigh = num_eigh\n",
    "        self.use_hankel_L = use_hankel_L\n",
    "        self.torch_dtype = dtype\n",
    "        self.n_embd = 10  # d_in and d_out\n",
    "        self.seq_len = seq_len\n",
    "        self.k_u = 0\n",
    "        self.use_flash_fft = flash_fft_available\n",
    "        self.use_approx = False\n",
    "\n",
    "stu_config = Config()\n"
   ]
  },
  {
   "cell_type": "code",
   "execution_count": 5,
   "metadata": {},
   "outputs": [
    {
     "name": "stdout",
     "output_type": "stream",
     "text": [
      "Loaded 216 LDS models\n"
     ]
    }
   ],
   "source": [
    "# Define the path to the saved data\n",
    "save_dir = \"fit_filters_216\"\n",
    "\n",
    "combined_weights = np.load(os.path.join(save_dir, \"optimized_weights.npy\"))\n",
    "\n",
    "# Load the saved LDS models\n",
    "lds_params = []\n",
    "\n",
    "# Path to the saved LDS models\n",
    "lds_models_dir = save_dir\n",
    "\n",
    "# Load all 488 LDS models\n",
    "for i in range(480):\n",
    "    model_path = os.path.join(lds_models_dir, f\"lds_model_{i}.pth\")\n",
    "    if os.path.exists(model_path):\n",
    "        # Load the model with weights_only=True to avoid security warnings\n",
    "        model_state = torch.load(model_path, weights_only=True)\n",
    "        new_lds = LDS(1, 1, 1, 0)\n",
    "        new_lds.load_state_dict(model_state)\n",
    "        lds_params.append(new_lds)\n",
    "    \n",
    "\n",
    "print(f\"Loaded {len(lds_params)} LDS models\")\n"
   ]
  },
  {
   "cell_type": "code",
   "execution_count": 6,
   "metadata": {},
   "outputs": [
    {
     "name": "stdout",
     "output_type": "stream",
     "text": [
      "Stacked A shape: torch.Size([216, 1])\n",
      "Stacked B shape: torch.Size([216, 1, 1])\n",
      "Stacked C shape: torch.Size([216, 1, 1])\n"
     ]
    }
   ],
   "source": [
    "# Extract A, B, and C matrices from all LDS models\n",
    "A_matrices = []\n",
    "B_matrices = []\n",
    "C_matrices = []\n",
    "\n",
    "for lds in lds_params:\n",
    "    # Extract parameters from each LDS model\n",
    "    A_matrices.append(lds.A.detach().clone())\n",
    "    B_matrices.append(lds.B.detach().clone())\n",
    "    C_matrices.append(lds.C.detach().clone())\n",
    "\n",
    "# Stack all matrices\n",
    "stacked_A = torch.stack(A_matrices)\n",
    "stacked_B = torch.stack(B_matrices)\n",
    "stacked_C = torch.stack(C_matrices)\n",
    "\n",
    "# Print shapes to verify\n",
    "print(f\"Stacked A shape: {stacked_A.shape}\")\n",
    "print(f\"Stacked B shape: {stacked_B.shape}\")\n",
    "print(f\"Stacked C shape: {stacked_C.shape}\")\n",
    "\n",
    "\n",
    "BC = (stacked_B * stacked_C).reshape(-1)\n",
    "A = stacked_A.reshape(-1)\n"
   ]
  },
  {
   "cell_type": "code",
   "execution_count": 7,
   "metadata": {},
   "outputs": [],
   "source": [
    "stu = STU(stu_config, phi, n) #input dim 10, output dim 10\n"
   ]
  },
  {
   "cell_type": "code",
   "execution_count": 8,
   "metadata": {},
   "outputs": [],
   "source": [
    "#so naive implementation has an LDS for every coordinate pair\n",
    "#smarter implementation just has an LDS for each coordinate and different matrix output"
   ]
  },
  {
   "cell_type": "code",
   "execution_count": 11,
   "metadata": {},
   "outputs": [
    {
     "name": "stderr",
     "output_type": "stream",
     "text": [
      "/var/folders/42/5cczn_jx4454n6fvhcg5qbjw0000gn/T/ipykernel_26073/3253486696.py:3: UserWarning: To copy construct from a tensor, it is recommended to use sourceTensor.clone().detach() or sourceTensor.clone().detach().requires_grad_(True), rather than torch.tensor(sourceTensor).\n",
      "  A_tensor = torch.tensor(A, dtype=torch.float64)\n",
      "/var/folders/42/5cczn_jx4454n6fvhcg5qbjw0000gn/T/ipykernel_26073/3253486696.py:4: UserWarning: To copy construct from a tensor, it is recommended to use sourceTensor.clone().detach() or sourceTensor.clone().detach().requires_grad_(True), rather than torch.tensor(sourceTensor).\n",
      "  BC_tensor = torch.tensor(BC, dtype=torch.float64)\n",
      "/var/folders/42/5cczn_jx4454n6fvhcg5qbjw0000gn/T/ipykernel_26073/3253486696.py:5: UserWarning: To copy construct from a tensor, it is recommended to use sourceTensor.clone().detach() or sourceTensor.clone().detach().requires_grad_(True), rather than torch.tensor(sourceTensor).\n",
      "  combined_weights = torch.tensor(combined_weights, dtype=torch.float64)\n"
     ]
    }
   ],
   "source": [
    "# Create tensors for LDS parameters\n",
    "#WILL HAVE A PRECISION ERROR if not torch.float64\n",
    "A_tensor = torch.tensor(A, dtype=torch.float64)\n",
    "BC_tensor = torch.tensor(BC, dtype=torch.float64)\n",
    "combined_weights = torch.tensor(combined_weights, dtype=torch.float64)\n",
    "\n",
    "# Load an LDS with input dim 1 and output dim 48\n",
    "lds_model = LDS(A_tensor.shape[0], input_dim=1, output_dim=48, kx = 10, dtype =torch.float64)\n",
    "lds_model.A.data = A_tensor.to(torch.float64)\n",
    "lds_model.B.data  = BC_tensor.unsqueeze(dim = 0).to(torch.float64)\n",
    "lds_model.C.data = combined_weights.to(torch.float64)\n",
    "lds_model.h0.data = torch.zeros_like(lds_model.h0.data).to(torch.float64)\n",
    "lds_model.M.data = torch.zeros_like(lds_model.M.data).to(torch.float64)\n"
   ]
  },
  {
   "cell_type": "code",
   "execution_count": 12,
   "metadata": {},
   "outputs": [],
   "source": [
    "seq_len = stu_config.seq_len\n",
    "alternating_signs = np.array([1, -1] * (seq_len // 2))\n",
    "\n",
    "\n",
    "phi_alt = phi.clone().to(torch.float64)\n",
    "for i in range(phi_alt.shape[0]):\n",
    "    phi_alt[i] = phi[i] * alternating_signs[i]\n",
    "\n",
    "phi_all = torch.concat([phi.to(torch.float64), phi_alt], axis = -1)"
   ]
  },
  {
   "cell_type": "code",
   "execution_count": 13,
   "metadata": {},
   "outputs": [],
   "source": [
    "impulse_gap = phi_all[:10] - lds_model.impulse()[:10, : ,0]\n",
    "lds_model.M.data= impulse_gap.T.unsqueeze(1).to(torch.float64)"
   ]
  },
  {
   "cell_type": "code",
   "execution_count": 14,
   "metadata": {},
   "outputs": [],
   "source": [
    "class FastSTU(nn.Module):\n",
    "    def __init__(self, config, lds) -> None:\n",
    "        super(FastSTU, self).__init__()\n",
    "        self.config = config\n",
    "        \n",
    "        self.n = nearest_power_of_two(config.seq_len * 2 - 1, round_up=True)\n",
    "        self.K = config.num_eigh\n",
    "        self.d_in = config.n_embd\n",
    "        self.d_out = config.n_embd\n",
    "        self.use_hankel_L = config.use_hankel_L\n",
    "        self.use_approx = False\n",
    "        self.k_u = config.k_u\n",
    "        self.lds = lds\n",
    "\n",
    "        self.M = nn.Parameter(torch.randn(self.d_out, self.d_in, self.k_u, dtype=config.torch_dtype) / self.d_in)\n",
    "        \n",
    "        self.M_phi_plus = nn.Parameter(\n",
    "            torch.randn(self.K, self.d_in, self.d_out, dtype=config.torch_dtype) / 10\n",
    "        )\n",
    "\n",
    "        self.M_phi_minus = nn.Parameter(\n",
    "            torch.randn(self.K, self.d_in, self.d_out, dtype=config.torch_dtype) / 10\n",
    "        )\n",
    "\n",
    "    def forward(self, x: torch.Tensor) -> torch.Tensor:\n",
    "\n",
    "        # Convolve inputs and filters,\n",
    "        #x is B, L, d_in\n",
    "        #\n",
    "        bsz = x.shape[0]\n",
    "        U = torch.stack([lds_model(x[:,:,i].unsqueeze(-1)) for i in range(x.shape[2])], axis = -1) #B, L, K, d_in\n",
    "        U_plus, U_minus = U[:,:,:24,:], U[:,:,24:,:]\n",
    "        \n",
    "        # Then, contract over the K and d_in dimensions\n",
    "\n",
    "        # print(U_plus.shape, U_minus.shape)\n",
    "        spectral_plus = torch.tensordot(\n",
    "            U_plus, self.M_phi_plus, dims=([2, 3], [0, 1])\n",
    "        )\n",
    "\n",
    "        spectral_minus = torch.tensordot(\n",
    "            U_minus, self.M_phi_minus, dims=([2, 3], [0, 1])\n",
    "        )\n",
    "        \n",
    "        output = spectral_plus if self.use_hankel_L else spectral_plus + spectral_minus\n",
    "        \n",
    "        if self.M.shape[-1] != 0:\n",
    "            ar = compute_ar_x_preds(self.M, x)\n",
    "            return output + ar\n",
    "        \n",
    "        return output\n",
    "        \n",
    "    def loss(self, inputs, targets):\n",
    "        pred = self.forward(inputs)\n",
    "        # print(pred, targets)\n",
    "        loss = F.mse_loss(pred, targets)\n",
    "        return  loss\n",
    "\n"
   ]
  },
  {
   "cell_type": "code",
   "execution_count": 15,
   "metadata": {},
   "outputs": [],
   "source": [
    "fast_stu = FastSTU(stu_config, lds_model)\n",
    "fast_stu.M_phi_minus.data = stu.M_phi_minus.data.to(torch.float64)\n",
    "fast_stu.M_phi_plus.data = stu.M_phi_plus.data.to(torch.float64)"
   ]
  },
  {
   "cell_type": "code",
   "execution_count": 16,
   "metadata": {},
   "outputs": [
    {
     "name": "stdout",
     "output_type": "stream",
     "text": [
      "Shape of STU output: torch.Size([1, 100, 10])\n",
      "Shape of Fast STU output: torch.Size([1, 100, 10])\n",
      "MSE between STU and Fast STU outputs: 0.00000008\n",
      "Maximum absolute difference: 0.00100494\n"
     ]
    }
   ],
   "source": [
    "# Set up parameters for evaluation\n",
    "batch_size = 1\n",
    "seq_len = 100\n",
    "d_in = 10\n",
    "\n",
    "# Create random Gaussian input data\n",
    "random_input = torch.randn(batch_size, seq_len, d_in).to(torch.float64)\n",
    "\n",
    "# Set models to evaluation mode\n",
    "stu.eval()\n",
    "fast_stu.eval()\n",
    "\n",
    "# Forward pass through both models\n",
    "with torch.no_grad():\n",
    "    stu_output = stu(random_input)\n",
    "    fast_stu_output = fast_stu(random_input)\n",
    "\n",
    "print(f\"Shape of STU output: {stu_output.shape}\")\n",
    "print(f\"Shape of Fast STU output: {fast_stu_output.shape}\")\n",
    "\n",
    "# Compare outputs\n",
    "mse_diff = F.mse_loss(stu_output, fast_stu_output)\n",
    "max_diff = torch.max(torch.abs(stu_output - fast_stu_output))\n",
    "\n",
    "print(f\"MSE between STU and Fast STU outputs: {mse_diff.item():.8f}\")\n",
    "print(f\"Maximum absolute difference: {max_diff.item():.8f}\")\n"
   ]
  },
  {
   "cell_type": "code",
   "execution_count": 128,
   "metadata": {},
   "outputs": [
    {
     "name": "stdout",
     "output_type": "stream",
     "text": [
      "STU output magnitude: 1.10844386\n",
      "Difference magnitude: 0.00000012\n",
      "Percent magnitude shift: 0.00001103%\n"
     ]
    },
    {
     "data": {
      "image/png": "[encoded data removed]",
      "text/plain": [
       "<Figure size 1000x600 with 1 Axes>"
      ]
     },
     "metadata": {},
     "output_type": "display_data"
    }
   ],
   "source": [
    "import matplotlib.pyplot as plt\n",
    "\n",
    "# Calculate the magnitude of the STU output\n",
    "stu_magnitude = torch.norm(stu_output, dim=-1).mean()\n",
    "\n",
    "# Calculate the magnitude of the difference\n",
    "diff_magnitude = torch.norm(stu_output - fast_stu_output, dim=-1).mean()\n",
    "\n",
    "# Calculate the percentage difference relative to the STU output magnitude\n",
    "percent_magnitude_shift = (diff_magnitude / stu_magnitude) * 100\n",
    "\n",
    "print(f\"STU output magnitude: {stu_magnitude.item():.8f}\")\n",
    "print(f\"Difference magnitude: {diff_magnitude.item():.8f}\")\n",
    "print(f\"Percent magnitude shift: {percent_magnitude_shift.item():.8f}%\")\n",
    "\n",
    "# Visualize the distribution of differences\n",
    "plt.figure(figsize=(10, 6))\n",
    "differences = (stu_output - fast_stu_output).flatten().numpy()\n",
    "plt.hist(differences, bins=50, alpha=0.7)\n",
    "plt.title('Distribution of Differences Between STU and Fast STU Outputs')\n",
    "plt.xlabel('Difference Value')\n",
    "plt.ylabel('Frequency')\n",
    "plt.axvline(x=0, color='r', linestyle='--')\n",
    "plt.grid(True, alpha=0.3)\n",
    "plt.show()\n"
   ]
  }
 ],
 "metadata": {
  "kernelspec": {
   "display_name": "flashstu",
   "language": "python",
   "name": "python3"
  },
  "language_info": {
   "codemirror_mode": {
    "name": "ipython",
    "version": 3
   },
   "file_extension": ".py",
   "mimetype": "text/x-python",
   "name": "python",
   "nbconvert_exporter": "python",
   "pygments_lexer": "ipython3",
   "version": "3.12.5"
  }
 },
 "nbformat": 4,
 "nbformat_minor": 2
}
