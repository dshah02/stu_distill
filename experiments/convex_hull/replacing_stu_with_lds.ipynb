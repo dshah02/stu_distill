{
 "cells": [
  {
   "cell_type": "code",
   "execution_count": 18,
   "metadata": {},
   "outputs": [],
   "source": [
    "import sys\n",
    "import os\n",
    "sys.path.append(os.path.abspath(\"../../src\"))"
   ]
  },
  {
   "cell_type": "code",
   "execution_count": 19,
   "metadata": {},
   "outputs": [],
   "source": [
    "import torch\n",
    "import torch.nn as nn\n",
    "import torch.nn.functional  as  F\n",
    "import math\n",
    "import numpy as np\n",
    "\n",
    "device = torch.device(\"cuda\"  if torch.cuda.is_available() else \"cpu\")"
   ]
  },
  {
   "cell_type": "code",
   "execution_count": 20,
   "metadata": {},
   "outputs": [],
   "source": [
    "from convolve import convolve, nearest_power_of_two\n",
    "from stu import STU\n",
    "from lds_utils import compute_ar_x_preds, compute_ar_x_preds_hard\n",
    "from lds import LDS"
   ]
  },
  {
   "cell_type": "code",
   "execution_count": 56,
   "metadata": {},
   "outputs": [],
   "source": [
    "flash_fft_available = False\n",
    "dtype = torch.bfloat16 if flash_fft_available else torch.float32\n",
    "\n",
    "use_hankel_L  = False\n",
    "phi = torch.tensor(np.load('spectral_filters.npy')).to(device).to(dtype)\n",
    "seq_len, num_eigh = 8192, 24    \n",
    "# phi= get_spectral_filters(seq_len = seq_len, K = num_eigh,  use_hankel_L= use_hankel_L, device  = device,  dtype = torch.float32)\n",
    "#I have checked that phi from the file and from get_spectral_filters are the same up to precision and sign\n",
    "n = nearest_power_of_two(seq_len * 2 - 1, round_up=True)\n",
    "\n",
    "class Config:\n",
    "    def __init__(self):\n",
    "        self.num_eigh = num_eigh\n",
    "        self.use_hankel_L = use_hankel_L\n",
    "        self.torch_dtype = dtype\n",
    "        self.n_embd = 10  # d_in and d_out\n",
    "        self.seq_len = seq_len\n",
    "        self.k_u = 0\n",
    "        self.use_flash_fft = flash_fft_available\n",
    "        self.use_approx = False\n",
    "\n",
    "stu_config = Config()\n"
   ]
  },
  {
   "cell_type": "code",
   "execution_count": 55,
   "metadata": {},
   "outputs": [
    {
     "name": "stdout",
     "output_type": "stream",
     "text": [
      "Loaded 1149 LDS models\n"
     ]
    }
   ],
   "source": [
    "# Define the path to the saved data\n",
    "save_dir = \"fit_filters_1149\"\n",
    "\n",
    "combined_weights = np.load(os.path.join(save_dir, \"optimized_weights.npy\"))\n",
    "\n",
    "# Load the saved LDS models\n",
    "lds_params = []\n",
    "\n",
    "# Path to the saved LDS models\n",
    "lds_models_dir = save_dir\n",
    "\n",
    "# Load all LDS models\n",
    "for i in range(2000):\n",
    "    model_path = os.path.join(lds_models_dir, f\"lds_model_{i}.pth\")\n",
    "    if os.path.exists(model_path):\n",
    "        # Load the model with weights_only=True to avoid security warnings\n",
    "        model_state = torch.load(model_path, weights_only=True)\n",
    "        new_lds = LDS(1, 1, 1, 0)\n",
    "        new_lds.load_state_dict(model_state)\n",
    "        lds_params.append(new_lds)\n",
    "    \n",
    "\n",
    "print(f\"Loaded {len(lds_params)} LDS models\")\n"
   ]
  },
  {
   "cell_type": "code",
   "execution_count": 24,
   "metadata": {},
   "outputs": [
    {
     "name": "stdout",
     "output_type": "stream",
     "text": [
      "Stacked A shape: torch.Size([1149, 1])\n",
      "Stacked B shape: torch.Size([1149, 1, 1])\n",
      "Stacked C shape: torch.Size([1149, 1, 1])\n"
     ]
    }
   ],
   "source": [
    "# Extract A, B, and C matrices from all LDS models\n",
    "A_matrices = []\n",
    "B_matrices = []\n",
    "C_matrices = []\n",
    "\n",
    "for lds in lds_params:\n",
    "    # Extract parameters from each LDS model\n",
    "    A_matrices.append(lds.A.detach().clone())\n",
    "    B_matrices.append(lds.B.detach().clone())\n",
    "    C_matrices.append(lds.C.detach().clone())\n",
    "\n",
    "# Stack all matrices\n",
    "stacked_A = torch.stack(A_matrices)\n",
    "stacked_B = torch.stack(B_matrices)\n",
    "stacked_C = torch.stack(C_matrices)\n",
    "\n",
    "# Print shapes to verify\n",
    "print(f\"Stacked A shape: {stacked_A.shape}\")\n",
    "print(f\"Stacked B shape: {stacked_B.shape}\")\n",
    "print(f\"Stacked C shape: {stacked_C.shape}\")\n",
    "\n",
    "\n",
    "BC = (stacked_B * stacked_C).reshape(-1)\n",
    "A = stacked_A.reshape(-1)\n"
   ]
  },
  {
   "cell_type": "code",
   "execution_count": 25,
   "metadata": {},
   "outputs": [],
   "source": [
    "stu = STU(stu_config, phi, n) #input dim 10, output dim 10\n"
   ]
  },
  {
   "cell_type": "code",
   "execution_count": 26,
   "metadata": {},
   "outputs": [],
   "source": [
    "#so naive implementation has an LDS for every coordinate pair\n",
    "#smarter implementation just has an LDS for each coordinate and different matrix output"
   ]
  },
  {
   "cell_type": "code",
   "execution_count": 99,
   "metadata": {},
   "outputs": [
    {
     "name": "stderr",
     "output_type": "stream",
     "text": [
      "/var/folders/42/5cczn_jx4454n6fvhcg5qbjw0000gn/T/ipykernel_34957/3253486696.py:3: UserWarning: To copy construct from a tensor, it is recommended to use sourceTensor.clone().detach() or sourceTensor.clone().detach().requires_grad_(True), rather than torch.tensor(sourceTensor).\n",
      "  A_tensor = torch.tensor(A, dtype=torch.float64)\n",
      "/var/folders/42/5cczn_jx4454n6fvhcg5qbjw0000gn/T/ipykernel_34957/3253486696.py:4: UserWarning: To copy construct from a tensor, it is recommended to use sourceTensor.clone().detach() or sourceTensor.clone().detach().requires_grad_(True), rather than torch.tensor(sourceTensor).\n",
      "  BC_tensor = torch.tensor(BC, dtype=torch.float64)\n"
     ]
    }
   ],
   "source": [
    "# Create tensors for LDS parameters\n",
    "#WILL HAVE A PRECISION ERROR if not torch.float64\n",
    "A_tensor = torch.tensor(A, dtype=torch.float64)\n",
    "BC_tensor = torch.tensor(BC, dtype=torch.float64)\n",
    "combined_weights = torch.tensor(combined_weights, dtype=torch.float64)\n",
    "\n",
    "# Load an LDS with input dim 1 and output dim 48\n",
    "lds_model = LDS(A_tensor.shape[0], input_dim=1, output_dim=48, kx = 10, dtype =torch.float64)\n",
    "lds_model.A.data = A_tensor.to(torch.float64)\n",
    "lds_model.B.data  = BC_tensor.unsqueeze(dim = 0).to(torch.float64)\n",
    "lds_model.C.data = combined_weights.to(torch.float64)\n",
    "lds_model.h0.data = torch.zeros_like(lds_model.h0.data).to(torch.float64)\n",
    "lds_model.M.data = torch.zeros_like(lds_model.M.data).to(torch.float64)\n"
   ]
  },
  {
   "cell_type": "code",
   "execution_count": 100,
   "metadata": {},
   "outputs": [],
   "source": [
    "seq_len = stu_config.seq_len\n",
    "alternating_signs = np.array([1, -1] * (seq_len // 2))\n",
    "\n",
    "\n",
    "phi_alt = phi.clone().to(torch.float64)\n",
    "for i in range(phi_alt.shape[0]):\n",
    "    phi_alt[i] = phi[i] * alternating_signs[i]\n",
    "\n",
    "phi_all = torch.concat([phi.to(torch.float64), phi_alt], axis = -1)"
   ]
  },
  {
   "cell_type": "code",
   "execution_count": 101,
   "metadata": {},
   "outputs": [],
   "source": [
    "impulse_gap = phi_all[:10] - lds_model.impulse()[:10, : ,0]\n",
    "lds_model.M.data= impulse_gap.T.unsqueeze(1).to(torch.float64)"
   ]
  },
  {
   "cell_type": "code",
   "execution_count": null,
   "metadata": {},
   "outputs": [],
   "source": []
  },
  {
   "cell_type": "code",
   "execution_count": 37,
   "metadata": {},
   "outputs": [],
   "source": [
    "class FastSTU(nn.Module):\n",
    "    def __init__(self, config, lds) -> None:\n",
    "        super(FastSTU, self).__init__()\n",
    "        self.config = config\n",
    "        self.K = config.num_eigh\n",
    "        self.d_in = config.n_embd\n",
    "        self.d_out = config.n_embd\n",
    "        self.use_hankel_L = config.use_hankel_L\n",
    "        self.use_approx = False\n",
    "        self.k_u = config.k_u\n",
    "        self.lds = lds\n",
    "\n",
    "        self.M = nn.Parameter(torch.randn(self.d_out, self.d_in, self.k_u, dtype=config.torch_dtype) / self.d_in)\n",
    "        \n",
    "        self.M_phi_plus = nn.Parameter(\n",
    "            torch.randn(self.K, self.d_in, self.d_out, dtype=config.torch_dtype) / 10\n",
    "        )\n",
    "\n",
    "        self.M_phi_minus = nn.Parameter(\n",
    "            torch.randn(self.K, self.d_in, self.d_out, dtype=config.torch_dtype) / 10\n",
    "        )\n",
    "\n",
    "    def forward(self, x: torch.Tensor) -> torch.Tensor:\n",
    "\n",
    "        # Convolve inputs and filters,\n",
    "        #x is B, L, d_in\n",
    "        #\n",
    "        bsz = x.shape[0]\n",
    "        # Reshape x from [B, L, d_in] to [B*d_in, L, 1] by moving the last dimension to batch\n",
    "        # U = torch.stack([lds_model(x[:,:,i].unsqueeze(-1)) for i in range(x.shape[2])], axis = -1)\n",
    "        x_reshaped = x.permute(0, 2, 1).reshape(-1, x.shape[1], 1)  # [B*d_in, L, 1]\n",
    "        U_reshaped = lds_model(x_reshaped)  # [B*d_in, L, K]\n",
    "        U = U_reshaped.reshape(bsz, x.shape[2], x.shape[1], -1).permute(0, 2, 3, 1)\n",
    "        U_plus, U_minus = U[:,:,:24,:], U[:,:,24:,:]\n",
    "        \n",
    "        # Then, contract over the K and d_in dimensions\n",
    "\n",
    "        # print(U_plus.shape, U_minus.shape)\n",
    "        spectral_plus = torch.tensordot(\n",
    "            U_plus, self.M_phi_plus, dims=([2, 3], [0, 1])\n",
    "        )\n",
    "\n",
    "        spectral_minus = torch.tensordot(\n",
    "            U_minus, self.M_phi_minus, dims=([2, 3], [0, 1])\n",
    "        )\n",
    "        \n",
    "        output = spectral_plus if self.use_hankel_L else spectral_plus + spectral_minus\n",
    "        \n",
    "        if self.M.shape[-1] != 0:\n",
    "            ar = compute_ar_x_preds(self.M, x)\n",
    "            return output + ar\n",
    "        \n",
    "        return output\n",
    "        \n",
    "    def loss(self, inputs, targets):\n",
    "        pred = self.forward(inputs)\n",
    "        # print(pred, targets)\n",
    "        loss = F.mse_loss(pred, targets)\n",
    "        return  loss\n",
    "\n"
   ]
  },
  {
   "cell_type": "code",
   "execution_count": 38,
   "metadata": {},
   "outputs": [],
   "source": [
    "fast_stu = FastSTU(stu_config, lds_model)\n",
    "fast_stu.M_phi_minus.data = stu.M_phi_minus.data.to(torch.float64)\n",
    "fast_stu.M_phi_plus.data = stu.M_phi_plus.data.to(torch.float64)"
   ]
  },
  {
   "cell_type": "code",
   "execution_count": 39,
   "metadata": {},
   "outputs": [
    {
     "name": "stdout",
     "output_type": "stream",
     "text": [
      "Shape of STU output: torch.Size([20, 8192, 10])\n",
      "Shape of Fast STU output: torch.Size([20, 8192, 10])\n",
      "MSE between STU and Fast STU outputs: 0.00000006\n",
      "Maximum absolute difference: 0.00158652\n"
     ]
    }
   ],
   "source": [
    "# Set up parameters for evaluation\n",
    "batch_size = 20\n",
    "seq_len = 8192\n",
    "d_in = 10\n",
    "\n",
    "# Create random Gaussian input data\n",
    "random_input = torch.randn(batch_size, seq_len, d_in).to(torch.float64)\n",
    "\n",
    "# Set models to evaluation mode\n",
    "stu.eval()\n",
    "fast_stu.eval()\n",
    "\n",
    "# Forward pass through both models\n",
    "with torch.no_grad():\n",
    "    stu_output = stu(random_input)\n",
    "    fast_stu_output = fast_stu(random_input)\n",
    "\n",
    "print(f\"Shape of STU output: {stu_output.shape}\")\n",
    "print(f\"Shape of Fast STU output: {fast_stu_output.shape}\")\n",
    "\n",
    "# Compare outputs\n",
    "mse_diff = F.mse_loss(stu_output, fast_stu_output)\n",
    "max_diff = torch.max(torch.abs(stu_output - fast_stu_output))\n",
    "\n",
    "print(f\"MSE between STU and Fast STU outputs: {mse_diff.item():.8f}\")\n",
    "print(f\"Maximum absolute difference: {max_diff.item():.8f}\")\n"
   ]
  },
  {
   "cell_type": "code",
   "execution_count": 41,
   "metadata": {},
   "outputs": [
    {
     "name": "stdout",
     "output_type": "stream",
     "text": [
      "Average element-wise percent difference: 0.62348127%\n"
     ]
    },
    {
     "data": {
      "image/png": "[encoded data removed]",
      "text/plain": [
       "<Figure size 1000x600 with 1 Axes>"
      ]
     },
     "metadata": {},
     "output_type": "display_data"
    }
   ],
   "source": [
    "import matplotlib.pyplot as plt\n",
    "\n",
    "\n",
    "\n",
    "# Calculate element-wise percentage differences\n",
    "element_wise_abs_diff = torch.abs(stu_output - fast_stu_output)\n",
    "element_wise_abs_stu = torch.abs(stu_output)\n",
    "# Add small epsilon to avoid division by zero\n",
    "epsilon = 1e-10\n",
    "element_wise_percent_diff = (element_wise_abs_diff / (element_wise_abs_stu + epsilon)) * 100\n",
    "average_percent_diff = element_wise_percent_diff.mean()\n",
    "\n",
    "print(f\"Average element-wise percent difference: {average_percent_diff.item():.8f}%\")\n",
    "\n",
    "# Visualize the distribution of differences\n",
    "plt.figure(figsize=(10, 6))\n",
    "differences = (stu_output - fast_stu_output).flatten().numpy()\n",
    "plt.hist(differences, bins=50, alpha=0.7)\n",
    "plt.title('Distribution of Differences Between STU and Fast STU Outputs')\n",
    "plt.xlabel('Difference Value')\n",
    "plt.ylabel('Frequency')\n",
    "plt.axvline(x=0, color='r', linestyle='--')\n",
    "plt.grid(True, alpha=0.3)\n",
    "plt.show()\n"
   ]
  },
  {
   "cell_type": "code",
   "execution_count": null,
   "metadata": {},
   "outputs": [],
   "source": []
  },
  {
   "cell_type": "code",
   "execution_count": 128,
   "metadata": {},
   "outputs": [],
   "source": [
    "import copy\n",
    "\n",
    "class FullFastSTU(nn.Module): #REMOVE CASTING AT SOME POINT\n",
    "    def __init__(self, stu, lds) -> None:\n",
    "        super(FullFastSTU, self).__init__()\n",
    "        stu = copy.deepcopy(stu)\n",
    "        lds = copy.deepcopy(lds)\n",
    "\n",
    "        self.config = stu.config\n",
    "        self.K = stu.config.num_eigh\n",
    "        self.d_in = stu.config.n_embd\n",
    "        self.d_out = stu.config.n_embd\n",
    "        self.use_hankel_L = stu.config.use_hankel_L\n",
    "        self.use_approx = stu.config.use_approx\n",
    "        \n",
    "        self.lds = lds\n",
    "        \n",
    "        if self.use_approx:\n",
    "            self.M_inputs = nn.Parameter(\n",
    "                stu.M_inputs.data.to(torch.float64)\n",
    "            )\n",
    "\n",
    "            # Stack the weights along the first axis to match dimensions\n",
    "            M_filters = stu.M_filters.data.to(torch.float64)\n",
    "            # Assuming self.lds.C has shape [1149, 48] and M_filters has shape [24, 16]\n",
    "            # We need to reshape/duplicate M_filters to make the multiplication work\n",
    "            # Split the LDS.C data into two parts (for plus and minus)\n",
    "            C_plus = self.lds.C.data[:, :24]  # First 24 coordinates\n",
    "            C_minus = self.lds.C.data[:, 24:] # Second 24 coordinates\n",
    "            \n",
    "            # Apply M_filters to each part separately\n",
    "            C_plus_transformed = C_plus @ M_filters\n",
    "            C_minus_transformed = C_minus @ M_filters\n",
    "            \n",
    "            # Concatenate the results to get shape [1149, 2*d_in]\n",
    "            self.lds.C.data = torch.cat([C_plus_transformed, C_minus_transformed], dim=1)\n",
    "            \n",
    "            # Similarly for M data\n",
    "            M_plus = self.lds.M.data[:24]     # First 24 coordinates\n",
    "            M_minus = self.lds.M.data[24:]    # Second 24 coordinates\n",
    "            \n",
    "            # Apply M_filters to each part\n",
    "            M_plus_transformed = torch.einsum('nik,nd->dik', M_plus, M_filters)\n",
    "            M_minus_transformed = torch.einsum('nik,nd->dik', M_minus, M_filters)\n",
    "            \n",
    "            # Concatenate the results\n",
    "            self.lds.M.data = torch.cat([M_plus_transformed, M_minus_transformed], dim=0)\n",
    "        else:\n",
    "            self.M_phi_plus = nn.Parameter(\n",
    "                stu.M_phi_plus.data.to(torch.float64)\n",
    "            )\n",
    "            if not self.use_hankel_L:\n",
    "                self.M_phi_minus = nn.Parameter(\n",
    "                    stu.M_phi_minus.data.to(torch.float64)\n",
    "                )\n",
    "\n",
    "    def forward(self, x: torch.Tensor) -> torch.Tensor:\n",
    "        if self.use_approx:\n",
    "            # Contract inputs and filters over the K and d_in dimensions, then convolve\n",
    "            x = x @ self.M_inputs\n",
    "            \n",
    "        \n",
    "        # Convolve inputs and filters,\n",
    "        bsz = x.shape[0]\n",
    "        x_reshaped = x.permute(0, 2, 1).reshape(-1, x.shape[1], 1)  # [B*d_in, L, 1]\n",
    "        U_reshaped = self.lds(x_reshaped)  # [B*d_in, L, K]\n",
    "        U = U_reshaped.reshape(bsz, x.shape[2], x.shape[1], -1).permute(0, 2, 3, 1)\n",
    "        \n",
    "        if self.use_approx: #THERE MIGHT BE A TRICK WHERE WE RECOMBINE ONLY AT THE END???\n",
    "            spectral_plus, spectral_minus = U[:,:,:self.d_out,:], U[:,:,self.d_out:,:]\n",
    "            # Extract diagonal terms to convert from [bsz, s_len, n_eigh, n_eigh] to [bsz, s_len, n_eigh]\n",
    "            spectral_plus = torch.diagonal(spectral_plus, dim1=2, dim2=3)\n",
    "            spectral_minus = torch.diagonal(spectral_minus, dim1=2, dim2=3)\n",
    "        \n",
    "        else:\n",
    "            U_plus, U_minus = U[:,:,:24,:], U[:,:,24:,:]\n",
    "\n",
    "            # Then, contract over the K and d_in dimensions\n",
    "            spectral_plus = torch.tensordot(\n",
    "                U_plus, self.M_phi_plus, dims=([2, 3], [0, 1])\n",
    "            )\n",
    "\n",
    "            if not self.use_hankel_L:\n",
    "                spectral_minus = torch.tensordot(\n",
    "                    U_minus, self.M_phi_minus, dims=([2, 3], [0, 1])\n",
    "                )\n",
    "\n",
    "        return spectral_plus if self.use_hankel_L else spectral_plus + spectral_minus\n",
    "\n",
    "    def loss(self, inputs, targets):\n",
    "        pred = self.forward(inputs)\n",
    "        # print(pred, targets)\n",
    "        loss = F.mse_loss(pred, targets)\n",
    "        return  loss"
   ]
  },
  {
   "cell_type": "code",
   "execution_count": 130,
   "metadata": {},
   "outputs": [
    {
     "name": "stdout",
     "output_type": "stream",
     "text": [
      "Maximum difference between STU and LDS outputs: 6.253173079405483e-05\n",
      "STU output shape: torch.Size([4, 40, 16]), LDS output shape: torch.Size([4, 40, 16])\n",
      "Average difference: 0.0139% of the average value\n",
      "✅ Test passed: STU with approx=True can be accurately copied by LDS (less than 1% difference)\n"
     ]
    }
   ],
   "source": [
    "# Test whether an STU with approx=True can be copied by LDS\n",
    "def test_stu_to_lds_approx():\n",
    "    # Create a simple test configuration\n",
    "    class Config:\n",
    "        def __init__(self):\n",
    "            self.num_eigh = 24\n",
    "            self.n_embd = 16\n",
    "            self.use_hankel_L = False\n",
    "            self.use_approx = True\n",
    "            self.use_flash_fft = False\n",
    "            self.torch_dtype = torch.float32\n",
    "    \n",
    "    config = Config()\n",
    "    \n",
    "    # Create test data\n",
    "    batch_size = 4\n",
    "    seq_len = 40\n",
    "    x = torch.randn(batch_size, seq_len, config.n_embd)\n",
    "    \n",
    "    stu_model = STU(config, phi, n)\n",
    "    \n",
    "    stu_fast = FullFastSTU(stu_model, lds_model)\n",
    "   \n",
    "    # Test forward pass\n",
    "    with torch.no_grad():\n",
    "        stu_output = stu_model(x)\n",
    "        lds_output = stu_fast(x.to(torch.float64))\n",
    "        \n",
    "        # Check if outputs are close\n",
    "        diff = torch.abs(stu_output - lds_output).max().item()\n",
    "        print(f\"Maximum difference between STU and LDS outputs: {diff}\")\n",
    "        print(f\"STU output shape: {stu_output.shape}, LDS output shape: {lds_output.shape}\")\n",
    "        \n",
    "        # Calculate average absolute difference as a percentage of the average absolute value\n",
    "        avg_abs_diff = torch.abs(stu_output - lds_output).mean().item()\n",
    "        avg_abs_value = torch.abs(stu_output).mean().item()\n",
    "        percent_diff = (avg_abs_diff / avg_abs_value) * 100 if avg_abs_value > 0 else float('inf')\n",
    "        \n",
    "        print(f\"Average difference: {percent_diff:.4f}% of the average value\")\n",
    "        \n",
    "        if percent_diff < 1.0:\n",
    "            print(\"✅ Test passed: STU with approx=True can be accurately copied by LDS (less than 1% difference)\")\n",
    "        else:\n",
    "            print(\"❌ Test failed: Significant difference between STU and LDS outputs (more than 1% difference)\")\n",
    "\n",
    "# Run the test\n",
    "test_stu_to_lds_approx()\n"
   ]
  }
 ],
 "metadata": {
  "kernelspec": {
   "display_name": "Python 3 (ipykernel)",
   "language": "python",
   "name": "python3"
  },
  "language_info": {
   "codemirror_mode": {
    "name": "ipython",
    "version": 3
   },
   "file_extension": ".py",
   "mimetype": "text/x-python",
   "name": "python",
   "nbconvert_exporter": "python",
   "pygments_lexer": "ipython3",
   "version": "3.12.4"
  }
 },
 "nbformat": 4,
 "nbformat_minor": 4
}
