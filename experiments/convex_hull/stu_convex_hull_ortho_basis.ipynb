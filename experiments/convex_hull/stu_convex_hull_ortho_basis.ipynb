{
 "cells": [
  {
   "cell_type": "code",
   "execution_count": 10,
   "metadata": {},
   "outputs": [],
   "source": [
    "import sys\n",
    "import os\n",
    "sys.path.append(os.path.abspath(\"../../src\"))"
   ]
  },
  {
   "cell_type": "code",
   "execution_count": null,
   "metadata": {},
   "outputs": [],
   "source": []
  },
  {
   "cell_type": "code",
   "execution_count": null,
   "metadata": {},
   "outputs": [],
   "source": [
    "import numpy as np\n",
    "import torch\n",
    "import torch.nn.functional as F\n",
    "from time import time\n",
    "import torch.nn as nn\n",
    "\n",
    "# Setup device\n",
    "device = torch.device(\"cuda\" if torch.cuda.is_available() else \"cpu\")\n",
    "print(f\"Using device: {device}\")\n",
    "\n",
    "\n",
    "def get_hankel(seq_len: int, use_hankel_L: bool = False) -> np.ndarray:\n",
    "    entries = np.arange(1, seq_len + 1, dtype=np.float64)\n",
    "    i_plus_j = entries[:, None] + entries[None, :]\n",
    "\n",
    "    if use_hankel_L:\n",
    "        sgn = (-1.0) ** (i_plus_j - 2.0) + 1.0\n",
    "        denom = (i_plus_j + 3.0) * (i_plus_j - 1.0) * (i_plus_j + 1.0)\n",
    "        Z = sgn * (8.0 / denom)\n",
    "    elif not use_hankel_L:\n",
    "        Z = 2.0 / (i_plus_j**3 - i_plus_j)\n",
    "    else:\n",
    "        raise ValueError(\"use_hankel_L must be a boolean\")\n",
    "\n",
    "    return Z\n",
    "\n",
    "def get_spectral_filters(\n",
    "    seq_len: int, \n",
    "    K: int, \n",
    "    use_hankel_L: bool = False, \n",
    "    device: torch.device = None,\n",
    "    dtype: torch.dtype = torch.float,\n",
    ") -> torch.Tensor:\n",
    "    # assert torch.cuda.is_available(), \"CUDA is required.\"\n",
    "    Z = get_hankel(seq_len, use_hankel_L)\n",
    "    sigma, phi = np.linalg.eigh(Z)\n",
    "    sigma_k, phi_k = sigma[-K:], phi[:, -K:]\n",
    "    phi_k *= sigma_k ** 0.25\n",
    "    filters = torch.from_numpy(phi_k)\n",
    "    return filters.to(device=device, dtype=dtype)\n"
   ]
  },
  {
   "cell_type": "code",
   "execution_count": 12,
   "metadata": {},
   "outputs": [],
   "source": [
    "from lds_utils import exponential_decay_init"
   ]
  },
  {
   "cell_type": "code",
   "execution_count": 115,
   "metadata": {},
   "outputs": [],
   "source": [
    "K = 20\n",
    "seq_len = 1024\n",
    "phi = get_spectral_filters(seq_len, K)"
   ]
  },
  {
   "cell_type": "code",
   "execution_count": 116,
   "metadata": {},
   "outputs": [],
   "source": [
    "class VectorGen(nn.Module):\n",
    "    def __init__(self, state_dim):\n",
    "        super(VectorGen, self).__init__()\n",
    "        self.state_dim = state_dim\n",
    "        \n",
    "        self.A = exponential_decay_init([state_dim], lam = 10)\n",
    "        self.B = torch.randn(state_dim) / 1000\n",
    "        self.C = torch.randn(state_dim) / state_dim\n",
    "        # self.M = nn.Parameter(torch.randn(output_dim, input_dim, kx) / (output_dim))\n",
    "\n",
    "    def forward(self, seq_len = 1024):\n",
    "        # Initialize output tensor\n",
    "        outputs = []\n",
    "        \n",
    "        # For each position\n",
    "        for i in range(seq_len):\n",
    "            # Compute A^i\n",
    "            a_power = self.A ** i\n",
    "            outputs.append(self.C * (a_power * self.B))\n",
    "            \n",
    "        return torch.stack(outputs).T #shape is [state_dim, seq_len]"
   ]
  },
  {
   "cell_type": "code",
   "execution_count": 130,
   "metadata": {},
   "outputs": [],
   "source": [
    "class LDS(nn.Module):\n",
    "    def __init__(self, state_dim):\n",
    "        super(LDS, self).__init__()\n",
    "        self.state_dim = state_dim\n",
    "        \n",
    "        self.A = exponential_decay_init([state_dim], lam = 15)\n",
    "        self.B = torch.randn(1, state_dim) / 1000\n",
    "        self.C = torch.randn(state_dim, 1) / state_dim\n",
    "        # self.M = nn.Parameter(torch.randn(output_dim, input_dim, kx) / (output_dim))\n",
    "\n",
    "    def forward(self, seq_len = 1024):\n",
    "        # Initialize output tensor\n",
    "        outputs = torch.zeros(seq_len)\n",
    "        \n",
    "        # For each position\n",
    "        for i in range(seq_len):\n",
    "            # Compute A^i\n",
    "            a_power = self.A ** i\n",
    "            \n",
    "            # Multiply C[:,0] * A^i * B[i]\n",
    "            outputs[i] = torch.sum(self.C[:,0] * a_power * self.B[0])\n",
    "            \n",
    "        return outputs\n"
   ]
  },
  {
   "cell_type": "code",
   "execution_count": 133,
   "metadata": {},
   "outputs": [
    {
     "name": "stderr",
     "output_type": "stream",
     "text": [
      "100%|██████████| 1024/1024 [00:55<00:00, 18.54it/s]\n"
     ]
    }
   ],
   "source": [
    "import tqdm\n",
    "vectors = []\n",
    "for i in tqdm.tqdm(range(1024)):\n",
    "    # Create new LDS instance\n",
    "    lds = LDS(state_dim=8192)\n",
    "    # Get output sequence\n",
    "    output = lds.forward(seq_len=1024)\n",
    "    vectors.append(output)\n",
    "\n",
    "# Stack into tensor of shape [1024, seq_len]\n",
    "lds_vectors = torch.stack(vectors)\n"
   ]
  },
  {
   "cell_type": "code",
   "execution_count": 134,
   "metadata": {},
   "outputs": [
    {
     "name": "stdout",
     "output_type": "stream",
     "text": [
      "Rank of vec: tensor(25)\n"
     ]
    }
   ],
   "source": [
    "rank = torch.linalg.matrix_rank(lds_vectors)\n",
    "print(\"Rank of vec:\", rank)"
   ]
  },
  {
   "cell_type": "code",
   "execution_count": 126,
   "metadata": {},
   "outputs": [],
   "source": [
    "vg = VectorGen(8192)\n",
    "vec = vg()"
   ]
  },
  {
   "cell_type": "code",
   "execution_count": 127,
   "metadata": {},
   "outputs": [],
   "source": [
    "# Generate random coefficients for 1024 combinations\n",
    "random_coeffs = torch.randn(vec.shape[1], 1024) \n",
    "\n",
    "# Create random combinations of the basis vectors\n",
    "random_vecs = vec @ random_coeffs  # Shape will be [8192, 1024]\n"
   ]
  },
  {
   "cell_type": "code",
   "execution_count": 118,
   "metadata": {},
   "outputs": [
    {
     "data": {
      "text/plain": [
       "[<matplotlib.lines.Line2D at 0x131929b80>]"
      ]
     },
     "execution_count": 118,
     "metadata": {},
     "output_type": "execute_result"
    },
    {
     "data": {
      "image/png": "[encoded data removed]",
      "text/plain": [
       "<Figure size 640x480 with 1 Axes>"
      ]
     },
     "metadata": {},
     "output_type": "display_data"
    }
   ],
   "source": [
    "import matplotlib.pyplot as plt\n",
    "plt.plot(vec[0])"
   ]
  },
  {
   "cell_type": "code",
   "execution_count": 119,
   "metadata": {},
   "outputs": [],
   "source": [
    "from scipy.linalg import qr"
   ]
  },
  {
   "cell_type": "code",
   "execution_count": 120,
   "metadata": {},
   "outputs": [
    {
     "ename": "NameError",
     "evalue": "name 'QR' is not defined",
     "output_type": "error",
     "traceback": [
      "\u001b[0;31m---------------------------------------------------------------------------\u001b[0m",
      "\u001b[0;31mNameError\u001b[0m                                 Traceback (most recent call last)",
      "Cell \u001b[0;32mIn[120], line 5\u001b[0m\n\u001b[1;32m      2\u001b[0m coeffs \u001b[38;5;241m=\u001b[39m Q\u001b[38;5;241m.\u001b[39mT \u001b[38;5;241m@\u001b[39m phi[:, \u001b[38;5;241m0\u001b[39m]\n\u001b[1;32m      3\u001b[0m recon_vec \u001b[38;5;241m=\u001b[39m Q \u001b[38;5;241m@\u001b[39m coeffs\n\u001b[0;32m----> 5\u001b[0m vec \u001b[38;5;241m=\u001b[39m \u001b[43mQR\u001b[49m\n\u001b[1;32m      7\u001b[0m lds_coeffs \u001b[38;5;241m=\u001b[39m (torch\u001b[38;5;241m.\u001b[39minverse(R) \u001b[38;5;241m@\u001b[39m coeffs)\n",
      "\u001b[0;31mNameError\u001b[0m: name 'QR' is not defined"
     ]
    }
   ],
   "source": [
    "Q, R = torch.linalg.qr(vec) \n",
    "coeffs = Q.T @ phi[:, 0]\n",
    "recon_vec = Q @ coeffs\n",
    "\n",
    "vec = QR\n",
    "\n",
    "lds_coeffs = (torch.inverse(R) @ coeffs)"
   ]
  },
  {
   "cell_type": "code",
   "execution_count": 121,
   "metadata": {},
   "outputs": [],
   "source": [
    "recon_lds = vec @ lds_coeffs"
   ]
  },
  {
   "cell_type": "code",
   "execution_count": 122,
   "metadata": {},
   "outputs": [
    {
     "data": {
      "image/png": "[encoded data removed]",
      "text/plain": [
       "<Figure size 640x480 with 1 Axes>"
      ]
     },
     "metadata": {},
     "output_type": "display_data"
    }
   ],
   "source": [
    "plt.figure()\n",
    "plt.plot(phi[:,0], label='Original')\n",
    "plt.plot(recon_vec, label='Reconstructed')\n",
    "plt.plot(recon_vec - phi[:, 0], label = 'Gap')\n",
    "# plt.plot(recon_lds, label='Reconstructed from LDS')\n",
    "plt.legend()\n",
    "plt.show()\n"
   ]
  },
  {
   "cell_type": "code",
   "execution_count": 123,
   "metadata": {},
   "outputs": [],
   "source": [
    "R_inv = torch.linalg.inv(R)\n",
    "q_j = vec.T @ R_inv[:, 0]\n"
   ]
  },
  {
   "cell_type": "code",
   "execution_count": null,
   "metadata": {},
   "outputs": [],
   "source": []
  }
 ],
 "metadata": {
  "kernelspec": {
   "display_name": "Python 3 (ipykernel)",
   "language": "python",
   "name": "python3"
  },
  "language_info": {
   "codemirror_mode": {
    "name": "ipython",
    "version": 3
   },
   "file_extension": ".py",
   "mimetype": "text/x-python",
   "name": "python",
   "nbconvert_exporter": "python",
   "pygments_lexer": "ipython3",
   "version": "3.12.5"
  }
 },
 "nbformat": 4,
 "nbformat_minor": 4
}
