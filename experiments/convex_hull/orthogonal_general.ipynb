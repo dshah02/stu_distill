{
 "cells": [
  {
   "cell_type": "code",
   "execution_count": 1,
   "metadata": {},
   "outputs": [],
   "source": [
    "import sys\n",
    "import os\n",
    "sys.path.append(os.path.abspath(\"../../src\"))"
   ]
  },
  {
   "cell_type": "code",
   "execution_count": 2,
   "metadata": {},
   "outputs": [
    {
     "name": "stderr",
     "output_type": "stream",
     "text": [
      "/home/ds6237/.conda/envs/torch-env/lib/python3.12/site-packages/tqdm/auto.py:21: TqdmWarning: IProgress not found. Please update jupyter and ipywidgets. See https://ipywidgets.readthedocs.io/en/stable/user_install.html\n",
      "  from .autonotebook import tqdm as notebook_tqdm\n"
     ]
    },
    {
     "name": "stdout",
     "output_type": "stream",
     "text": [
      "Unable to import Triton-based MLP: No module named 'liger_kernel'. Falling back to vanilla SwiGLU MLP instead.\n",
      "Unable to import Triton-based RMSNorm: No module named 'liger_kernel'. Falling back to PyTorch implementation.\n",
      "Unable to import Triton-based MLP: No module named 'liger_kernel'. Falling back to vanilla SwiGLU MLP instead.\n",
      "Unable to import Triton-based RMSNorm: No module named 'liger_kernel'. Falling back to PyTorch implementation.\n",
      "Unable to import Triton-based RMSNorm: No module named 'liger_kernel'. Falling back to PyTorch implementation.\n",
      "Using device: cuda\n"
     ]
    }
   ],
   "source": [
    "import numpy as np\n",
    "import torch\n",
    "import torch.nn.functional as F\n",
    "import tiktoken\n",
    "import logging\n",
    "import json\n",
    "from time import time\n",
    "from safetensors import safe_open\n",
    "from model import FlashSTU\n",
    "from config import FlashSTUConfig\n",
    "import torch.nn as nn\n",
    "\n",
    "# Setup device\n",
    "device = torch.device(\"cuda\" if torch.cuda.is_available() else \"cpu\")\n",
    "print(f\"Using device: {device}\")\n",
    "\n",
    "\n",
    "def get_hankel(seq_len: int, use_hankel_L: bool = False) -> np.ndarray:\n",
    "    entries = np.arange(1, seq_len + 1, dtype=np.float64)\n",
    "    i_plus_j = entries[:, None] + entries[None, :]\n",
    "\n",
    "    if use_hankel_L:\n",
    "        sgn = (-1.0) ** (i_plus_j - 2.0) + 1.0\n",
    "        denom = (i_plus_j + 3.0) * (i_plus_j - 1.0) * (i_plus_j + 1.0)\n",
    "        Z = sgn * (8.0 / denom)\n",
    "    elif not use_hankel_L:\n",
    "        Z = 2.0 / (i_plus_j**3 - i_plus_j)\n",
    "    else:\n",
    "        raise ValueError(\"use_hankel_L must be a boolean\")\n",
    "\n",
    "    return Z\n",
    "\n",
    "def get_spectral_filters(\n",
    "    seq_len: int, \n",
    "    K: int, \n",
    "    use_hankel_L: bool = False, \n",
    "    device: torch.device = None,\n",
    "    dtype: torch.dtype = torch.float,\n",
    ") -> torch.Tensor:\n",
    "    # assert torch.cuda.is_available(), \"CUDA is required.\"\n",
    "    Z = get_hankel(seq_len, use_hankel_L)\n",
    "    sigma, phi = np.linalg.eigh(Z)\n",
    "    sigma_k, phi_k = sigma[-K:], phi[:, -K:]\n",
    "    phi_k *= sigma_k ** 0.25\n",
    "    filters = torch.from_numpy(phi_k)\n",
    "    return filters.to(device=device, dtype=dtype)\n"
   ]
  },
  {
   "cell_type": "code",
   "execution_count": 3,
   "metadata": {},
   "outputs": [],
   "source": [
    "K = 20\n",
    "seq_len = 1024\n",
    "phi = get_spectral_filters(seq_len, K)"
   ]
  },
  {
   "cell_type": "code",
   "execution_count": 8,
   "metadata": {},
   "outputs": [],
   "source": [
    "class LDS(nn.Module):\n",
    "    def __init__(self, state_dim):\n",
    "        super(LDS, self).__init__()\n",
    "        self.state_dim = state_dim\n",
    "        \n",
    "        self.A = nn.Parameter(torch.randn(state_dim, state_dim) / state_dim)\n",
    "        self.B = nn.Parameter(torch.randn(1, state_dim) / 1000)\n",
    "        self.C = nn.Parameter(torch.randn(state_dim, 1) / state_dim)\n",
    "\n",
    "    def forward(self, seq_len = 1024):\n",
    "        # Initialize output tensor\n",
    "        outputs = torch.zeros(seq_len)\n",
    "        \n",
    "        # For each position\n",
    "        for i in range(seq_len):\n",
    "            # Compute A^i\n",
    "            a_power = self.A ** i\n",
    "            \n",
    "            # Multiply C[:,0] * A^i * B[i]\n",
    "            outputs[i] = torch.sum(self.C[:,0] * a_power * self.B[0])\n",
    "            \n",
    "        return outputs\n",
    "\n",
    "    def compute_loss(self, filter):\n",
    "        output = self.forward()\n",
    "        mse_loss = nn.MSELoss()\n",
    "        return mse_loss(output, filter)"
   ]
  },
  {
   "cell_type": "code",
   "execution_count": 275,
   "metadata": {},
   "outputs": [],
   "source": [
    "import torch\n",
    "\n",
    "def random_LDS(d_h: int, d_o: int, d_u: int, lower_bound: float, delta: float):\n",
    "    \"\"\"\n",
    "    Makes a random LDS with hidden state dimension d_h, observation dimension d_o, and control dimension d_u.\n",
    "    `lower_bound` is a float in [0, 1] specifying the minimum absolute value for entries in A.\n",
    "    Each entry in A will be in [lower_bound, 1] multiplied by +/-1 with equal probability.\n",
    "    Ensures that the spectral radius of A is at most 1 - delta.\n",
    "    \"\"\"\n",
    "    # Generate random values in [lower_bound, 1]\n",
    "    A = torch.rand(d_h, d_h) * (1 - lower_bound) + lower_bound\n",
    "    signs = torch.randint(0, 2, (d_h, d_h)) * 2 - 1\n",
    "    A = A * signs.float()\n",
    "\n",
    "    # Compute spectral radius\n",
    "    eigenvalues = torch.linalg.eigvals(A)\n",
    "    spectral_radius = torch.max(torch.abs(eigenvalues))\n",
    "\n",
    "    # Scale A if necessary to satisfy spectral radius constraint\n",
    "    if spectral_radius > 1 - delta:\n",
    "        A = A * ((1 - delta) / spectral_radius)\n",
    "\n",
    "    B = torch.randn(d_h, d_u)\n",
    "    C = torch.randn(d_o, d_h)\n",
    "\n",
    "    lds = LDS(d_h)\n",
    "    lds.A.data = A\n",
    "    lds.B.data = B\n",
    "    lds.C.data = C  \n",
    "    return lds\n"
   ]
  },
  {
   "cell_type": "code",
   "execution_count": 300,
   "metadata": {},
   "outputs": [],
   "source": [
    "lds = random_LDS(2, 1, 1, 0.999, 0.00001)"
   ]
  },
  {
   "cell_type": "code",
   "execution_count": 301,
   "metadata": {},
   "outputs": [],
   "source": [
    "from scipy.linalg import orth"
   ]
  },
  {
   "cell_type": "code",
   "execution_count": 302,
   "metadata": {},
   "outputs": [],
   "source": [
    "vectors = np.array([random_LDS(2, 1, 1, 0.9999, 0.00001)().detach() for _ in range(20)]).T"
   ]
  },
  {
   "cell_type": "code",
   "execution_count": null,
   "metadata": {},
   "outputs": [],
   "source": []
  },
  {
   "cell_type": "code",
   "execution_count": null,
   "metadata": {},
   "outputs": [],
   "source": [
    "basis = orth(vectors)"
   ]
  },
  {
   "cell_type": "code",
   "execution_count": 298,
   "metadata": {},
   "outputs": [
    {
     "data": {
      "text/plain": [
       "(1024, 6)"
      ]
     },
     "execution_count": 298,
     "metadata": {},
     "output_type": "execute_result"
    }
   ],
   "source": [
    "basis.shape"
   ]
  },
  {
   "cell_type": "code",
   "execution_count": 299,
   "metadata": {},
   "outputs": [
    {
     "data": {
      "text/plain": [
       "[<matplotlib.lines.Line2D at 0x153fa84cbd70>]"
      ]
     },
     "execution_count": 299,
     "metadata": {},
     "output_type": "execute_result"
    },
    {
     "data": {
      "image/png": "[encoded data removed]",
      "text/plain": [
       "<Figure size 640x480 with 1 Axes>"
      ]
     },
     "metadata": {},
     "output_type": "display_data"
    }
   ],
   "source": [
    "plt.plot(vectors[:,2])"
   ]
  },
  {
   "cell_type": "code",
   "execution_count": 240,
   "metadata": {},
   "outputs": [
    {
     "data": {
      "text/plain": [
       "array([ 2.0861533, -0.7376703,  1.0424223, ...,  0.       ,  0.       ,\n",
       "        0.       ], dtype=float32)"
      ]
     },
     "execution_count": 240,
     "metadata": {},
     "output_type": "execute_result"
    }
   ],
   "source": [
    "lds().detach().numpy()"
   ]
  },
  {
   "cell_type": "code",
   "execution_count": null,
   "metadata": {},
   "outputs": [],
   "source": []
  },
  {
   "cell_type": "code",
   "execution_count": null,
   "metadata": {},
   "outputs": [],
   "source": []
  },
  {
   "cell_type": "code",
   "execution_count": null,
   "metadata": {},
   "outputs": [],
   "source": []
  }
 ],
 "metadata": {
  "kernelspec": {
   "display_name": "torch-env [~/.conda/envs/torch-env/]",
   "language": "python",
   "name": "conda_torch-env"
  },
  "language_info": {
   "codemirror_mode": {
    "name": "ipython",
    "version": 3
   },
   "file_extension": ".py",
   "mimetype": "text/x-python",
   "name": "python",
   "nbconvert_exporter": "python",
   "pygments_lexer": "ipython3",
   "version": "3.12.7"
  }
 },
 "nbformat": 4,
 "nbformat_minor": 4
}
