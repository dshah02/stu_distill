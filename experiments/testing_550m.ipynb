{
 "cells": [
  {
   "cell_type": "code",
   "execution_count": 1,
   "id": "a2f9aec6-9c5f-4963-9c2f-07bedf39d39a",
   "metadata": {},
   "outputs": [],
   "source": [
    "import sys\n",
    "import os\n",
    "import tqdm\n",
    "sys.path.append(os.path.abspath(\"../src\"))\n",
    "sys.path.append(os.path.abspath(\"./convex_hull\"))"
   ]
  },
  {
   "cell_type": "code",
   "execution_count": 2,
   "id": "64cf4453-1788-444c-b270-de42224f90d6",
   "metadata": {},
   "outputs": [
    {
     "name": "stderr",
     "output_type": "stream",
     "text": [
      "/home/ds6237/.conda/envs/torch-env/lib/python3.12/site-packages/tqdm/auto.py:21: TqdmWarning: IProgress not found. Please update jupyter and ipywidgets. See https://ipywidgets.readthedocs.io/en/stable/user_install.html\n",
      "  from .autonotebook import tqdm as notebook_tqdm\n"
     ]
    }
   ],
   "source": [
    "\"\"\"\n",
    "Validation loss: 2.8789, trained on ~59.7B FineWeb-Edu tokens.\n",
    "This is a base model and can frequently hallucinate.\n",
    "\"\"\"\n",
    "\n",
    "import json\n",
    "\n",
    "from time import time\n",
    "\n",
    "import torch\n",
    "import torch.nn.functional as F\n",
    "import tiktoken\n",
    "from torch import nn\n",
    "\n",
    "from safetensors import safe_open\n",
    "\n",
    "from model_550m import FlashSTU, FlashSTUConfig, get_spectral_filters\n",
    "\n",
    "\n",
    "CHECKPOINT_PATH = \"../models/model_step-114000.safetensors\"\n",
    "CONFIG_PATH = \"../models/config_2-7b.json\""
   ]
  },
  {
   "cell_type": "code",
   "execution_count": 3,
   "id": "6bbcc1b9-4ebe-4ac9-a3ce-79dca34de58d",
   "metadata": {},
   "outputs": [],
   "source": [
    "def apply_compile(model: nn.Module) -> None:\n",
    "    \"\"\"\n",
    "    Apply torch.compile to each layer. This makes compilation efficient\n",
    "    due to repeated structure. Alternatively, one can just compile the whole model.\n",
    "    \"\"\"\n",
    "    print(f\"Compiling each {model.__class__.__name__} layer with torch.compile...\")\n",
    "    start = time.perf_counter()\n",
    "    for idx, layer in model.layers.named_children():\n",
    "        compiled_layer = torch.compile(layer, mode=\"max-autotune\", fullgraph=True)\n",
    "        model.layers.register_module(idx, compiled_layer)\n",
    "    end = time.perf_counter()\n",
    "    print(f\"Finished compiling each {model.__class__.__name__} layer in {end - start:.4f} seconds.\")\n",
    "\n",
    "\n",
    "def load_stu_model(config_path: str, checkpoint_path: str, device: torch.device):\n",
    "    with open(config_path, \"r\") as f:\n",
    "        config_data = json.load(f)\n",
    "\n",
    "    dim = config_data[\"dim\"]\n",
    "    num_heads = config_data[\"num_heads\"]\n",
    "    num_layers = config_data[\"num_layers\"]\n",
    "    num_eigh = config_data[\"num_eigh\"]\n",
    "    seq_len = config_data[\"seq_len\"]\n",
    "    use_hankel_L = config_data[\"use_hankel_L\"]\n",
    "    window_size = config_data[\"window_size\"]\n",
    "    vocab_size = config_data[\"vocab_size\"]\n",
    "    mlp_scale = config_data[\"mlp_scale\"]\n",
    "    bias = config_data[\"bias\"]\n",
    "    dropout = config_data[\"dropout\"]\n",
    "    softcap = config_data[\"softcap\"]\n",
    "    theta = config_data[\"theta\"]\n",
    "    torch_compile = config_data[\"torch_compile\"]\n",
    "    torch_dtype = getattr(torch, config_data[\"torch_dtype\"])\n",
    "\n",
    "    model_config = FlashSTUConfig(\n",
    "        dim=dim,\n",
    "        num_heads=num_heads,\n",
    "        num_layers=num_layers,\n",
    "        seq_len=seq_len,\n",
    "        window_size=window_size,\n",
    "        vocab_size=vocab_size,\n",
    "        mlp_scale=mlp_scale,\n",
    "        bias=bias,\n",
    "        dropout=dropout,\n",
    "        softcap=softcap,\n",
    "        theta=theta,\n",
    "        torch_dtype=torch_dtype,\n",
    "    )\n",
    "\n",
    "    spectral_filters = get_spectral_filters(seq_len, num_eigh, use_hankel_L, device, torch_dtype)\n",
    "    model = FlashSTU(model_config, spectral_filters)\n",
    "    model = model.to(device=device, dtype=torch_dtype)\n",
    "\n",
    "    print(f\"Loading checkpoint from {checkpoint_path}...\")\n",
    "    state_dict = {}\n",
    "    start_time = time()\n",
    "\n",
    "    if checkpoint_path.endswith(\".safetensors\"):\n",
    "        with safe_open(checkpoint_path, framework=\"pt\", device=device.type) as f:\n",
    "            for k in f.keys():\n",
    "                state_dict[k] = f.get_tensor(k)\n",
    "    elif checkpoint_path.endswith(\".pt\"):\n",
    "        state_dict = torch.load(checkpoint_path, map_location=\"cpu\")\n",
    "    else:\n",
    "        raise ValueError(f\"Unsupported checkpoint format: {checkpoint_path}\")\n",
    "    print(f\"Checkpoint loaded in {time() - start_time:.2f} seconds.\")\n",
    "\n",
    "    model.load_state_dict(state_dict, strict=True)\n",
    "    print(\"Model weights loaded successfully!\")\n",
    "\n",
    "    if torch_compile:\n",
    "        model = apply_compile(model)\n",
    "\n",
    "    model.eval()\n",
    "\n",
    "    return model, config_data\n"
   ]
  },
  {
   "cell_type": "code",
   "execution_count": 4,
   "id": "43c051ad-0d01-4b01-9715-f5f6b3959d9f",
   "metadata": {},
   "outputs": [],
   "source": [
    "def generate_text(\n",
    "    model,\n",
    "    tokenizer,\n",
    "    prompt,\n",
    "    num_return_sequences=1,\n",
    "    max_length=512,\n",
    "    device=\"cuda\",\n",
    "    temperature=1.0,\n",
    "    top_k=50,\n",
    "    cache = True\n",
    "):\n",
    "    \"\"\"\n",
    "    Generate text from the given prompt using top-k sampling.\n",
    "\n",
    "    Args:\n",
    "        model: The FlashSTU model instance.\n",
    "        tokenizer: The tokenizer used for encoding/decoding.\n",
    "        prompt (str): Input prompt text.\n",
    "        num_return_sequences (int): How many sequences to return.\n",
    "        max_length (int): Maximum length of generated tokens.\n",
    "        device: torch device.\n",
    "        temperature (float): Sampling temperature. Higher = more random.\n",
    "        top_k (int): Top-K sampling parameter.\n",
    "\n",
    "    Returns:\n",
    "        list[str]: A list of generated text sequences.\n",
    "    \"\"\"\n",
    "    model.eval()\n",
    "\n",
    "    # Encode prompt tokens.\n",
    "    tokens = torch.tensor(\n",
    "        [tokenizer.encode(prompt, allowed_special={\"<|endoftext|>\"})],\n",
    "        device=device,\n",
    "    )\n",
    "    seq_len = tokens.shape[1]\n",
    "    tokens = tokens.repeat(num_return_sequences, 1)\n",
    "    \n",
    "    input_pos = torch.arange(seq_len, device=device)\n",
    "\n",
    "    \n",
    "    sample_rng = torch.Generator(device=device)\n",
    "    sample_rng.manual_seed(1746)\n",
    "\n",
    "    eos_token_id = tokenizer.encode(\n",
    "        \"<|endoftext|>\", allowed_special={\"<|endoftext|>\"}\n",
    "    )[0]\n",
    "    cur_token = seq_len\n",
    "    with torch.no_grad():\n",
    "        for idx in tqdm.tqdm(range(max_length - tokens.size(1))):\n",
    "            with torch.amp.autocast(device_type=\"cuda\", dtype=torch.bfloat16):\n",
    "                # Fwd pass. Inspect logits here.\n",
    "                if not cache:\n",
    "                    logits = model(tokens)\n",
    "                elif idx != 0:\n",
    "                    logits = model(tokens[:, -1:], input_pos = input_pos)     # shape: [batch, 1, vocab]\n",
    "                else:\n",
    "                    logits = model(tokens, input_pos = input_pos)     # shape: [batch, seq, vocab]\n",
    "                logits = logits[:, -1, :]  # last token logits\n",
    "\n",
    "                # Apply temperature scaling.\n",
    "                if temperature > 0:\n",
    "                    logits = logits / temperature\n",
    "\n",
    "            # Compute probabilities.\n",
    "            probs = F.softmax(logits, dim=-1)\n",
    "\n",
    "            # Top-K sampling.\n",
    "            top_k_probs, top_k_indices = torch.topk(probs, top_k, dim=-1)\n",
    "            ix = torch.multinomial(top_k_probs, 1, generator=sample_rng)\n",
    "            next_token = torch.gather(top_k_indices, -1, ix)\n",
    "\n",
    "            # Append next token.\n",
    "            tokens = torch.cat((tokens, next_token), dim=1)\n",
    "            input_pos = torch.tensor([cur_token]).to(device)\n",
    "            cur_token +=1 \n",
    "            # Stop if EOS token is generated.\n",
    "            if (next_token == eos_token_id).any():\n",
    "                break\n",
    "\n",
    "    # Decode all sequences.\n",
    "    generated_sequences = []\n",
    "    for i in range(num_return_sequences):\n",
    "        decoded = tokenizer.decode(tokens[i].tolist())\n",
    "        generated_sequences.append(decoded)\n",
    "\n",
    "    return generated_sequences"
   ]
  },
  {
   "cell_type": "code",
   "execution_count": 5,
   "id": "c729eacd-b0f4-4464-b578-897dc212ca38",
   "metadata": {
    "scrolled": true
   },
   "outputs": [],
   "source": [
    "from tiktoken.load import load_tiktoken_bpe\n",
    "bpe_path = \"../models/o200k_base.tiktoken\"\n",
    "bpe_dict = load_tiktoken_bpe(bpe_path)\n",
    "\n",
    "tokenizer = tiktoken.Encoding(\n",
    "    name=\"o200k_base\",  # Name of the encoding\n",
    "    pat_str=r\"\"\"'s|'t|'re|'ve|'m|'ll|'d| ?\\p{L}+| ?\\p{N}+| ?[^\\s\\p{L}\\p{N}]+|\\s+\"\"\",\n",
    "    mergeable_ranks=bpe_dict,\n",
    "    special_tokens={\n",
    "        \"<|endoftext|>\": 199999,  # Custom special token example (modify as needed)\n",
    "        \"<|endofprompt|>\": 200018,\n",
    "    }\n",
    ")\n"
   ]
  },
  {
   "cell_type": "code",
   "execution_count": 6,
   "id": "88070375-8af1-4a23-90b0-d0f70644c191",
   "metadata": {},
   "outputs": [
    {
     "name": "stdout",
     "output_type": "stream",
     "text": [
      "Model Parameter Count: 550.31M\n",
      "\n"
     ]
    },
    {
     "name": "stderr",
     "output_type": "stream",
     "text": [
      "/home/ds6237/.conda/envs/torch-env/lib/python3.12/site-packages/torch/nn/modules/module.py:1326: UserWarning: Casting complex values to real discards the imaginary part (Triggered internally at /opt/conda/conda-bld/pytorch_1729647378361/work/aten/src/ATen/native/Copy.cpp:308.)\n",
      "  return t.to(\n"
     ]
    },
    {
     "name": "stdout",
     "output_type": "stream",
     "text": [
      "Loading checkpoint from ../models/model_step-114000.safetensors...\n",
      "Checkpoint loaded in 0.39 seconds.\n",
      "Model weights loaded successfully!\n"
     ]
    }
   ],
   "source": [
    "device = torch.device(\"cuda\")\n",
    "\n",
    "# Load model and config.\n",
    "model, config_data = load_stu_model(CONFIG_PATH, CHECKPOINT_PATH, device)\n",
    "# tokenizer = tiktoken.get_encoding(\"o200k_base\") #need to cache this for offline\n",
    "\n"
   ]
  },
  {
   "cell_type": "code",
   "execution_count": 7,
   "id": "dcd2dd73-e402-444e-a0d3-29e4c7b33a0b",
   "metadata": {},
   "outputs": [
    {
     "name": "stderr",
     "output_type": "stream",
     "text": [
      "2025-04-01 01:48:10,626 - INFO - Found 1 shards for split val\n"
     ]
    }
   ],
   "source": [
    "from torch.amp import autocast\n",
    "from torch.nn import CrossEntropyLoss\n",
    "import tqdm \n",
    "\n",
    "from dataloader import DataLoader\n",
    "\n",
    "val_loader = DataLoader(\n",
    "    bsz=1,\n",
    "    seq_len= 128,\n",
    "    dataset='../fineweb-edu', \n",
    "    split=\"val\", \n",
    "    main_process=True,\n",
    ")\n",
    "\n",
    "def evaluate(model, val_steps = 5):\n",
    "    loss_fn = CrossEntropyLoss()\n",
    "    val_loss = 0.0\n",
    "    torch_dtype = getattr(torch, 'bfloat16')\n",
    "    # val_steps = 5 # Abitrarily set to reduce long evaluations, >20 typically used\n",
    "    model.eval()\n",
    "    val_loader.reset()\n",
    "    with torch.no_grad():\n",
    "        for i, batch in tqdm.tqdm(zip(range(val_steps), val_loader, strict=False)):\n",
    "            inputs, targets = batch\n",
    "            inputs, targets = inputs.to(device), targets.to(device)\n",
    "            if torch_dtype != torch.float32:\n",
    "                with autocast(device_type=device.type, dtype=torch_dtype, cache_enabled=True):\n",
    "                    preds = model(inputs)\n",
    "            else:\n",
    "                preds = model(inputs)\n",
    "\n",
    "            loss = loss_fn(preds.flatten(0, 1), targets.flatten(0, 1))\n",
    "            loss = loss / val_steps\n",
    "            val_loss += loss.detach().float()\n",
    "    return(val_loss)"
   ]
  },
  {
   "cell_type": "code",
   "execution_count": 8,
   "id": "6d95e05c-8320-4061-85c8-3a62b9fee437",
   "metadata": {},
   "outputs": [
    {
     "name": "stdout",
     "output_type": "stream",
     "text": [
      "Generating text for prompt 1: Obama is famous for\n"
     ]
    },
    {
     "name": "stderr",
     "output_type": "stream",
     "text": [
      "100%|██████████| 196/196 [00:03<00:00, 53.02it/s]"
     ]
    },
    {
     "name": "stdout",
     "output_type": "stream",
     "text": [
      "\n",
      "Prompt: Obama is famous for\n",
      "Generated Text: Obama is famous for his efforts to create a perfect union between the two countries, and for his efforts on behalf of the poor, the homeless and the disabled. He also worked to bring about the abolition of child labour and the abolition of child labour in the Indian economy. Both were very important in terms of his contribution to the Indian economy.\n",
      "The relationship between the two countries is not entirely harmonious, however. While some of the economic benefits accrued to the United States are obvious, others are more subtle. The United States is seen as a strong partner in providing basic necessities to the poor, while the Indian economy is seen as a weak partner. It is this dichotomy that has been the focus of much debate in recent years.\n",
      "The American Indian community, for example, is often portrayed as a negative force in the Indian economy. This is partly due to the fact that the Indian economy is viewed as a source of income for many Indians, and it is believed that Indian businesses are not taking advantage of this\n",
      "\n",
      "Tokens per second: 53.77\n"
     ]
    },
    {
     "name": "stderr",
     "output_type": "stream",
     "text": [
      "\n"
     ]
    }
   ],
   "source": [
    "# Collect prompt(s) from user.\n",
    "# prompts = []\n",
    "# while True:\n",
    "#     prompt = input(\"Enter a prompt (press enter with no text to finish): \")\n",
    "#     if not prompt:\n",
    "#         break\n",
    "#     prompts.append(prompt.strip())\n",
    "\n",
    "#     if len(prompts) == 0:\n",
    "#         print(\"No prompts provided. Exiting.\")\n",
    "#         break\n",
    "\n",
    "prompts = ['Obama is famous for']\n",
    "\n",
    "# -------------------------------------------------------------------\n",
    "# BASE SETTINGS:\n",
    "BASE_TEMPERATURE = 0.7  # Increase for more randomness.\n",
    "BASE_TOP_K = 50         # Limit sampling to the top k tokens.\n",
    "MAX_LENGTH = 200        # Maximum number of tokens to generate.\n",
    "# -------------------------------------------------------------------\n",
    "def generate_and_time(model, prompts, cache = True):\n",
    "    total_tokens = 0\n",
    "    start_time = time()\n",
    "    \n",
    "    for i, prompt in enumerate(prompts, 1):\n",
    "        print(f\"Generating text for prompt {i}: {prompt}\")\n",
    "        if cache:\n",
    "            model.setup_caches(batch_size = 1)\n",
    "        if not cache and model.caches_are_enabled():\n",
    "            model.reset_caches()\n",
    "            \n",
    "        generated_texts = generate_text(\n",
    "            model,\n",
    "            tokenizer,\n",
    "            prompt,\n",
    "            num_return_sequences=1,\n",
    "            max_length=MAX_LENGTH,\n",
    "            device=device,\n",
    "            temperature=BASE_TEMPERATURE,\n",
    "            top_k=BASE_TOP_K,\n",
    "            cache = cache\n",
    "        )\n",
    "        for gen_text in generated_texts:\n",
    "            print(f\"\\nPrompt: {prompt}\")\n",
    "            print(f\"Generated Text: {gen_text}\\n\")\n",
    "            total_tokens += len(\n",
    "                tokenizer.encode(gen_text, allowed_special={\"<|endoftext|>\"})\n",
    "            )\n",
    "        \n",
    "        if cache:\n",
    "            model.reset_caches()\n",
    "    \n",
    "    end_time = time()\n",
    "    tokens_per_second = total_tokens / (end_time - start_time)\n",
    "    print(f\"Tokens per second: {tokens_per_second:.2f}\")\n",
    "generate_and_time(model, prompts, True)"
   ]
  },
  {
   "cell_type": "code",
   "execution_count": 9,
   "id": "1bb5728f-d4ba-4007-97fb-5df1b5ab1bfa",
   "metadata": {},
   "outputs": [
    {
     "name": "stderr",
     "output_type": "stream",
     "text": [
      "50it [00:04, 11.74it/s]\n"
     ]
    },
    {
     "data": {
      "text/plain": [
       "tensor(3.3545, device='cuda:0')"
      ]
     },
     "execution_count": 9,
     "metadata": {},
     "output_type": "execute_result"
    }
   ],
   "source": [
    "evaluate(model, val_steps = 50)"
   ]
  },
  {
   "cell_type": "code",
   "execution_count": 10,
   "id": "f9dd1089-bd32-444e-96d1-b716d84d198f",
   "metadata": {},
   "outputs": [],
   "source": [
    "from full_fast_stu import FullFastSTU\n",
    "import copy\n",
    "\n",
    "stu_before = []\n",
    "stu_after = []"
   ]
  },
  {
   "cell_type": "code",
   "execution_count": 11,
   "id": "66ab57d6-201a-4e2b-8005-101a47b8c2af",
   "metadata": {},
   "outputs": [
    {
     "name": "stderr",
     "output_type": "stream",
     "text": [
      "/home/ds6237/stu_distill/experiments/convex_hull/full_fast_stu.py:124: FutureWarning: You are using `torch.load` with `weights_only=False` (the current default value), which uses the default pickle module implicitly. It is possible to construct malicious pickle data which will execute arbitrary code during unpickling (See https://github.com/pytorch/pytorch/blob/main/SECURITY.md#untrusted-models for more details). In a future release, the default value for `weights_only` will be flipped to `True`. This limits the functions that could be executed during unpickling. Arbitrary objects will no longer be allowed to be loaded via this mode unless they are explicitly allowlisted by the user via `torch.serialization.add_safe_globals`. We recommend you start setting `weights_only=True` for any use case where you don't have full control of the loaded file. Please open an issue on GitHub for any issues related to this experimental feature.\n",
      "  checkpoint = torch.load(checkpoint_path, map_location=torch.device('cpu'))\n"
     ]
    }
   ],
   "source": [
    "for idx in range(0, 12, 2):\n",
    "    stu_layer = copy.deepcopy(model.layers[idx].stu)\n",
    "    fast_layer = FullFastSTU(stu_layer.cuda(), \"../experiments/convex_hull/best_phi_lds.pt\").cuda()\n",
    "    model.layers[idx].stu = fast_layer\n",
    "\n",
    "    stu_before.append(stu_layer)\n",
    "    stu_after.append(fast_layer)\n"
   ]
  },
  {
   "cell_type": "code",
   "execution_count": 16,
   "id": "f5713d29-36bf-42dd-bf92-719a64aba6df",
   "metadata": {},
   "outputs": [
    {
     "name": "stdout",
     "output_type": "stream",
     "text": [
      "Generating text for prompt 1: Obama is famous for\n"
     ]
    },
    {
     "name": "stderr",
     "output_type": "stream",
     "text": [
      " 26%|██▌       | 50/196 [00:00<00:02, 67.10it/s]"
     ]
    },
    {
     "name": "stdout",
     "output_type": "stream",
     "text": [
      "\n",
      "Prompt: Obama is famous for\n",
      "Generated Text: Obama is famous forICN  msba the of the of theouthms1 of the  of the, the of the, of the of the of the of the in the the and to see The of the, the of the of theas the if<|endoftext|>\n",
      "\n",
      "Tokens per second: 66.73\n"
     ]
    },
    {
     "name": "stderr",
     "output_type": "stream",
     "text": [
      "\n"
     ]
    }
   ],
   "source": [
    "generate_and_time(model, prompts, cache = True)"
   ]
  },
  {
   "cell_type": "code",
   "execution_count": 18,
   "id": "62ce7ef0-dffc-4ee7-aa3c-3a00b600684b",
   "metadata": {},
   "outputs": [
    {
     "name": "stdout",
     "output_type": "stream",
     "text": [
      "Generating text for prompt 1: Obama is famous for\n"
     ]
    },
    {
     "name": "stderr",
     "output_type": "stream",
     "text": [
      "\n",
      "KeyboardInterrupt\n",
      "\n"
     ]
    }
   ],
   "source": [
    "generate_and_time(model, prompts, cache = False)"
   ]
  },
  {
   "cell_type": "code",
   "execution_count": 28,
   "id": "a4f0b53c-611c-4ede-9c32-fd53abfd0584",
   "metadata": {},
   "outputs": [
    {
     "name": "stdout",
     "output_type": "stream",
     "text": [
      "tensor(0.0417, device='cuda:0', dtype=torch.bfloat16)\n",
      "tensor(0.3984, device='cuda:0', dtype=torch.bfloat16)\n",
      "tensor(0.3652, device='cuda:0', dtype=torch.bfloat16)\n",
      "tensor(0.4551, device='cuda:0', dtype=torch.bfloat16)\n",
      "tensor(1.1016, device='cuda:0', dtype=torch.bfloat16)\n",
      "tensor(3.2969, device='cuda:0', dtype=torch.bfloat16)\n"
     ]
    }
   ],
   "source": [
    "\n",
    "import torch.nn.functional as F\n",
    "gaps = []\n",
    "with torch.no_grad():\n",
    "    for i in range(6):\n",
    "        x = torch.randn(1,100,896).cuda()\n",
    "        input_pos = torch.arange(100, device=device)\n",
    "        \n",
    "        stu_out = stu_before[i](x.bfloat16(), input_pos)\n",
    "        lds_out = stu_after[i](x.bfloat16(), input_pos)\n",
    "        print(F.l1_loss(stu_out, lds_out))\n",
    "        gaps.append((stu_out - lds_out).abs().cpu().detach().float().flatten())\n",
    "        #F1 of approx 0.005 between stu with lds filters and lds. That's pretty high error"
   ]
  },
  {
   "cell_type": "code",
   "execution_count": 39,
   "id": "43968ab9-e845-460a-abd8-9a80e67dc369",
   "metadata": {},
   "outputs": [
    {
     "data": {
      "image/png": "[encoded data removed]",
      "text/plain": [
       "<Figure size 640x480 with 1 Axes>"
      ]
     },
     "metadata": {},
     "output_type": "display_data"
    }
   ],
   "source": [
    "import matplotlib.pyplot as plt\n",
    "\n",
    "_ = plt.hist(gaps, bins = 100, log = True)\n",
    "# plt.xscale('log')\n",
    "plt.show()"
   ]
  },
  {
   "cell_type": "code",
   "execution_count": 26,
   "id": "88ee71ea-7178-4be2-a381-4fb758964ab7",
   "metadata": {},
   "outputs": [
    {
     "name": "stdout",
     "output_type": "stream",
     "text": [
      "tensor(0.0002, device='cuda:0', dtype=torch.bfloat16)\n",
      "tensor(0.0005, device='cuda:0', dtype=torch.bfloat16)\n",
      "tensor(0.0008, device='cuda:0', dtype=torch.bfloat16)\n",
      "tensor(0.0010, device='cuda:0', dtype=torch.bfloat16)\n",
      "tensor(0.0010, device='cuda:0', dtype=torch.bfloat16)\n",
      "tensor(0.0008, device='cuda:0', dtype=torch.bfloat16)\n"
     ]
    }
   ],
   "source": [
    "import torch.nn.functional as F\n",
    "gaps = []\n",
    "with torch.no_grad():\n",
    "    for i in range(6):\n",
    "        x = torch.randn(1,100,896).cuda()\n",
    "        input_pos = torch.arange(100, device=device)\n",
    "\n",
    "        stu_before[i].stu_filters = phi_cur\n",
    "        stu_out = stu_before[i](x.bfloat16(), input_pos)\n",
    "        \n",
    "        stu_before[i].stu_filters = phi_alt\n",
    "        lds_out = stu_before[i](x.bfloat16(), input_pos)\n",
    "        gaps.append((stu_out - lds_out).abs().cpu().detach().float().flatten())\n",
    "        print(F.l1_loss(stu_out, lds_out))\n",
    "        #F1 of approx 0.005 between stu with lds filters and lds. That's pretty high error"
   ]
  },
  {
   "cell_type": "code",
   "execution_count": 27,
   "id": "5d3cb21f-ada7-4da0-bc41-d1bc5703bdec",
   "metadata": {},
   "outputs": [
    {
     "data": {
      "image/png": "[encoded data removed]",
      "text/plain": [
       "<Figure size 640x480 with 1 Axes>"
      ]
     },
     "metadata": {},
     "output_type": "display_data"
    }
   ],
   "source": [
    "import matplotlib.pyplot as plt\n",
    "\n",
    "_ = plt.hist(gaps, bins = 100, log = True)\n",
    "# plt.xscale('log')\n",
    "plt.show()"
   ]
  },
  {
   "cell_type": "code",
   "execution_count": 31,
   "id": "c2d3f399-d9c8-43dd-9a77-aea38255179a",
   "metadata": {
    "scrolled": true
   },
   "outputs": [
    {
     "data": {
      "text/plain": [
       "{0.0,\n",
       " 2.682209e-07,\n",
       " 1.9073486e-06,\n",
       " 3.8146973e-06,\n",
       " 7.6293945e-06,\n",
       " 9.536743e-06,\n",
       " 1.1444092e-05,\n",
       " 1.4781952e-05,\n",
       " 1.5258789e-05,\n",
       " 1.7166138e-05,\n",
       " 1.9073486e-05,\n",
       " 2.193451e-05,\n",
       " 2.2888184e-05,\n",
       " 2.5749207e-05,\n",
       " 2.670288e-05,\n",
       " 3.0517578e-05,\n",
       " 3.2424927e-05,\n",
       " 3.4332275e-05,\n",
       " 3.6239624e-05,\n",
       " 3.8146973e-05,\n",
       " 4.5776367e-05,\n",
       " 4.7683716e-05,\n",
       " 4.9591064e-05,\n",
       " 5.340576e-05,\n",
       " 5.722046e-05,\n",
       " 6.1035156e-05,\n",
       " 6.484985e-05,\n",
       " 6.866455e-05,\n",
       " 7.247925e-05,\n",
       " 7.6293945e-05,\n",
       " 8.392334e-05,\n",
       " 9.1552734e-05,\n",
       " 9.918213e-05,\n",
       " 0.00010681152,\n",
       " 0.00011062622,\n",
       " 0.00011444092,\n",
       " 0.00012207031,\n",
       " 0.0001296997,\n",
       " 0.0001335144,\n",
       " 0.0001373291,\n",
       " 0.0001411438,\n",
       " 0.0001449585,\n",
       " 0.00014686584,\n",
       " 0.00015258789,\n",
       " 0.00016021729,\n",
       " 0.00016784668,\n",
       " 0.00017547607,\n",
       " 0.00018310547,\n",
       " 0.00019073486,\n",
       " 0.00019836426,\n",
       " 0.00020217896,\n",
       " 0.00021362305,\n",
       " 0.00021743774,\n",
       " 0.00022888184,\n",
       " 0.00024414062,\n",
       " 0.00025177002,\n",
       " 0.0002593994,\n",
       " 0.0002746582,\n",
       " 0.0002822876,\n",
       " 0.000289917,\n",
       " 0.0002975464,\n",
       " 0.00030517578,\n",
       " 0.00031280518,\n",
       " 0.00032043457,\n",
       " 0.00032806396,\n",
       " 0.00033569336,\n",
       " 0.00035095215,\n",
       " 0.00036621094,\n",
       " 0.00038146973,\n",
       " 0.00039672852,\n",
       " 0.0004119873,\n",
       " 0.0004272461,\n",
       " 0.0004348755,\n",
       " 0.00045776367,\n",
       " 0.00047302246,\n",
       " 0.00048828125,\n",
       " 0.00050354004,\n",
       " 0.00051116943,\n",
       " 0.0005187988,\n",
       " 0.000541687,\n",
       " 0.0005493164,\n",
       " 0.0005569458,\n",
       " 0.000579834,\n",
       " 0.00060653687,\n",
       " 0.00061035156,\n",
       " 0.00062561035,\n",
       " 0.00064086914,\n",
       " 0.00065612793,\n",
       " 0.0006713867,\n",
       " 0.0006866455,\n",
       " 0.0007019043,\n",
       " 0.0007324219,\n",
       " 0.00074768066,\n",
       " 0.00076293945,\n",
       " 0.00079345703,\n",
       " 0.0008087158,\n",
       " 0.0008239746,\n",
       " 0.0008544922,\n",
       " 0.00088500977,\n",
       " 0.00091552734,\n",
       " 0.00093078613,\n",
       " 0.0009460449,\n",
       " 0.0009765625,\n",
       " 0.0009918213,\n",
       " 0.0010223389,\n",
       " 0.0010375977,\n",
       " 0.0010528564,\n",
       " 0.0010681152,\n",
       " 0.001083374,\n",
       " 0.0010986328,\n",
       " 0.0011138916,\n",
       " 0.0011291504,\n",
       " 0.0011444092,\n",
       " 0.001159668,\n",
       " 0.0011901855,\n",
       " 0.0012207031,\n",
       " 0.0012512207,\n",
       " 0.0012817383,\n",
       " 0.0013427734,\n",
       " 0.0013504028,\n",
       " 0.001373291,\n",
       " 0.0014038086,\n",
       " 0.0014648438,\n",
       " 0.0014801025,\n",
       " 0.0015106201,\n",
       " 0.0015258789,\n",
       " 0.0015869141,\n",
       " 0.0016174316,\n",
       " 0.0016479492,\n",
       " 0.0016708374,\n",
       " 0.0016784668,\n",
       " 0.0016937256,\n",
       " 0.0017089844,\n",
       " 0.0017700195,\n",
       " 0.0018310547,\n",
       " 0.0018463135,\n",
       " 0.0018920898,\n",
       " 0.0019378662,\n",
       " 0.001953125,\n",
       " 0.0019836426,\n",
       " 0.0020141602,\n",
       " 0.0020446777,\n",
       " 0.0020751953,\n",
       " 0.0021209717,\n",
       " 0.0021362305,\n",
       " 0.002166748,\n",
       " 0.0021972656,\n",
       " 0.0022277832,\n",
       " 0.0022583008,\n",
       " 0.002319336,\n",
       " 0.0024108887,\n",
       " 0.0024414062,\n",
       " 0.0024719238,\n",
       " 0.0025634766,\n",
       " 0.0026855469,\n",
       " 0.002746582,\n",
       " 0.0028076172,\n",
       " 0.0029296875,\n",
       " 0.0030517578,\n",
       " 0.0031738281,\n",
       " 0.0032348633,\n",
       " 0.0032958984,\n",
       " 0.0033569336,\n",
       " 0.0034179688,\n",
       " 0.003540039,\n",
       " 0.0036621094,\n",
       " 0.00390625,\n",
       " 0.003967285,\n",
       " 0.0040893555,\n",
       " 0.0041503906,\n",
       " 0.004333496,\n",
       " 0.0043945312,\n",
       " 0.0045166016,\n",
       " 0.004638672,\n",
       " 0.004760742,\n",
       " 0.0048828125,\n",
       " 0.005065918,\n",
       " 0.005126953,\n",
       " 0.0053710938,\n",
       " 0.0056152344,\n",
       " 0.005859375,\n",
       " 0.0061035156,\n",
       " 0.0063476562,\n",
       " 0.0068359375,\n",
       " 0.0073242188,\n",
       " 0.0075683594,\n",
       " 0.0076904297,\n",
       " 0.0078125,\n",
       " 0.0087890625,\n",
       " 0.009643555,\n",
       " 0.009765625,\n",
       " 0.010253906,\n",
       " 0.0107421875,\n",
       " 0.01171875,\n",
       " 0.012207031,\n",
       " 0.0126953125,\n",
       " 0.013671875,\n",
       " 0.015625,\n",
       " 0.016601562,\n",
       " 0.017578125,\n",
       " 0.0234375,\n",
       " 0.03125,\n",
       " 0.0625,\n",
       " 0.125,\n",
       " 0.25}"
      ]
     },
     "execution_count": 31,
     "metadata": {},
     "output_type": "execute_result"
    }
   ],
   "source": [
    "set(torch.cat(gaps).numpy())"
   ]
  },
  {
   "cell_type": "code",
   "execution_count": 31,
   "id": "e47f37f5-7c47-4238-a0b6-43ec0090b687",
   "metadata": {},
   "outputs": [],
   "source": [
    "#So the error is induced by the LDS approximation"
   ]
  },
  {
   "cell_type": "code",
   "execution_count": 32,
   "id": "8ac9b2dc-c567-4e8a-b32b-ac53bf0628a0",
   "metadata": {},
   "outputs": [
    {
     "name": "stdout",
     "output_type": "stream",
     "text": [
      "Iteration 1, Model 0, Loss: 3.3080577850341797e-06\n",
      "Iteration 2, Model 0, Loss: 3.4421682357788086e-06\n",
      "Iteration 3, Model 0, Loss: 3.3080577850341797e-06\n",
      "Iteration 4, Model 0, Loss: 3.769993782043457e-06\n",
      "Iteration 5, Model 0, Loss: 3.069639205932617e-06\n"
     ]
    },
    {
     "ename": "KeyboardInterrupt",
     "evalue": "",
     "output_type": "error",
     "traceback": [
      "\u001b[0;31m---------------------------------------------------------------------------\u001b[0m",
      "\u001b[0;31mKeyboardInterrupt\u001b[0m                         Traceback (most recent call last)",
      "Cell \u001b[0;32mIn[32], line 20\u001b[0m\n\u001b[1;32m     18\u001b[0m \u001b[38;5;66;03m# Use .float() instead of .bfloat16() for better stability in training\u001b[39;00m\n\u001b[1;32m     19\u001b[0m stu_out \u001b[38;5;241m=\u001b[39m stu_before[i](x\u001b[38;5;241m.\u001b[39mbfloat16(), input_pos)\u001b[38;5;241m.\u001b[39mdetach()\n\u001b[0;32m---> 20\u001b[0m lds_out \u001b[38;5;241m=\u001b[39m stu_after[i](x\u001b[38;5;241m.\u001b[39mbfloat16(), input_pos)\n\u001b[1;32m     22\u001b[0m loss \u001b[38;5;241m=\u001b[39m F\u001b[38;5;241m.\u001b[39mmse_loss(stu_out, lds_out)\n\u001b[1;32m     24\u001b[0m optimizers[i]\u001b[38;5;241m.\u001b[39mzero_grad()  \u001b[38;5;66;03m# Clear previous gradients\u001b[39;00m\n",
      "File \u001b[0;32m~/.conda/envs/torch-env/lib/python3.12/site-packages/torch/nn/modules/module.py:1736\u001b[0m, in \u001b[0;36mModule._wrapped_call_impl\u001b[0;34m(self, *args, **kwargs)\u001b[0m\n\u001b[1;32m   1734\u001b[0m     \u001b[38;5;28;01mreturn\u001b[39;00m \u001b[38;5;28mself\u001b[39m\u001b[38;5;241m.\u001b[39m_compiled_call_impl(\u001b[38;5;241m*\u001b[39margs, \u001b[38;5;241m*\u001b[39m\u001b[38;5;241m*\u001b[39mkwargs)  \u001b[38;5;66;03m# type: ignore[misc]\u001b[39;00m\n\u001b[1;32m   1735\u001b[0m \u001b[38;5;28;01melse\u001b[39;00m:\n\u001b[0;32m-> 1736\u001b[0m     \u001b[38;5;28;01mreturn\u001b[39;00m \u001b[38;5;28mself\u001b[39m\u001b[38;5;241m.\u001b[39m_call_impl(\u001b[38;5;241m*\u001b[39margs, \u001b[38;5;241m*\u001b[39m\u001b[38;5;241m*\u001b[39mkwargs)\n",
      "File \u001b[0;32m~/.conda/envs/torch-env/lib/python3.12/site-packages/torch/nn/modules/module.py:1747\u001b[0m, in \u001b[0;36mModule._call_impl\u001b[0;34m(self, *args, **kwargs)\u001b[0m\n\u001b[1;32m   1742\u001b[0m \u001b[38;5;66;03m# If we don't have any hooks, we want to skip the rest of the logic in\u001b[39;00m\n\u001b[1;32m   1743\u001b[0m \u001b[38;5;66;03m# this function, and just call forward.\u001b[39;00m\n\u001b[1;32m   1744\u001b[0m \u001b[38;5;28;01mif\u001b[39;00m \u001b[38;5;129;01mnot\u001b[39;00m (\u001b[38;5;28mself\u001b[39m\u001b[38;5;241m.\u001b[39m_backward_hooks \u001b[38;5;129;01mor\u001b[39;00m \u001b[38;5;28mself\u001b[39m\u001b[38;5;241m.\u001b[39m_backward_pre_hooks \u001b[38;5;129;01mor\u001b[39;00m \u001b[38;5;28mself\u001b[39m\u001b[38;5;241m.\u001b[39m_forward_hooks \u001b[38;5;129;01mor\u001b[39;00m \u001b[38;5;28mself\u001b[39m\u001b[38;5;241m.\u001b[39m_forward_pre_hooks\n\u001b[1;32m   1745\u001b[0m         \u001b[38;5;129;01mor\u001b[39;00m _global_backward_pre_hooks \u001b[38;5;129;01mor\u001b[39;00m _global_backward_hooks\n\u001b[1;32m   1746\u001b[0m         \u001b[38;5;129;01mor\u001b[39;00m _global_forward_hooks \u001b[38;5;129;01mor\u001b[39;00m _global_forward_pre_hooks):\n\u001b[0;32m-> 1747\u001b[0m     \u001b[38;5;28;01mreturn\u001b[39;00m forward_call(\u001b[38;5;241m*\u001b[39margs, \u001b[38;5;241m*\u001b[39m\u001b[38;5;241m*\u001b[39mkwargs)\n\u001b[1;32m   1749\u001b[0m result \u001b[38;5;241m=\u001b[39m \u001b[38;5;28;01mNone\u001b[39;00m\n\u001b[1;32m   1750\u001b[0m called_always_called_hooks \u001b[38;5;241m=\u001b[39m \u001b[38;5;28mset\u001b[39m()\n",
      "File \u001b[0;32m~/stu_distill/experiments/convex_hull/full_fast_stu.py:78\u001b[0m, in \u001b[0;36mFullFastSTU.forward\u001b[0;34m(self, x, input_pos)\u001b[0m\n\u001b[1;32m     76\u001b[0m bsz \u001b[38;5;241m=\u001b[39m x\u001b[38;5;241m.\u001b[39mshape[\u001b[38;5;241m0\u001b[39m]\n\u001b[1;32m     77\u001b[0m x_reshaped \u001b[38;5;241m=\u001b[39m x\u001b[38;5;241m.\u001b[39mpermute(\u001b[38;5;241m0\u001b[39m, \u001b[38;5;241m2\u001b[39m, \u001b[38;5;241m1\u001b[39m)\u001b[38;5;241m.\u001b[39mreshape(\u001b[38;5;241m-\u001b[39m\u001b[38;5;241m1\u001b[39m, x\u001b[38;5;241m.\u001b[39mshape[\u001b[38;5;241m1\u001b[39m], \u001b[38;5;241m1\u001b[39m)  \u001b[38;5;66;03m# [B*d_in, L, 1]\u001b[39;00m\n\u001b[0;32m---> 78\u001b[0m U_reshaped \u001b[38;5;241m=\u001b[39m \u001b[38;5;28mself\u001b[39m\u001b[38;5;241m.\u001b[39mlds(x_reshaped) \u001b[38;5;66;03m# [B*d_in, L, K]\u001b[39;00m\n\u001b[1;32m     79\u001b[0m U \u001b[38;5;241m=\u001b[39m U_reshaped\u001b[38;5;241m.\u001b[39mreshape(bsz, x\u001b[38;5;241m.\u001b[39mshape[\u001b[38;5;241m2\u001b[39m], x\u001b[38;5;241m.\u001b[39mshape[\u001b[38;5;241m1\u001b[39m], \u001b[38;5;241m-\u001b[39m\u001b[38;5;241m1\u001b[39m)\u001b[38;5;241m.\u001b[39mpermute(\u001b[38;5;241m0\u001b[39m, \u001b[38;5;241m2\u001b[39m, \u001b[38;5;241m3\u001b[39m, \u001b[38;5;241m1\u001b[39m)\n\u001b[1;32m     81\u001b[0m \u001b[38;5;28;01mif\u001b[39;00m \u001b[38;5;28mself\u001b[39m\u001b[38;5;241m.\u001b[39muse_approx:\n",
      "File \u001b[0;32m~/.conda/envs/torch-env/lib/python3.12/site-packages/torch/nn/modules/module.py:1736\u001b[0m, in \u001b[0;36mModule._wrapped_call_impl\u001b[0;34m(self, *args, **kwargs)\u001b[0m\n\u001b[1;32m   1734\u001b[0m     \u001b[38;5;28;01mreturn\u001b[39;00m \u001b[38;5;28mself\u001b[39m\u001b[38;5;241m.\u001b[39m_compiled_call_impl(\u001b[38;5;241m*\u001b[39margs, \u001b[38;5;241m*\u001b[39m\u001b[38;5;241m*\u001b[39mkwargs)  \u001b[38;5;66;03m# type: ignore[misc]\u001b[39;00m\n\u001b[1;32m   1735\u001b[0m \u001b[38;5;28;01melse\u001b[39;00m:\n\u001b[0;32m-> 1736\u001b[0m     \u001b[38;5;28;01mreturn\u001b[39;00m \u001b[38;5;28mself\u001b[39m\u001b[38;5;241m.\u001b[39m_call_impl(\u001b[38;5;241m*\u001b[39margs, \u001b[38;5;241m*\u001b[39m\u001b[38;5;241m*\u001b[39mkwargs)\n",
      "File \u001b[0;32m~/.conda/envs/torch-env/lib/python3.12/site-packages/torch/nn/modules/module.py:1747\u001b[0m, in \u001b[0;36mModule._call_impl\u001b[0;34m(self, *args, **kwargs)\u001b[0m\n\u001b[1;32m   1742\u001b[0m \u001b[38;5;66;03m# If we don't have any hooks, we want to skip the rest of the logic in\u001b[39;00m\n\u001b[1;32m   1743\u001b[0m \u001b[38;5;66;03m# this function, and just call forward.\u001b[39;00m\n\u001b[1;32m   1744\u001b[0m \u001b[38;5;28;01mif\u001b[39;00m \u001b[38;5;129;01mnot\u001b[39;00m (\u001b[38;5;28mself\u001b[39m\u001b[38;5;241m.\u001b[39m_backward_hooks \u001b[38;5;129;01mor\u001b[39;00m \u001b[38;5;28mself\u001b[39m\u001b[38;5;241m.\u001b[39m_backward_pre_hooks \u001b[38;5;129;01mor\u001b[39;00m \u001b[38;5;28mself\u001b[39m\u001b[38;5;241m.\u001b[39m_forward_hooks \u001b[38;5;129;01mor\u001b[39;00m \u001b[38;5;28mself\u001b[39m\u001b[38;5;241m.\u001b[39m_forward_pre_hooks\n\u001b[1;32m   1745\u001b[0m         \u001b[38;5;129;01mor\u001b[39;00m _global_backward_pre_hooks \u001b[38;5;129;01mor\u001b[39;00m _global_backward_hooks\n\u001b[1;32m   1746\u001b[0m         \u001b[38;5;129;01mor\u001b[39;00m _global_forward_hooks \u001b[38;5;129;01mor\u001b[39;00m _global_forward_pre_hooks):\n\u001b[0;32m-> 1747\u001b[0m     \u001b[38;5;28;01mreturn\u001b[39;00m forward_call(\u001b[38;5;241m*\u001b[39margs, \u001b[38;5;241m*\u001b[39m\u001b[38;5;241m*\u001b[39mkwargs)\n\u001b[1;32m   1749\u001b[0m result \u001b[38;5;241m=\u001b[39m \u001b[38;5;28;01mNone\u001b[39;00m\n\u001b[1;32m   1750\u001b[0m called_always_called_hooks \u001b[38;5;241m=\u001b[39m \u001b[38;5;28mset\u001b[39m()\n",
      "File \u001b[0;32m~/stu_distill/src/lds.py:38\u001b[0m, in \u001b[0;36mLDS.forward\u001b[0;34m(self, inputs)\u001b[0m\n\u001b[1;32m     35\u001b[0m all_h_t \u001b[38;5;241m=\u001b[39m torch\u001b[38;5;241m.\u001b[39mcat(all_h_t, dim\u001b[38;5;241m=\u001b[39m\u001b[38;5;241m1\u001b[39m)\n\u001b[1;32m     36\u001b[0m lds_out \u001b[38;5;241m=\u001b[39m torch\u001b[38;5;241m.\u001b[39mmatmul(all_h_t, \u001b[38;5;28mself\u001b[39m\u001b[38;5;241m.\u001b[39mC)\n\u001b[0;32m---> 38\u001b[0m ar \u001b[38;5;241m=\u001b[39m compute_ar_x_preds(\u001b[38;5;28mself\u001b[39m\u001b[38;5;241m.\u001b[39mM, inputs)\n\u001b[1;32m     39\u001b[0m \u001b[38;5;28;01mreturn\u001b[39;00m lds_out \u001b[38;5;241m+\u001b[39m ar\n",
      "File \u001b[0;32m~/stu_distill/src/lds_utils.py:52\u001b[0m, in \u001b[0;36mcompute_ar_x_preds\u001b[0;34m(w, x)\u001b[0m\n\u001b[1;32m     49\u001b[0m             w_k \u001b[38;5;241m=\u001b[39m w[:, :, k]  \u001b[38;5;66;03m# Shape: [d_out, d_in]\u001b[39;00m\n\u001b[1;32m     51\u001b[0m             \u001b[38;5;66;03m# Compute the matrix multiplication using torch operations\u001b[39;00m\n\u001b[0;32m---> 52\u001b[0m             ar_pred[:, t, :] \u001b[38;5;241m+\u001b[39m\u001b[38;5;241m=\u001b[39m x_t_minus_k \u001b[38;5;241m@\u001b[39m w_k\u001b[38;5;241m.\u001b[39mt()\n\u001b[1;32m     54\u001b[0m \u001b[38;5;28;01mreturn\u001b[39;00m ar_pred\n",
      "\u001b[0;31mKeyboardInterrupt\u001b[0m: "
     ]
    }
   ],
   "source": [
    "import torch\n",
    "import torch.nn.functional as F\n",
    "from torch.optim import Adam\n",
    "\n",
    "# Ensure all parameters in stu_after are trainable\n",
    "for pm in stu_after:\n",
    "    for param in pm.parameters():\n",
    "        param.requires_grad = True\n",
    "\n",
    "# Optimizers for each model\n",
    "optimizers = [Adam(stu_after[i].parameters(), lr=1e-6) for i in range(6)]\n",
    "\n",
    "for i in range(6):\n",
    "    for epoch in range(100):  # Number of optimization steps\n",
    "        x = torch.randn(1, 100, 896).cuda()\n",
    "        input_pos = torch.arange(100, device='cuda')\n",
    "        \n",
    "        # Use .float() instead of .bfloat16() for better stability in training\n",
    "        stu_out = stu_before[i](x.bfloat16(), input_pos).detach()\n",
    "        lds_out = stu_after[i](x.bfloat16(), input_pos)\n",
    "        \n",
    "        loss = F.mse_loss(stu_out, lds_out)\n",
    "        \n",
    "        optimizers[i].zero_grad()  # Clear previous gradients\n",
    "        loss.backward()           # Backpropagation\n",
    "        optimizers[i].step()      # Gradient descent step\n",
    "        \n",
    "        print(f\"Iteration {epoch + 1}, Model {i}, Loss: {loss.item()}\")"
   ]
  }
 ],
 "metadata": {
  "kernelspec": {
   "display_name": "torch-env [~/.conda/envs/torch-env/]",
   "language": "python",
   "name": "conda_torch-env"
  },
  "language_info": {
   "codemirror_mode": {
    "name": "ipython",
    "version": 3
   },
   "file_extension": ".py",
   "mimetype": "text/x-python",
   "name": "python",
   "nbconvert_exporter": "python",
   "pygments_lexer": "ipython3",
   "version": "3.12.7"
  }
 },
 "nbformat": 4,
 "nbformat_minor": 5
}
