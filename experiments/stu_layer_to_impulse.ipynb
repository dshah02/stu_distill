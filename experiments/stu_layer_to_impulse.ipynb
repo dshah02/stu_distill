{
 "cells": [
  {
   "cell_type": "code",
   "execution_count": 2,
   "metadata": {},
   "outputs": [],
   "source": [
    "import sys\n",
    "import os\n",
    "sys.path.append(os.path.abspath(\"../src\"))"
   ]
  },
  {
   "cell_type": "code",
   "execution_count": 3,
   "metadata": {},
   "outputs": [],
   "source": [
    "try:\n",
    "    from flashfftconv import FlashFFTConv\n",
    "\n",
    "    flash_fft_available = True\n",
    "except ImportError as e:\n",
    "    print(\n",
    "        f\"Unable to import FlashFFTConv: {e}. Falling back to PyTorch implementation.\"\n",
    "    )\n",
    "    flash_fft_available = False\n"
   ]
  },
  {
   "cell_type": "code",
   "execution_count": 4,
   "metadata": {},
   "outputs": [
    {
     "name": "stderr",
     "output_type": "stream",
     "text": [
      "/home/ds6237/.conda/envs/torch-env/lib/python3.12/site-packages/tqdm/auto.py:21: TqdmWarning: IProgress not found. Please update jupyter and ipywidgets. See https://ipywidgets.readthedocs.io/en/stable/user_install.html\n",
      "  from .autonotebook import tqdm as notebook_tqdm\n"
     ]
    }
   ],
   "source": [
    "import argparse\n",
    "import torch\n",
    "from torch import nn\n",
    "import matplotlib.pyplot as plt\n",
    "import numpy as np\n",
    "from model_550m import STU, flash_convolve\n",
    "import time\n",
    "import random\n",
    "from torch.nn import functional as F"
   ]
  },
  {
   "cell_type": "code",
   "execution_count": 5,
   "metadata": {},
   "outputs": [],
   "source": [
    "from lds import LDS"
   ]
  },
  {
   "cell_type": "code",
   "execution_count": 6,
   "metadata": {},
   "outputs": [
    {
     "name": "stderr",
     "output_type": "stream",
     "text": [
      "/tmp/ipykernel_99284/231399206.py:12: FutureWarning: You are using `torch.load` with `weights_only=False` (the current default value), which uses the default pickle module implicitly. It is possible to construct malicious pickle data which will execute arbitrary code during unpickling (See https://github.com/pytorch/pytorch/blob/main/SECURITY.md#untrusted-models for more details). In a future release, the default value for `weights_only` will be flipped to `True`. This limits the functions that could be executed during unpickling. Arbitrary objects will no longer be allowed to be loaded via this mode unless they are explicitly allowlisted by the user via `torch.serialization.add_safe_globals`. We recommend you start setting `weights_only=True` for any use case where you don't have full control of the loaded file. Please open an issue on GitHub for any issues related to this experimental feature.\n",
      "  stu_layer_full = torch.load(f\"../stu_layers/stu_layer_{layer_i}_550m_param_full.pt\", map_location=device)\n"
     ]
    }
   ],
   "source": [
    "layer_i = 2\n",
    "state_dim = 1000\n",
    "seq_len = 512\n",
    "kx = 5\n",
    "lr = 0.0001\n",
    "epochs = 5000\n",
    "\n",
    "\n",
    "\n",
    "# Device setup\n",
    "device = torch.device(\"cuda\" if torch.cuda.is_available() else \"cpu\")\n",
    "\n",
    "# Load the layer i weights\n",
    "stu_layer_full = torch.load(f\"../stu_layers/stu_layer_{layer_i}_550m_param_full.pt\", map_location=device)\n",
    "stu_layer_full.eval()\n",
    "\n",
    "# Initialize LDS model\n",
    "lds = LDS(state_dim, 896, 896, kx).to(device)\n",
    "optimizer = torch.optim.Adam(lds.parameters(), lr=lr)\n",
    "\n",
    "# Training\n",
    "lds_loss_values = []\n",
    "\n",
    "best_loss = float('inf')"
   ]
  },
  {
   "cell_type": "code",
   "execution_count": 8,
   "metadata": {},
   "outputs": [],
   "source": [
    "def gen_stu_impulse_approx(stu, seq_len=1000):\n",
    "    \"\"\"\n",
    "    Generate the impulse response of a STU model with approximation.\n",
    "    \n",
    "    Args:\n",
    "        stu: The STU model\n",
    "        seq_len: Length of the impulse response\n",
    "        \n",
    "    Returns:\n",
    "        impulse_response: The impulse response of the STU model with shape (seq_len, d_out, d_in)\n",
    "    \"\"\"\n",
    "    # Create an impulse input\n",
    "    batch_size = 1\n",
    "    d_in = stu.d_in\n",
    "    d_out = stu.d_out\n",
    "    impulse = torch.zeros((batch_size, seq_len, d_in), device=stu.M_inputs.device if hasattr(stu, 'M_inputs') else 'cpu')\n",
    "    \n",
    "    # Initialize the output tensor with the correct shape (seq_len, d_out, d_in)\n",
    "    impulse_response = torch.zeros((seq_len, d_out, d_in), device=impulse.device)\n",
    "    \n",
    "    # For each input dimension, create an impulse and get the response\n",
    "    for i in range(d_in):\n",
    "        # Reset the impulse tensor\n",
    "        impulse.zero_()\n",
    "        # Set the impulse for the current input dimension\n",
    "        impulse[:, 0, i] = 1.0\n",
    "        \n",
    "        # Pass the impulse through the STU model\n",
    "        with torch.no_grad():\n",
    "            if stu.use_approx:\n",
    "                # Project the impulse using M_inputs\n",
    "                impulse_proj = impulse @ stu.M_inputs.float()\n",
    "                \n",
    "                # Project the filters using M_filters\n",
    "                phi_proj = stu.stu_filters.float() @ stu.M_filters.float()\n",
    "                \n",
    "                # Compute the convolution\n",
    "                if stu.flash_fft:\n",
    "                    spectral_plus, spectral_minus = flash_convolve(\n",
    "                        impulse_proj, phi_proj, stu.flash_fft, stu.use_approx\n",
    "                    )\n",
    "                else:\n",
    "                    spectral_plus, spectral_minus = convolve(\n",
    "                        impulse_proj, phi_proj, stu.n, stu.use_approx\n",
    "                    )\n",
    "                \n",
    "                # The impulse response for this input dimension\n",
    "                response = spectral_plus if stu.use_hankel_L else spectral_plus + spectral_minus\n",
    "            else:\n",
    "                # For non-approximation case, use the original forward pass\n",
    "                response = stu(impulse)\n",
    "            \n",
    "            # Store the response for this input dimension\n",
    "            impulse_response[:, :, i] = response.squeeze(0).float()\n",
    "    \n",
    "    return impulse_response.cpu().numpy()\n"
   ]
  },
  {
   "cell_type": "code",
   "execution_count": 9,
   "metadata": {
    "scrolled": true
   },
   "outputs": [],
   "source": [
    "stu_impulse = gen_stu_impulse_approx(stu_layer_full, seq_len = seq_len)\n",
    "stu_impulse = torch.Tensor(stu_impulse).cuda()"
   ]
  },
  {
   "cell_type": "code",
   "execution_count": 10,
   "metadata": {},
   "outputs": [],
   "source": [
    "torch.save(stu_impulse.cpu(), \"filter_2_impulse.pth\")"
   ]
  }
 ],
 "metadata": {
  "kernelspec": {
   "display_name": "flashstu",
   "language": "python",
   "name": "python3"
  },
  "language_info": {
   "codemirror_mode": {
    "name": "ipython",
    "version": 3
   },
   "file_extension": ".py",
   "mimetype": "text/x-python",
   "name": "python",
   "nbconvert_exporter": "python",
   "pygments_lexer": "ipython3",
   "version": "3.12.5"
  }
 },
 "nbformat": 4,
 "nbformat_minor": 4
}
