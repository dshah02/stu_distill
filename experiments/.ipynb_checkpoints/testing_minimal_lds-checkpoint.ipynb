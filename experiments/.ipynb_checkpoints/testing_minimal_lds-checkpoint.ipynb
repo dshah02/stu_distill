{
 "cells": [
  {
   "cell_type": "code",
   "execution_count": 1,
   "metadata": {},
   "outputs": [],
   "source": [
    "import sys\n",
    "import os\n",
    "sys.path.append(os.path.abspath(\"../src\"))"
   ]
  },
  {
   "cell_type": "code",
   "execution_count": 2,
   "metadata": {},
   "outputs": [
    {
     "name": "stderr",
     "output_type": "stream",
     "text": [
      "/home/ds6237/.conda/envs/torch-env/lib/python3.12/site-packages/tqdm/auto.py:21: TqdmWarning: IProgress not found. Please update jupyter and ipywidgets. See https://ipywidgets.readthedocs.io/en/stable/user_install.html\n",
      "  from .autonotebook import tqdm as notebook_tqdm\n"
     ]
    }
   ],
   "source": [
    "import argparse\n",
    "import torch\n",
    "from torch import nn\n",
    "import matplotlib.pyplot as plt\n",
    "from model_550m import STU\n",
    "import time\n",
    "import random\n",
    "from torch.nn import functional as F"
   ]
  },
  {
   "cell_type": "code",
   "execution_count": 3,
   "metadata": {},
   "outputs": [],
   "source": [
    "from lds import LDS"
   ]
  },
  {
   "cell_type": "code",
   "execution_count": 4,
   "metadata": {},
   "outputs": [
    {
     "name": "stderr",
     "output_type": "stream",
     "text": [
      "/tmp/ipykernel_1446438/1323184024.py:13: FutureWarning: You are using `torch.load` with `weights_only=False` (the current default value), which uses the default pickle module implicitly. It is possible to construct malicious pickle data which will execute arbitrary code during unpickling (See https://github.com/pytorch/pytorch/blob/main/SECURITY.md#untrusted-models for more details). In a future release, the default value for `weights_only` will be flipped to `True`. This limits the functions that could be executed during unpickling. Arbitrary objects will no longer be allowed to be loaded via this mode unless they are explicitly allowlisted by the user via `torch.serialization.add_safe_globals`. We recommend you start setting `weights_only=True` for any use case where you don't have full control of the loaded file. Please open an issue on GitHub for any issues related to this experimental feature.\n",
      "  stu_layer_full = torch.load(f\"../stu_layers/stu_layer_{layer_i}_550m_param_full.pt\", map_location=device)\n"
     ]
    }
   ],
   "source": [
    "layer_i = 2\n",
    "state_dim = 10000\n",
    "batch_size = 2\n",
    "epochs = 4000\n",
    "seq_len = 512\n",
    "kx = 5\n",
    "lr = 0.0001\n",
    "\n",
    "# Device setup\n",
    "device = torch.device(\"cuda\" if torch.cuda.is_available() else \"cpu\")\n",
    "\n",
    "# Load the layer i weights\n",
    "stu_layer_full = torch.load(f\"../stu_layers/stu_layer_{layer_i}_550m_param_full.pt\", map_location=device)\n",
    "stu_layer_full.eval()\n",
    "\n",
    "# Initialize LDS model\n",
    "lds = LDS(state_dim, 896, 896, kx).to(device)\n",
    "optimizer = torch.optim.Adam(lds.parameters(), lr=lr)\n",
    "\n",
    "# Training\n",
    "lds_loss_values = []\n",
    "\n",
    "best_loss = float('inf')"
   ]
  },
  {
   "cell_type": "code",
   "execution_count": null,
   "metadata": {},
   "outputs": [
    {
     "name": "stdout",
     "output_type": "stream",
     "text": [
      "Epoch 0, Loss: 0.792000949382782\n",
      "Epoch 10, Loss: 0.7540223002433777\n"
     ]
    }
   ],
   "source": [
    "for epoch in range(epochs):\n",
    "    inputs = torch.randn(batch_size, seq_len, 896).to(device).to(torch.bfloat16)\n",
    "    stu_outputs = stu_layer_full(inputs).to(device)\n",
    "\n",
    "    optimizer.zero_grad()\n",
    "    loss = lds.compute_loss(inputs, stu_outputs.to(torch.float).detach())\n",
    "    loss.backward()\n",
    "    torch.nn.utils.clip_grad_norm_(lds.parameters(), max_norm=1)\n",
    "    lds_loss_values.append(loss.item())\n",
    "    optimizer.step()\n",
    "\n",
    "    with torch.no_grad():\n",
    "        lds.A.data.clamp_(max=1, min=-1)\n",
    "\n",
    "    if epoch % 10 == 0:\n",
    "        print(f\"Epoch {epoch}, Loss: {loss.item()}\")"
   ]
  },
  {
   "cell_type": "code",
   "execution_count": null,
   "metadata": {},
   "outputs": [],
   "source": [
    "torch.save(lds.state_dict(), \"lds_10k_5.pth\")"
   ]
  },
  {
   "cell_type": "code",
   "execution_count": null,
   "metadata": {},
   "outputs": [],
   "source": [
    "import torch\n",
    "\n",
    "def train_lds(config):\n",
    "    \n",
    "    for layer_i in config[\"layers\"]:\n",
    "        print(f\"Training Layer {layer_i}...\")\n",
    "\n",
    "        # Load the layer i weights\n",
    "        stu_layer_full = torch.load(f\"../stu_layers/stu_layer_{layer_i}_550m_param_full.pt\", map_location=device)\n",
    "        stu_layer_full.eval()\n",
    "\n",
    "        # Initialize LDS model\n",
    "        lds = LDS(config[\"state_dim\"], 896, 896, config[\"kx\"]).to(device)\n",
    "        optimizer = torch.optim.Adam(lds.parameters(), lr=config[\"lr\"])\n",
    "\n",
    "        # Training\n",
    "        lds_loss_values = []\n",
    "        best_loss = float('inf')\n",
    "\n",
    "        for epoch in range(config[\"epochs\"]):\n",
    "            inputs = torch.randn(config[\"batch_size\"], config[\"seq_len\"], 896).to(device).to(torch.bfloat16)\n",
    "            stu_outputs = stu_layer_full(inputs).to(device)\n",
    "\n",
    "            optimizer.zero_grad()\n",
    "            loss = lds.compute_loss(inputs, stu_outputs.to(torch.float).detach())\n",
    "            loss.backward()\n",
    "            torch.nn.utils.clip_grad_norm_(lds.parameters(), max_norm=1)\n",
    "            lds_loss_values.append(loss.item())\n",
    "            optimizer.step()\n",
    "\n",
    "            with torch.no_grad():\n",
    "                lds.A.data.clamp_(max=1, min=-1)\n",
    "\n",
    "            if epoch % 10 == 0:\n",
    "                print(f\"Layer {layer_i}, Epoch {epoch}, Loss: {loss.item()}\")\n",
    "\n",
    "        # Save the trained model\n",
    "        torch.save(lds.state_dict(), f\"lds_layer_{layer_i}_10k_5.pth\")\n",
    "\n",
    "        print(f\"Finished training Layer {layer_i}.\")\n",
    "\n",
    "config = {\n",
    "    \"layers\": [0, 2, 4, 6, 8, 10],\n",
    "    \"state_dim\": 10000,\n",
    "    \"batch_size\": 2,\n",
    "    \"epochs\": 4000,\n",
    "    \"seq_len\": 512,\n",
    "    \"kx\": 5,\n",
    "    \"lr\": 0.0001\n",
    "}\n",
    "\n",
    "train_lds(config)\n"
   ]
  },
  {
   "cell_type": "code",
   "execution_count": null,
   "metadata": {},
   "outputs": [],
   "source": []
  },
  {
   "cell_type": "code",
   "execution_count": null,
   "metadata": {},
   "outputs": [],
   "source": []
  }
 ],
 "metadata": {
  "kernelspec": {
   "display_name": "torch-env [~/.conda/envs/torch-env/]",
   "language": "python",
   "name": "conda_torch-env"
  },
  "language_info": {
   "codemirror_mode": {
    "name": "ipython",
    "version": 3
   },
   "file_extension": ".py",
   "mimetype": "text/x-python",
   "name": "python",
   "nbconvert_exporter": "python",
   "pygments_lexer": "ipython3",
   "version": "3.12.7"
  }
 },
 "nbformat": 4,
 "nbformat_minor": 4
}
