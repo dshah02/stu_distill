{
 "cells": [
  {
   "cell_type": "code",
   "execution_count": 4,
   "metadata": {},
   "outputs": [],
   "source": [
    "import sys\n",
    "import os\n",
    "sys.path.append(os.path.abspath(\"../src\"))"
   ]
  },
  {
   "cell_type": "code",
   "execution_count": 5,
   "metadata": {},
   "outputs": [],
   "source": [
    "import argparse\n",
    "import torch\n",
    "from torch import nn\n",
    "import matplotlib.pyplot as plt\n",
    "from stu import STU\n",
    "import time\n",
    "import random"
   ]
  },
  {
   "cell_type": "code",
   "execution_count": 7,
   "metadata": {},
   "outputs": [],
   "source": [
    "from lds import *"
   ]
  },
  {
   "cell_type": "code",
   "execution_count": 11,
   "metadata": {},
   "outputs": [
    {
     "data": {
      "image/png": "[encoded data removed]",
      "text/plain": [
       "<Figure size 640x480 with 1 Axes>"
      ]
     },
     "metadata": {},
     "output_type": "display_data"
    }
   ],
   "source": [
    "import matplotlib.pyplot as plt\n",
    "_ = plt.hist(exponential_decay_init([1000], lam = 3), bins = 50)"
   ]
  },
  {
   "cell_type": "code",
   "execution_count": 41,
   "metadata": {},
   "outputs": [],
   "source": [
    "import math\n",
    "class LDS_LR(nn.Module):\n",
    "    def __init__(self, state_dim, input_dim, output_dim, kx=5, rank = 50, lam = 1):\n",
    "        super(LDS_LR, self).__init__()\n",
    "        self.state_dim = state_dim\n",
    "        self.input_dim = input_dim\n",
    "        self.output_dim = output_dim\n",
    "        self.kx = kx\n",
    "        self.h0 = nn.Parameter(torch.randn(state_dim))\n",
    "        \n",
    "        self.A = nn.Parameter(exponential_decay_init([state_dim], lam = lam))\n",
    "\n",
    "        self.B1 = nn.Parameter(torch.randn(input_dim, rank) / input_dim) #each of these ranks could be different\n",
    "        self.B2   = nn.Parameter(torch.randn(rank, state_dim) / math.sqrt(rank))\n",
    "\n",
    "        self.C1 = nn.Parameter(torch.randn(state_dim, rank) / state_dim)\n",
    "        self.C2   = nn.Parameter(torch.randn(rank, output_dim) / math.sqrt(rank))\n",
    "\n",
    "        self.M2 = nn.Parameter(torch.randn(output_dim, rank, kx) / output_dim)\n",
    "        self.M1   = nn.Parameter(torch.randn(rank, input_dim, kx) / math.sqrt(rank))\n",
    "    \n",
    "\n",
    "    def forward(self, inputs):\n",
    "        device = inputs.device\n",
    "        bsz, seq_len, _ = inputs.shape\n",
    "        h_t = self.h0.expand(bsz, self.state_dim).to(device)\n",
    "        A = self.A.flatten()\n",
    "        \n",
    "        all_h_t = []\n",
    "        for t in range(seq_len):\n",
    "            u_t = inputs[:, t, :]\n",
    "            h_t = A * h_t + ((u_t @ self.B1) @ self.B2)\n",
    "            all_h_t.append(h_t.unsqueeze(1))\n",
    "        all_h_t = torch.cat(all_h_t, dim=1)\n",
    "        lds_out = torch.matmul(all_h_t, self.C1)\n",
    "        lds_out = torch.matmul(lds_out, self.C2)\n",
    "\n",
    "        ar = compute_ar_x_preds(self.M1, inputs)\n",
    "        ar = compute_ar_x_preds(self.M2, ar)\n",
    "        return lds_out + ar\n",
    "\n",
    "    def compute_loss(self, inputs, targets):\n",
    "        mse_loss = nn.MSELoss()\n",
    "        outputs = self(inputs)\n",
    "        return mse_loss(outputs, targets)\n"
   ]
  },
  {
   "cell_type": "code",
   "execution_count": 49,
   "metadata": {},
   "outputs": [
    {
     "name": "stderr",
     "output_type": "stream",
     "text": [
      "/tmp/ipykernel_2729773/936017912.py:14: FutureWarning: You are using `torch.load` with `weights_only=False` (the current default value), which uses the default pickle module implicitly. It is possible to construct malicious pickle data which will execute arbitrary code during unpickling (See https://github.com/pytorch/pytorch/blob/main/SECURITY.md#untrusted-models for more details). In a future release, the default value for `weights_only` will be flipped to `True`. This limits the functions that could be executed during unpickling. Arbitrary objects will no longer be allowed to be loaded via this mode unless they are explicitly allowlisted by the user via `torch.serialization.add_safe_globals`. We recommend you start setting `weights_only=True` for any use case where you don't have full control of the loaded file. Please open an issue on GitHub for any issues related to this experimental feature.\n",
      "  stu_layer_full = torch.load(f\"../stu_layers/stu_layer_{layer_i}_500m_param_full.pt\", map_location=device)\n"
     ]
    }
   ],
   "source": [
    "layer_i = 0\n",
    "state_dim = 10000\n",
    "batch_size = 2\n",
    "epochs = 4000\n",
    "seq_len = 512\n",
    "kx = 3\n",
    "lam = 1\n",
    "lr = 0.0001\n",
    "\n",
    "# Device setup\n",
    "device = torch.device(\"cuda\" if torch.cuda.is_available() else \"cpu\")\n",
    "\n",
    "# Load the layer i weights\n",
    "stu_layer_full = torch.load(f\"../stu_layers/stu_layer_{layer_i}_500m_param_full.pt\", map_location=device)\n",
    "stu_layer_full.to(device)\n",
    "\n",
    "# Initialize LDS model\n",
    "# lds = LDS_LR(state_dim, 768, 768, kx, rank = 50, lam = lam).to(device)\n",
    "lds = LDS(state_dim, 768, 768, kx, lam = lam).to(device)\n",
    "optimizer = torch.optim.Adam(lds.parameters(), lr=lr)\n",
    "\n",
    "# Training\n",
    "lds_loss_values = []\n",
    "\n",
    "best_loss = float('inf')"
   ]
  },
  {
   "cell_type": "code",
   "execution_count": 50,
   "metadata": {},
   "outputs": [
    {
     "name": "stdout",
     "output_type": "stream",
     "text": [
      "Epoch 0, Loss: 0.10265550017356873\n",
      "Epoch 10, Loss: 0.08941756933927536\n",
      "Epoch 20, Loss: 0.0740121379494667\n",
      "Epoch 30, Loss: 0.05623256415128708\n",
      "Epoch 40, Loss: 0.03878938406705856\n",
      "Epoch 50, Loss: 0.024538924917578697\n",
      "Epoch 60, Loss: 0.014576549641788006\n",
      "Epoch 70, Loss: 0.00902007706463337\n",
      "Epoch 80, Loss: 0.006022542715072632\n",
      "Epoch 90, Loss: 0.004336541052907705\n",
      "Epoch 100, Loss: 0.0033186457585543394\n",
      "Epoch 110, Loss: 0.002526800613850355\n",
      "Epoch 120, Loss: 0.0020581744611263275\n",
      "Epoch 130, Loss: 0.0017126929014921188\n",
      "Epoch 140, Loss: 0.001462268177419901\n",
      "Epoch 150, Loss: 0.0012430476490408182\n",
      "Epoch 160, Loss: 0.0011002897517755628\n",
      "Epoch 170, Loss: 0.000987514271400869\n",
      "Epoch 180, Loss: 0.0008791509899310768\n",
      "Epoch 190, Loss: 0.0008146673208102584\n",
      "Epoch 200, Loss: 0.0007501497748307884\n",
      "Epoch 210, Loss: 0.0007110795704647899\n",
      "Epoch 220, Loss: 0.0006718254880979657\n",
      "Epoch 230, Loss: 0.0006268477300181985\n",
      "Epoch 240, Loss: 0.0006020250148139894\n",
      "Epoch 250, Loss: 0.0005680245230905712\n",
      "Epoch 260, Loss: 0.0005360440700314939\n",
      "Epoch 270, Loss: 0.0005160801229067147\n",
      "Epoch 280, Loss: 0.0005057086236774921\n",
      "Epoch 290, Loss: 0.0004807128570973873\n",
      "Epoch 300, Loss: 0.0004662225837819278\n",
      "Epoch 310, Loss: 0.0004486427642405033\n",
      "Epoch 320, Loss: 0.00042932372889481485\n"
     ]
    },
    {
     "ename": "KeyboardInterrupt",
     "evalue": "",
     "output_type": "error",
     "traceback": [
      "\u001b[0;31m---------------------------------------------------------------------------\u001b[0m",
      "\u001b[0;31mKeyboardInterrupt\u001b[0m                         Traceback (most recent call last)",
      "Cell \u001b[0;32mIn[50], line 7\u001b[0m\n\u001b[1;32m      5\u001b[0m optimizer\u001b[38;5;241m.\u001b[39mzero_grad()\n\u001b[1;32m      6\u001b[0m loss \u001b[38;5;241m=\u001b[39m lds\u001b[38;5;241m.\u001b[39mcompute_loss(inputs\u001b[38;5;241m.\u001b[39mto(stu_outputs\u001b[38;5;241m.\u001b[39mdtype), stu_outputs)\n\u001b[0;32m----> 7\u001b[0m loss\u001b[38;5;241m.\u001b[39mbackward()\n\u001b[1;32m      8\u001b[0m \u001b[38;5;66;03m# torch.nn.utils.clip_grad_norm_(lds.parameters(), max_norm=1)\u001b[39;00m\n\u001b[1;32m      9\u001b[0m lds_loss_values\u001b[38;5;241m.\u001b[39mappend(loss\u001b[38;5;241m.\u001b[39mitem())\n",
      "File \u001b[0;32m~/.conda/envs/torch-env/lib/python3.12/site-packages/torch/_tensor.py:581\u001b[0m, in \u001b[0;36mTensor.backward\u001b[0;34m(self, gradient, retain_graph, create_graph, inputs)\u001b[0m\n\u001b[1;32m    571\u001b[0m \u001b[38;5;28;01mif\u001b[39;00m has_torch_function_unary(\u001b[38;5;28mself\u001b[39m):\n\u001b[1;32m    572\u001b[0m     \u001b[38;5;28;01mreturn\u001b[39;00m handle_torch_function(\n\u001b[1;32m    573\u001b[0m         Tensor\u001b[38;5;241m.\u001b[39mbackward,\n\u001b[1;32m    574\u001b[0m         (\u001b[38;5;28mself\u001b[39m,),\n\u001b[0;32m   (...)\u001b[0m\n\u001b[1;32m    579\u001b[0m         inputs\u001b[38;5;241m=\u001b[39minputs,\n\u001b[1;32m    580\u001b[0m     )\n\u001b[0;32m--> 581\u001b[0m torch\u001b[38;5;241m.\u001b[39mautograd\u001b[38;5;241m.\u001b[39mbackward(\n\u001b[1;32m    582\u001b[0m     \u001b[38;5;28mself\u001b[39m, gradient, retain_graph, create_graph, inputs\u001b[38;5;241m=\u001b[39minputs\n\u001b[1;32m    583\u001b[0m )\n",
      "File \u001b[0;32m~/.conda/envs/torch-env/lib/python3.12/site-packages/torch/autograd/__init__.py:347\u001b[0m, in \u001b[0;36mbackward\u001b[0;34m(tensors, grad_tensors, retain_graph, create_graph, grad_variables, inputs)\u001b[0m\n\u001b[1;32m    342\u001b[0m     retain_graph \u001b[38;5;241m=\u001b[39m create_graph\n\u001b[1;32m    344\u001b[0m \u001b[38;5;66;03m# The reason we repeat the same comment below is that\u001b[39;00m\n\u001b[1;32m    345\u001b[0m \u001b[38;5;66;03m# some Python versions print out the first line of a multi-line function\u001b[39;00m\n\u001b[1;32m    346\u001b[0m \u001b[38;5;66;03m# calls in the traceback and some print out the last line\u001b[39;00m\n\u001b[0;32m--> 347\u001b[0m _engine_run_backward(\n\u001b[1;32m    348\u001b[0m     tensors,\n\u001b[1;32m    349\u001b[0m     grad_tensors_,\n\u001b[1;32m    350\u001b[0m     retain_graph,\n\u001b[1;32m    351\u001b[0m     create_graph,\n\u001b[1;32m    352\u001b[0m     inputs,\n\u001b[1;32m    353\u001b[0m     allow_unreachable\u001b[38;5;241m=\u001b[39m\u001b[38;5;28;01mTrue\u001b[39;00m,\n\u001b[1;32m    354\u001b[0m     accumulate_grad\u001b[38;5;241m=\u001b[39m\u001b[38;5;28;01mTrue\u001b[39;00m,\n\u001b[1;32m    355\u001b[0m )\n",
      "File \u001b[0;32m~/.conda/envs/torch-env/lib/python3.12/site-packages/torch/autograd/graph.py:825\u001b[0m, in \u001b[0;36m_engine_run_backward\u001b[0;34m(t_outputs, *args, **kwargs)\u001b[0m\n\u001b[1;32m    823\u001b[0m     unregister_hooks \u001b[38;5;241m=\u001b[39m _register_logging_hooks_on_whole_graph(t_outputs)\n\u001b[1;32m    824\u001b[0m \u001b[38;5;28;01mtry\u001b[39;00m:\n\u001b[0;32m--> 825\u001b[0m     \u001b[38;5;28;01mreturn\u001b[39;00m Variable\u001b[38;5;241m.\u001b[39m_execution_engine\u001b[38;5;241m.\u001b[39mrun_backward(  \u001b[38;5;66;03m# Calls into the C++ engine to run the backward pass\u001b[39;00m\n\u001b[1;32m    826\u001b[0m         t_outputs, \u001b[38;5;241m*\u001b[39margs, \u001b[38;5;241m*\u001b[39m\u001b[38;5;241m*\u001b[39mkwargs\n\u001b[1;32m    827\u001b[0m     )  \u001b[38;5;66;03m# Calls into the C++ engine to run the backward pass\u001b[39;00m\n\u001b[1;32m    828\u001b[0m \u001b[38;5;28;01mfinally\u001b[39;00m:\n\u001b[1;32m    829\u001b[0m     \u001b[38;5;28;01mif\u001b[39;00m attach_logging_hooks:\n",
      "\u001b[0;31mKeyboardInterrupt\u001b[0m: "
     ]
    }
   ],
   "source": [
    "for epoch in range(epochs):\n",
    "    inputs = torch.randn(batch_size, seq_len, 768).to(device).to(torch.bfloat16)\n",
    "    stu_outputs = stu_layer_full(inputs).to(device)\n",
    "\n",
    "    optimizer.zero_grad()\n",
    "    loss = lds.compute_loss(inputs.to(stu_outputs.dtype), stu_outputs)\n",
    "    loss.backward()\n",
    "    # torch.nn.utils.clip_grad_norm_(lds.parameters(), max_norm=1)\n",
    "    lds_loss_values.append(loss.item())\n",
    "    optimizer.step()\n",
    "\n",
    "    with torch.no_grad():\n",
    "        lds.A.data.clamp_(max=1, min=-1)\n",
    "\n",
    "    if epoch % 10 == 0:\n",
    "        print(f\"Epoch {epoch}, Loss: {loss.item()}\")\n",
    "\n",
    "#With LDS_LR at rank = 50, kx = 3, state = 10k, lam = 1 after 100 epochs loss is 0.090, 200 is 0.088, 300 is 0.086\n",
    "#With LDS_LR at rank = 300, kx = 3, state = 10k, lam = 1 after 100 epochs loss is 0.058, 200 is 0.032, 300 loss is 0.023\n",
    "#With LDS_LR at rank = 768, kx = 3, state = 10k, lam = 1 after 100 epochs loss is 0.014, 200 is 0.00369, 300 loss is 0.00168\n",
    "\n",
    "#With LDS at rank = 768, kx = 3, state = 10k, lam = 1 after 100 epochs loss is 0.0033, 200 is 0.00075, 300 loss is 0.00047"
   ]
  },
  {
   "cell_type": "code",
   "execution_count": null,
   "metadata": {},
   "outputs": [],
   "source": []
  }
 ],
 "metadata": {
  "kernelspec": {
   "display_name": "torch-env [~/.conda/envs/torch-env/]",
   "language": "python",
   "name": "conda_torch-env"
  },
  "language_info": {
   "codemirror_mode": {
    "name": "ipython",
    "version": 3
   },
   "file_extension": ".py",
   "mimetype": "text/x-python",
   "name": "python",
   "nbconvert_exporter": "python",
   "pygments_lexer": "ipython3",
   "version": "3.12.7"
  }
 },
 "nbformat": 4,
 "nbformat_minor": 4
}
