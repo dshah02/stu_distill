{
 "cells": [
  {
   "cell_type": "code",
   "execution_count": 1,
   "id": "9e3d8e43-3ca8-4580-b8d7-6c0e0c3930c5",
   "metadata": {},
   "outputs": [
    {
     "name": "stderr",
     "output_type": "stream",
     "text": [
      "/home/ds6237/.conda/envs/torch-env/lib/python3.12/site-packages/tqdm/auto.py:21: TqdmWarning: IProgress not found. Please update jupyter and ipywidgets. See https://ipywidgets.readthedocs.io/en/stable/user_install.html\n",
      "  from .autonotebook import tqdm as notebook_tqdm\n"
     ]
    }
   ],
   "source": [
    "import torch\n",
    "import sys\n",
    "import os\n",
    "sys.path.append(os.path.abspath(\"../src\"))\n",
    "sys.path.append(os.path.abspath(\"../experiments/convex_hull\"))\n",
    "\n",
    "from model_550m import get_spectral_filters, STU\n",
    "from full_fast_accel import FullFastSTU\n",
    "\n",
    "class STUConfig():\n",
    "    def __init__(\n",
    "        self,\n",
    "        d_in=896,\n",
    "        d_out=896,\n",
    "        num_eigh=24,\n",
    "        seq_len=8192,\n",
    "        use_hankel_L=False,\n",
    "        use_approx=True,\n",
    "        use_flash_fft = True,\n",
    "        torch_dtype = torch.bfloat16\n",
    "    ):\n",
    "        super().__init__()\n",
    "        self.n_embd = d_in  # Used by some parts of the code\n",
    "        self.dim = d_in     # Used by other parts of the code\n",
    "        self.d_out = d_out\n",
    "        self.num_eigh = num_eigh\n",
    "        self.seq_len = seq_len\n",
    "        self.use_hankel_L = use_hankel_L\n",
    "        self.use_approx = use_approx\n",
    "        self.use_flash_fft = use_flash_fft\n",
    "        self.torch_dtype = torch_dtype\n",
    "\n",
    "def create_random_stu(d_in=1, d_out=1, num_eigh=24, use_hankel_L=False, use_approx=True):\n",
    "    # Create a random config\n",
    " \n",
    "    filters = get_spectral_filters(\n",
    "        seq_len=8192,\n",
    "        K=num_eigh,\n",
    "        use_hankel_L=use_hankel_L,\n",
    "        device=torch.device('cuda'),\n",
    "        dtype=torch.bfloat16\n",
    "    )\n",
    "    \n",
    "    # Create random STU\n",
    "    config = STUConfig()\n",
    "    stu = STU(config, filters).cuda()\n",
    "    return stu"
   ]
  },
  {
   "cell_type": "code",
   "execution_count": 2,
   "id": "5885b479-a048-4792-ae21-4099f6a6250a",
   "metadata": {},
   "outputs": [
    {
     "name": "stderr",
     "output_type": "stream",
     "text": [
      "/home/ds6237/stu_distill/experiments/convex_hull/full_fast_accel.py:256: FutureWarning: You are using `torch.load` with `weights_only=False` (the current default value), which uses the default pickle module implicitly. It is possible to construct malicious pickle data which will execute arbitrary code during unpickling (See https://github.com/pytorch/pytorch/blob/main/SECURITY.md#untrusted-models for more details). In a future release, the default value for `weights_only` will be flipped to `True`. This limits the functions that could be executed during unpickling. Arbitrary objects will no longer be allowed to be loaded via this mode unless they are explicitly allowlisted by the user via `torch.serialization.add_safe_globals`. We recommend you start setting `weights_only=True` for any use case where you don't have full control of the loaded file. Please open an issue on GitHub for any issues related to this experimental feature.\n",
      "  checkpoint = torch.load(checkpoint_path, map_location=torch.device('cpu'))\n"
     ]
    },
    {
     "name": "stdout",
     "output_type": "stream",
     "text": [
      "Mean absolute difference: 0.09912109375\n",
      "Max absolute difference: 4.0\n"
     ]
    }
   ],
   "source": [
    "stu = create_random_stu()\n",
    "\n",
    "seq_len = 100    \n",
    "# Generate random input\n",
    "batch_size = 1\n",
    "d_in = stu.config.n_embd\n",
    "x = torch.randn(batch_size, seq_len, d_in, dtype=torch.bfloat16).cuda()\n",
    "input_pos = torch.arange(seq_len).unsqueeze(0).expand(batch_size, -1).cuda()\n",
    "\n",
    "full_fast_stu = FullFastSTU(stu, \"../experiments/convex_hull/fit_filters_205/250_phi_lds_float32.pt\")\n",
    "\n",
    "# Get outputs from both models\n",
    "with torch.no_grad():\n",
    "    stu_output = stu(x, input_pos)\n",
    "    full_fast_output = full_fast_stu(x, input_pos)\n",
    "# Calculate differences\n",
    "abs_diff = torch.abs(stu_output - full_fast_output)\n",
    "mean_diff = abs_diff.mean().item()\n",
    "max_diff = abs_diff.max().item()\n",
    "    \n",
    "\n",
    "print(f\"Mean absolute difference: {mean_diff}\")\n",
    "print(f\"Max absolute difference: {max_diff}\")\n",
    "\n",
    "\n",
    "# Check if outputs are close\n",
    "is_close = torch.allclose(stu_output, full_fast_output, rtol=1e-5, atol=1e-5)\n",
    "\n",
    "#with best_phi_lds.pt\n",
    "#Mean absolute difference: 0.00689697265625\n",
    "#Max absolute difference: 0.0625\n",
    "\n",
    "#with 250"
   ]
  },
  {
   "cell_type": "code",
   "execution_count": null,
   "id": "9f1a7785-02a6-4f4d-b337-85a826782e53",
   "metadata": {},
   "outputs": [
    {
     "name": "stdout",
     "output_type": "stream",
     "text": [
      "Performing 3 warmup runs...\n"
     ]
    }
   ],
   "source": [
    "full_fast_stu.profile(input_shape = (1, 128, 896))"
   ]
  },
  {
   "cell_type": "code",
   "execution_count": null,
   "id": "241f2262-fc65-43cf-94fa-d5afcc217352",
   "metadata": {},
   "outputs": [],
   "source": [
    "x = x.double()\n",
    "x = x @ full_fast_stu.M_inputs\n",
    "\n",
    "bsz = x.shape[0]\n",
    "x_reshaped = x.permute(0, 2, 1).reshape(-1, x.shape[1], 1)\n",
    "U_reshaped = full_fast_stu.lds(x_reshaped)\n",
    "U_reshaped = torch.cat([U_reshaped[:, :, :24] @ full_fast_stu.M_filters, U_reshaped[:, :, 24:] @ full_fast_stu.M_filters], dim = -1)\n",
    "\n",
    "U = U_reshaped.reshape(bsz, x.shape[2], x.shape[1], -1).permute(0, 2, 3, 1)\n"
   ]
  },
  {
   "cell_type": "code",
   "execution_count": null,
   "id": "b85e5ede-4f53-4f03-938b-5543c5bb851b",
   "metadata": {},
   "outputs": [],
   "source": [
    "U.shape"
   ]
  },
  {
   "cell_type": "code",
   "execution_count": null,
   "id": "275035f2-2240-47cb-b96c-9657f929da46",
   "metadata": {},
   "outputs": [],
   "source": [
    "x = x.double()\n",
    "x = x @ full_fast_stu.M_inputs #[1, 8192, 4]\n",
    "\n",
    "bsz = x.shape[0]\n",
    "x_reshaped = x.permute(0, 2, 1).reshape(-1, x.shape[1], 1) #[4, 8192, 1]\n",
    "U_reshaped = full_fast_stu.lds(x_reshaped) #[4, 8192, 48]\n",
    "U_reshaped = torch.cat([U_reshaped[:, :, :24] @ full_fast_stu.M_filters, U_reshaped[:, :, 24:] @ full_fast_stu.M_filters], dim = -1)\n",
    "#[4, 8192, 8]\n",
    "\n",
    "U = U_reshaped.reshape(bsz, x.shape[2], x.shape[1], -1).permute(0, 2, 3, 1)\n",
    "#[1, 8192, 8, 4]"
   ]
  },
  {
   "cell_type": "code",
   "execution_count": 11,
   "id": "5e01bfe0-f67d-4a98-9a5f-d9f1a8826764",
   "metadata": {},
   "outputs": [
    {
     "name": "stdout",
     "output_type": "stream",
     "text": [
      "tensor([[[[ 24.8791,  19.1846,  18.5300,   2.2011],\n",
      "          [ -9.3722,  -7.2270,  -6.9804,  -0.8292],\n",
      "          [  5.2935,   4.0819,   3.9426,   0.4683],\n",
      "          ...,\n",
      "          [ -9.3714,  -7.2264,  -6.9798,  -0.8291],\n",
      "          [  5.2935,   4.0819,   3.9426,   0.4683],\n",
      "          [ -0.7550,  -0.5822,  -0.5623,  -0.0668]],\n",
      "\n",
      "         [[  3.3225,   4.6895,   4.0535,  -3.0851],\n",
      "          [ -1.0422,  -1.6051,  -1.3710,   1.1807],\n",
      "          [  2.4939,   2.3757,   2.1934,  -0.4983],\n",
      "          ...,\n",
      "          [  2.2698,   0.9489,   1.0958,   1.4736],\n",
      "          [ -3.1872,  -2.0050,  -2.0379,  -1.0009],\n",
      "          [  3.3025,   2.4820,   2.4118,   0.3947]],\n",
      "\n",
      "         [[-12.5063,  -9.0107,  -8.9068,  -2.1296],\n",
      "          [  5.0971,   3.7098,   3.6559,   0.8079],\n",
      "          [  6.8477,   5.5679,   5.3004,   0.1454],\n",
      "          ...,\n",
      "          [  4.8798,   3.8256,   3.7043,   0.3389],\n",
      "          [  7.2195,   5.3688,   5.2168,   0.9499],\n",
      "          [  1.7835,   1.6471,   1.5320,  -0.2734]],\n",
      "\n",
      "         ...,\n",
      "\n",
      "         [[ 20.2459,  15.0464,  16.5639,   3.2329],\n",
      "          [ -4.5559,  -3.3920,  -4.4455,  -0.9215],\n",
      "          [  2.7360,   1.2765,   3.4794,   2.1534],\n",
      "          ...,\n",
      "          [ -2.3692,  -2.8811,  -3.8922,   1.0808],\n",
      "          [  1.4005,   2.0156,   1.8996,  -1.3158],\n",
      "          [  1.6159,   0.9530,   1.1470,   0.6544]],\n",
      "\n",
      "         [[ 15.7279,   8.8603,  12.1237,   7.3906],\n",
      "          [ -5.2858,  -2.9654,  -4.4109,  -2.6020],\n",
      "          [  1.9027,  -0.3814,   2.0241,   3.6693],\n",
      "          ...,\n",
      "          [ -1.7468,   0.1848,  -1.0732,  -2.8469],\n",
      "          [  1.0794,  -1.0789,   0.3472,   3.4056],\n",
      "          [ -0.9531,  -0.6404,  -0.5889,  -0.2201]],\n",
      "\n",
      "         [[-19.9854,  -8.5400, -13.6525, -13.7848],\n",
      "          [  8.2737,   4.0511,   6.1389,   4.9175],\n",
      "          [ -2.6217,  -1.4541,  -0.0639,  -0.7145],\n",
      "          ...,\n",
      "          [ 10.9630,   4.8611,   7.1760,   7.1547],\n",
      "          [ -4.3220,  -0.1645,  -1.5632,  -5.6129],\n",
      "          [  4.1577,   2.6982,   3.6784,   1.4480]]]], device='cuda:0',\n",
      "       dtype=torch.float64, grad_fn=<PermuteBackward0>)\n"
     ]
    }
   ],
   "source": [
    "print(U)"
   ]
  },
  {
   "cell_type": "code",
   "execution_count": 13,
   "id": "05713ecb-8304-401f-bba9-a836a5b9bdd7",
   "metadata": {},
   "outputs": [],
   "source": [
    "x = x.double()\n",
    "x = x @ full_fast_stu.M_inputs #[1, 8192, 4]\n",
    "\n",
    "bsz = x.shape[0]\n",
    "x_reshaped = x.permute(0, 2, 1).reshape(-1, x.shape[1], 1) #[4, 8192, 1]\n",
    "U_reshaped = full_fast_stu.lds(x_reshaped) #[4, 8192, 48]\n",
    "U_reshaped = torch.cat([U_reshaped[:, :, :24] @ (full_fast_stu.M_filters @ full_fast_stu.M_inputs), U_reshaped[:, :, 24:] @ (full_fast_stu.M_filters @ full_fast_stu.M_inputs)], dim = -1)\n",
    "#[4, 8192, 8]\n",
    "\n",
    "U = U_reshaped.reshape(bsz, x.shape[2], x.shape[1], -1).permute(0, 2, 3, 1)\n",
    "#[1, 8192, 8, 4]"
   ]
  },
  {
   "cell_type": "code",
   "execution_count": 14,
   "id": "65019d12-c015-4faa-84fc-41bea4096855",
   "metadata": {},
   "outputs": [
    {
     "name": "stdout",
     "output_type": "stream",
     "text": [
      "tensor([[[[ 142.2505,   89.6356,   87.9379,   43.5473],\n",
      "          [ 130.8444,   82.4483,   80.8867,   40.0555],\n",
      "          [ 143.4781,   90.4092,   88.6968,   43.9231],\n",
      "          ...,\n",
      "          [ 130.8443,   82.4483,   80.8867,   40.0555],\n",
      "          [ 143.4791,   90.4098,   88.6974,   43.9234],\n",
      "          [ -14.2901,   -9.0045,   -8.8340,   -4.3746]],\n",
      "\n",
      "         [[  51.8887,   26.8500,   31.7309,   26.3099],\n",
      "          [  29.9069,   13.4675,   18.1697,   18.7447],\n",
      "          [  39.9690,   19.2887,   24.3592,   22.7509],\n",
      "          ...,\n",
      "          [ -25.4501,  -21.4143,  -16.0514,    1.7982],\n",
      "          [ -35.0811,  -28.0023,  -22.0360,   -0.2242],\n",
      "          [ -23.7802,  -14.3972,  -14.6659,   -8.3271]],\n",
      "\n",
      "         [[  -2.1186,   -3.9061,   -1.2973,    3.9833],\n",
      "          [ -37.8131,  -25.4595,  -23.3209,   -8.6213],\n",
      "          [ -84.8005,  -55.5200,  -52.3803,  -22.1946],\n",
      "          ...,\n",
      "          [ -38.7571,  -23.7793,  -23.7698,  -12.9673],\n",
      "          [ -86.0791,  -53.2412,  -52.9881,  -28.0862],\n",
      "          [  40.1541,   26.3235,   24.8668,   10.4663]],\n",
      "\n",
      "         ...,\n",
      "\n",
      "         [[ 118.9682,   77.6230,   64.2257,   28.9751],\n",
      "          [ 108.1744,   68.7421,   60.5420,   30.2671],\n",
      "          [ 131.6099,   84.4602,   78.4137,   36.6957],\n",
      "          ...,\n",
      "          [  28.3950,   15.6509,   13.5613,   11.5882],\n",
      "          [  16.2559,    9.4492,    6.2487,    5.3211],\n",
      "          [ -11.7833,   -8.2332,   -5.0211,   -1.5065]],\n",
      "\n",
      "         [[  75.7910,   58.3378,   35.5729,    0.9373],\n",
      "          [  66.5852,   49.6397,   33.3733,    4.3312],\n",
      "          [  94.8713,   67.0534,   52.3382,   14.1505],\n",
      "          ...,\n",
      "          [  54.0094,   38.4941,   23.7208,    5.7439],\n",
      "          [  75.9138,   49.7228,   36.4114,   16.8399],\n",
      "          [  -5.9026,   -1.9571,   -3.0049,   -4.7954]],\n",
      "\n",
      "         [[ -65.1326,  -55.8536,  -38.8441,    7.1293],\n",
      "          [ -76.0068,  -63.1913,  -41.1043,    5.9479],\n",
      "          [ -80.3535,  -66.7399,  -39.3160,    7.3519],\n",
      "          ...,\n",
      "          [-157.7807, -114.9101,  -85.7885,  -17.0672],\n",
      "          [-212.0755, -146.7953, -115.3013,  -36.7216],\n",
      "          [  13.1368,    7.0159,    8.2451,    6.3285]]]], device='cuda:0',\n",
      "       dtype=torch.float64, grad_fn=<PermuteBackward0>)\n"
     ]
    }
   ],
   "source": [
    "print(U)"
   ]
  },
  {
   "cell_type": "code",
   "execution_count": null,
   "id": "76cbfcd6-3f66-4ee7-a207-e6c40c804c1d",
   "metadata": {},
   "outputs": [],
   "source": []
  }
 ],
 "metadata": {
  "kernelspec": {
   "display_name": "torch-env [~/.conda/envs/torch-env/]",
   "language": "python",
   "name": "conda_torch-env"
  },
  "language_info": {
   "codemirror_mode": {
    "name": "ipython",
    "version": 3
   },
   "file_extension": ".py",
   "mimetype": "text/x-python",
   "name": "python",
   "nbconvert_exporter": "python",
   "pygments_lexer": "ipython3",
   "version": "3.12.7"
  }
 },
 "nbformat": 4,
 "nbformat_minor": 5
}
