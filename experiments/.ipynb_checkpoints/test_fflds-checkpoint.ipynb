{
 "cells": [
  {
   "cell_type": "code",
   "execution_count": null,
   "id": "9e3d8e43-3ca8-4580-b8d7-6c0e0c3930c5",
   "metadata": {},
   "outputs": [],
   "source": [
    "import torch\n",
    "import sys\n",
    "import os\n",
    "sys.path.append(os.path.abspath(\"../src\"))\n",
    "sys.path.append(os.path.abspath(\"../experiments/convex_hull\"))\n",
    "\n",
    "from model_550m import get_spectral_filters, STU\n",
    "from full_fast_stu import FullFastSTU\n",
    "\n",
    "class STUConfig():\n",
    "    def __init__(\n",
    "        self,\n",
    "        d_in=4,\n",
    "        d_out=4,\n",
    "        num_eigh=24,\n",
    "        seq_len=8192,\n",
    "        use_hankel_L=False,\n",
    "        use_approx=True,\n",
    "        use_flash_fft = True,\n",
    "        torch_dtype = torch.bfloat16\n",
    "    ):\n",
    "        super().__init__()\n",
    "        self.n_embd = d_in  # Used by some parts of the code\n",
    "        self.dim = d_in     # Used by other parts of the code\n",
    "        self.d_out = d_out\n",
    "        self.num_eigh = num_eigh\n",
    "        self.seq_len = seq_len\n",
    "        self.use_hankel_L = use_hankel_L\n",
    "        self.use_approx = use_approx\n",
    "        self.use_flash_fft = use_flash_fft\n",
    "        self.torch_dtype = torch_dtype\n",
    "\n",
    "def create_random_stu(d_in=1, d_out=1, num_eigh=24, use_hankel_L=False, use_approx=True):\n",
    "    # Create a random config\n",
    " \n",
    "    filters = get_spectral_filters(\n",
    "        seq_len=8192,\n",
    "        K=num_eigh,\n",
    "        use_hankel_L=use_hankel_L,\n",
    "        device=torch.device('cuda'),\n",
    "        dtype=torch.bfloat16\n",
    "    )\n",
    "    \n",
    "    # Create random STU\n",
    "    config = STUConfig()\n",
    "    stu = STU(config, filters).cuda()\n",
    "    return stu"
   ]
  },
  {
   "cell_type": "code",
   "execution_count": 24,
   "id": "5885b479-a048-4792-ae21-4099f6a6250a",
   "metadata": {},
   "outputs": [
    {
     "name": "stderr",
     "output_type": "stream",
     "text": [
      "/home/ds6237/stu_distill/experiments/convex_hull/full_fast_stu.py:126: FutureWarning: You are using `torch.load` with `weights_only=False` (the current default value), which uses the default pickle module implicitly. It is possible to construct malicious pickle data which will execute arbitrary code during unpickling (See https://github.com/pytorch/pytorch/blob/main/SECURITY.md#untrusted-models for more details). In a future release, the default value for `weights_only` will be flipped to `True`. This limits the functions that could be executed during unpickling. Arbitrary objects will no longer be allowed to be loaded via this mode unless they are explicitly allowlisted by the user via `torch.serialization.add_safe_globals`. We recommend you start setting `weights_only=True` for any use case where you don't have full control of the loaded file. Please open an issue on GitHub for any issues related to this experimental feature.\n",
      "  checkpoint = torch.load(checkpoint_path, map_location=torch.device('cpu'))\n"
     ]
    },
    {
     "name": "stdout",
     "output_type": "stream",
     "text": [
      "Mean absolute difference: 0.0133056640625\n",
      "Max absolute difference: 0.25\n"
     ]
    }
   ],
   "source": [
    "stu = create_random_stu()\n",
    "\n",
    "seq_len = 8192    \n",
    "# Generate random input\n",
    "batch_size = 1\n",
    "d_in = stu.config.n_embd\n",
    "x = torch.randn(batch_size, seq_len, d_in, dtype=torch.bfloat16).cuda()\n",
    "input_pos = torch.arange(seq_len).unsqueeze(0).expand(batch_size, -1).cuda()\n",
    "\n",
    "full_fast_stu = FullFastSTU(stu, \"./convex_hull/best_phi_lds.pt\")\n",
    "full_fast_stu.lds.M.data = torch.zeros_like(full_fast_stu.lds.M)\n",
    "# Get outputs from both models\n",
    "with torch.no_grad():\n",
    "    stu_output = stu(x, input_pos)\n",
    "    full_fast_output = full_fast_stu(x, input_pos)\n",
    "# Calculate differences\n",
    "abs_diff = torch.abs(stu_output - full_fast_output)\n",
    "mean_diff = abs_diff.mean().item()\n",
    "max_diff = abs_diff.max().item()\n",
    "    \n",
    "\n",
    "print(f\"Mean absolute difference: {mean_diff}\")\n",
    "print(f\"Max absolute difference: {max_diff}\")\n",
    "\n",
    "\n",
    "# Check if outputs are close\n",
    "is_close = torch.allclose(stu_output, full_fast_output, rtol=1e-5, atol=1e-5)\n",
    "\n",
    "#with best_phi_lds.pt\n",
    "#Mean absolute difference: 0.00689697265625\n",
    "#Max absolute difference: 0.0625\n",
    "\n",
    "#with 250"
   ]
  },
  {
   "cell_type": "code",
   "execution_count": 76,
   "id": "124bfc87-3f28-4e58-baa7-fb0bfc8abcbf",
   "metadata": {},
   "outputs": [
    {
     "data": {
      "text/plain": [
       "torch.Size([1149, 8])"
      ]
     },
     "execution_count": 76,
     "metadata": {},
     "output_type": "execute_result"
    }
   ],
   "source": [
    "full_fast_stu.lds.C.shape"
   ]
  },
  {
   "cell_type": "code",
   "execution_count": 77,
   "id": "1e4a2b45-a392-4629-ad13-1b1438bfdeef",
   "metadata": {},
   "outputs": [],
   "source": [
    "x = x.double()"
   ]
  },
  {
   "cell_type": "code",
   "execution_count": 78,
   "id": "d1d68226-d6d3-492f-9d89-9001752f24f9",
   "metadata": {},
   "outputs": [],
   "source": [
    "x = x @ full_fast_stu.M_inputs"
   ]
  },
  {
   "cell_type": "code",
   "execution_count": 81,
   "id": "9753932f-86e7-46ab-a3fe-670a61de2bb5",
   "metadata": {},
   "outputs": [],
   "source": [
    "bsz = x.shape[0]\n",
    "x_reshaped = x.permute(0, 2, 1).reshape(-1, x.shape[1], 1)"
   ]
  },
  {
   "cell_type": "code",
   "execution_count": 82,
   "id": "6be02d36-0a7d-4bb3-b18a-6ed725bfa661",
   "metadata": {},
   "outputs": [],
   "source": [
    "U_reshaped = lds_phi(x_reshaped)"
   ]
  },
  {
   "cell_type": "code",
   "execution_count": 83,
   "id": "241f2262-fc65-43cf-94fa-d5afcc217352",
   "metadata": {},
   "outputs": [],
   "source": [
    "U_reshaped = torch.cat([U_reshaped[:, :, :24] @ full_fast_stu.M_filters, U_reshaped[:, :, 24:] @ full_fast_stu.M_filters], dim = -1)"
   ]
  },
  {
   "cell_type": "code",
   "execution_count": 84,
   "id": "f100f339-d8ae-4ab6-99cd-0a07f7d12530",
   "metadata": {},
   "outputs": [
    {
     "data": {
      "text/plain": [
       "torch.Size([4, 8192, 8])"
      ]
     },
     "execution_count": 84,
     "metadata": {},
     "output_type": "execute_result"
    }
   ],
   "source": [
    "U_reshaped.shape"
   ]
  },
  {
   "cell_type": "code",
   "execution_count": 85,
   "id": "74235e6d-fc7d-4627-bd01-64443d5c7224",
   "metadata": {},
   "outputs": [
    {
     "data": {
      "text/plain": [
       "torch.Size([4, 8192, 8])"
      ]
     },
     "execution_count": 85,
     "metadata": {},
     "output_type": "execute_result"
    }
   ],
   "source": [
    "U_reshaped2 = full_fast_stu.lds(x_reshaped)\n",
    "U_reshaped2.shape"
   ]
  },
  {
   "cell_type": "code",
   "execution_count": 88,
   "id": "b89d8f58-636d-483b-8527-8c9dc318dae2",
   "metadata": {},
   "outputs": [
    {
     "data": {
      "text/plain": [
       "tensor(8.5754e-14, device='cuda:0', dtype=torch.float64,\n",
       "       grad_fn=<MeanBackward0>)"
      ]
     },
     "execution_count": 88,
     "metadata": {},
     "output_type": "execute_result"
    }
   ],
   "source": []
  },
  {
   "cell_type": "code",
   "execution_count": 5,
   "id": "bbb205f9-b3a3-4d53-9fb6-98bfc4602bf4",
   "metadata": {},
   "outputs": [],
   "source": [
    "from lds import LDS"
   ]
  },
  {
   "cell_type": "code",
   "execution_count": 34,
   "id": "b001eaec-ffc4-448f-8d42-e31cc521a783",
   "metadata": {},
   "outputs": [
    {
     "name": "stderr",
     "output_type": "stream",
     "text": [
      "/tmp/ipykernel_359248/2611937255.py:1: FutureWarning: You are using `torch.load` with `weights_only=False` (the current default value), which uses the default pickle module implicitly. It is possible to construct malicious pickle data which will execute arbitrary code during unpickling (See https://github.com/pytorch/pytorch/blob/main/SECURITY.md#untrusted-models for more details). In a future release, the default value for `weights_only` will be flipped to `True`. This limits the functions that could be executed during unpickling. Arbitrary objects will no longer be allowed to be loaded via this mode unless they are explicitly allowlisted by the user via `torch.serialization.add_safe_globals`. We recommend you start setting `weights_only=True` for any use case where you don't have full control of the loaded file. Please open an issue on GitHub for any issues related to this experimental feature.\n",
      "  checkpoint = torch.load( \"./convex_hull/best_phi_lds.pt\", map_location=torch.device('cpu'))\n"
     ]
    }
   ],
   "source": [
    "checkpoint = torch.load( \"./convex_hull/best_phi_lds.pt\", map_location=torch.device('cpu'))\n",
    "        \n",
    "# Create the LDS model\n",
    "lds_phi = LDS(\n",
    "    state_dim=checkpoint['state_dim'],\n",
    "    input_dim=checkpoint['input_dim'],\n",
    "    output_dim=checkpoint['output_dim'],\n",
    "    kx=checkpoint['kx'],\n",
    "    dtype=torch.float32 if checkpoint['dtype'] == 'torch.float32' else torch.float64,\n",
    "    \n",
    ")\n",
    "\n",
    "# Load the weights from checkpoint\n",
    "lds_phi.load_state_dict(checkpoint['model_state_dict'], strict = False)\n",
    "lds_phi = lds_phi.cuda()\n",
    "lds_phi.M.data = torch.zeros_like(lds_phi.M.data)"
   ]
  },
  {
   "cell_type": "code",
   "execution_count": null,
   "id": "c556808e-7cd6-4040-bc16-b5013355c7f8",
   "metadata": {},
   "outputs": [],
   "source": []
  }
 ],
 "metadata": {
  "kernelspec": {
   "display_name": "torch-env [~/.conda/envs/torch-env/]",
   "language": "python",
   "name": "conda_torch-env"
  },
  "language_info": {
   "codemirror_mode": {
    "name": "ipython",
    "version": 3
   },
   "file_extension": ".py",
   "mimetype": "text/x-python",
   "name": "python",
   "nbconvert_exporter": "python",
   "pygments_lexer": "ipython3",
   "version": "3.12.7"
  }
 },
 "nbformat": 4,
 "nbformat_minor": 5
}
