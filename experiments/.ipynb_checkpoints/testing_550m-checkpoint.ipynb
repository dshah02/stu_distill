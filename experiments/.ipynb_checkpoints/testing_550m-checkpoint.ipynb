{
 "cells": [
  {
   "cell_type": "code",
   "execution_count": 1,
   "id": "a2f9aec6-9c5f-4963-9c2f-07bedf39d39a",
   "metadata": {},
   "outputs": [],
   "source": [
    "import sys\n",
    "import os\n",
    "import tqdm\n",
    "sys.path.append(os.path.abspath(\"../src\"))\n",
    "sys.path.append(os.path.abspath(\"./convex_hull\"))"
   ]
  },
  {
   "cell_type": "code",
   "execution_count": 2,
   "id": "64cf4453-1788-444c-b270-de42224f90d6",
   "metadata": {},
   "outputs": [
    {
     "name": "stderr",
     "output_type": "stream",
     "text": [
      "/home/ds6237/.conda/envs/torch-env/lib/python3.12/site-packages/tqdm/auto.py:21: TqdmWarning: IProgress not found. Please update jupyter and ipywidgets. See https://ipywidgets.readthedocs.io/en/stable/user_install.html\n",
      "  from .autonotebook import tqdm as notebook_tqdm\n"
     ]
    }
   ],
   "source": [
    "\"\"\"\n",
    "Validation loss: 2.8789, trained on ~59.7B FineWeb-Edu tokens.\n",
    "This is a base model and can frequently hallucinate.\n",
    "\"\"\"\n",
    "\n",
    "import json\n",
    "\n",
    "from time import time\n",
    "\n",
    "import torch\n",
    "import torch.nn.functional as F\n",
    "import tiktoken\n",
    "from torch import nn\n",
    "\n",
    "from safetensors import safe_open\n",
    "\n",
    "from model_550m import FlashSTU, FlashSTUConfig, get_spectral_filters\n",
    "\n",
    "\n",
    "CHECKPOINT_PATH = \"../models/model_step-114000.safetensors\"\n",
    "CONFIG_PATH = \"../models/config_2-7b.json\""
   ]
  },
  {
   "cell_type": "code",
   "execution_count": 3,
   "id": "6bbcc1b9-4ebe-4ac9-a3ce-79dca34de58d",
   "metadata": {},
   "outputs": [],
   "source": [
    "def apply_compile(model: nn.Module) -> None:\n",
    "    \"\"\"\n",
    "    Apply torch.compile to each layer. This makes compilation efficient\n",
    "    due to repeated structure. Alternatively, one can just compile the whole model.\n",
    "    \"\"\"\n",
    "    print(f\"Compiling each {model.__class__.__name__} layer with torch.compile...\")\n",
    "    start = time.perf_counter()\n",
    "    for idx, layer in model.layers.named_children():\n",
    "        compiled_layer = torch.compile(layer, mode=\"max-autotune\", fullgraph=True)\n",
    "        model.layers.register_module(idx, compiled_layer)\n",
    "    end = time.perf_counter()\n",
    "    print(f\"Finished compiling each {model.__class__.__name__} layer in {end - start:.4f} seconds.\")\n",
    "\n",
    "\n",
    "def load_stu_model(config_path: str, checkpoint_path: str, device: torch.device):\n",
    "    with open(config_path, \"r\") as f:\n",
    "        config_data = json.load(f)\n",
    "\n",
    "    dim = config_data[\"dim\"]\n",
    "    num_heads = config_data[\"num_heads\"]\n",
    "    num_layers = config_data[\"num_layers\"]\n",
    "    num_eigh = config_data[\"num_eigh\"]\n",
    "    seq_len = config_data[\"seq_len\"]\n",
    "    use_hankel_L = config_data[\"use_hankel_L\"]\n",
    "    window_size = config_data[\"window_size\"]\n",
    "    vocab_size = config_data[\"vocab_size\"]\n",
    "    mlp_scale = config_data[\"mlp_scale\"]\n",
    "    bias = config_data[\"bias\"]\n",
    "    dropout = config_data[\"dropout\"]\n",
    "    softcap = config_data[\"softcap\"]\n",
    "    theta = config_data[\"theta\"]\n",
    "    torch_compile = config_data[\"torch_compile\"]\n",
    "    torch_dtype = getattr(torch, config_data[\"torch_dtype\"])\n",
    "\n",
    "    model_config = FlashSTUConfig(\n",
    "        dim=dim,\n",
    "        num_heads=num_heads,\n",
    "        num_layers=num_layers,\n",
    "        seq_len=seq_len,\n",
    "        window_size=window_size,\n",
    "        vocab_size=vocab_size,\n",
    "        mlp_scale=mlp_scale,\n",
    "        bias=bias,\n",
    "        dropout=dropout,\n",
    "        softcap=softcap,\n",
    "        theta=theta,\n",
    "        torch_dtype=torch_dtype,\n",
    "    )\n",
    "\n",
    "    spectral_filters = get_spectral_filters(seq_len, num_eigh, use_hankel_L, device, torch_dtype)\n",
    "    model = FlashSTU(model_config, spectral_filters)\n",
    "    model = model.to(device=device, dtype=torch_dtype)\n",
    "\n",
    "    print(f\"Loading checkpoint from {checkpoint_path}...\")\n",
    "    state_dict = {}\n",
    "    start_time = time()\n",
    "\n",
    "    if checkpoint_path.endswith(\".safetensors\"):\n",
    "        with safe_open(checkpoint_path, framework=\"pt\", device=device.type) as f:\n",
    "            for k in f.keys():\n",
    "                state_dict[k] = f.get_tensor(k)\n",
    "    elif checkpoint_path.endswith(\".pt\"):\n",
    "        state_dict = torch.load(checkpoint_path, map_location=\"cpu\")\n",
    "    else:\n",
    "        raise ValueError(f\"Unsupported checkpoint format: {checkpoint_path}\")\n",
    "    print(f\"Checkpoint loaded in {time() - start_time:.2f} seconds.\")\n",
    "\n",
    "    model.load_state_dict(state_dict, strict=True)\n",
    "    print(\"Model weights loaded successfully!\")\n",
    "\n",
    "    if torch_compile:\n",
    "        model = apply_compile(model)\n",
    "\n",
    "    model.eval()\n",
    "\n",
    "    return model, config_data\n"
   ]
  },
  {
   "cell_type": "code",
   "execution_count": 14,
   "id": "43c051ad-0d01-4b01-9715-f5f6b3959d9f",
   "metadata": {},
   "outputs": [],
   "source": [
    "def generate_text(\n",
    "    model,\n",
    "    tokenizer,\n",
    "    prompt,\n",
    "    num_return_sequences=1,\n",
    "    max_length=512,\n",
    "    device=\"cuda\",\n",
    "    temperature=1.0,\n",
    "    top_k=50,\n",
    "    cache = True\n",
    "):\n",
    "    \"\"\"\n",
    "    Generate text from the given prompt using top-k sampling.\n",
    "\n",
    "    Args:\n",
    "        model: The FlashSTU model instance.\n",
    "        tokenizer: The tokenizer used for encoding/decoding.\n",
    "        prompt (str): Input prompt text.\n",
    "        num_return_sequences (int): How many sequences to return.\n",
    "        max_length (int): Maximum length of generated tokens.\n",
    "        device: torch device.\n",
    "        temperature (float): Sampling temperature. Higher = more random.\n",
    "        top_k (int): Top-K sampling parameter.\n",
    "\n",
    "    Returns:\n",
    "        list[str]: A list of generated text sequences.\n",
    "    \"\"\"\n",
    "    model.eval()\n",
    "\n",
    "    # Encode prompt tokens.\n",
    "    tokens = torch.tensor(\n",
    "        [tokenizer.encode(prompt, allowed_special={\"<|endoftext|>\"})],\n",
    "        device=device,\n",
    "    )\n",
    "    seq_len = tokens.shape[1]\n",
    "    tokens = tokens.repeat(num_return_sequences, 1)\n",
    "    \n",
    "    input_pos = torch.arange(seq_len, device=device)\n",
    "\n",
    "    \n",
    "    sample_rng = torch.Generator(device=device)\n",
    "    sample_rng.manual_seed(1746)\n",
    "\n",
    "    eos_token_id = tokenizer.encode(\n",
    "        \"<|endoftext|>\", allowed_special={\"<|endoftext|>\"}\n",
    "    )[0]\n",
    "    cur_token = seq_len\n",
    "    with torch.no_grad():\n",
    "        for idx in tqdm.tqdm(range(max_length - tokens.size(1))):\n",
    "            with torch.amp.autocast(device_type=\"cuda\", dtype=torch.bfloat16):\n",
    "                # Fwd pass. Inspect logits here.\n",
    "                if not cache:\n",
    "                    logits = model(tokens)\n",
    "                elif idx != 0:\n",
    "                    logits = model(tokens[:, -1:], input_pos = input_pos)     # shape: [batch, 1, vocab]\n",
    "                else:\n",
    "                    logits = model(tokens, input_pos = input_pos)     # shape: [batch, seq, vocab]\n",
    "                logits = logits[:, -1, :]  # last token logits\n",
    "\n",
    "                # Apply temperature scaling.\n",
    "                if temperature > 0:\n",
    "                    logits = logits / temperature\n",
    "\n",
    "            # Compute probabilities.\n",
    "            probs = F.softmax(logits, dim=-1)\n",
    "\n",
    "            # Top-K sampling.\n",
    "            top_k_probs, top_k_indices = torch.topk(probs, top_k, dim=-1)\n",
    "            ix = torch.multinomial(top_k_probs, 1, generator=sample_rng)\n",
    "            next_token = torch.gather(top_k_indices, -1, ix)\n",
    "\n",
    "            # Append next token.\n",
    "            tokens = torch.cat((tokens, next_token), dim=1)\n",
    "            input_pos = torch.tensor([cur_token]).to(device)\n",
    "            cur_token +=1 \n",
    "            # Stop if EOS token is generated.\n",
    "            # if (next_token == eos_token_id).any():\n",
    "                # break\n",
    "\n",
    "    # Decode all sequences.\n",
    "    generated_sequences = []\n",
    "    for i in range(num_return_sequences):\n",
    "        decoded = tokenizer.decode(tokens[i].tolist())\n",
    "        generated_sequences.append(decoded)\n",
    "\n",
    "    return generated_sequences"
   ]
  },
  {
   "cell_type": "code",
   "execution_count": 15,
   "id": "c729eacd-b0f4-4464-b578-897dc212ca38",
   "metadata": {
    "scrolled": true
   },
   "outputs": [],
   "source": [
    "from tiktoken.load import load_tiktoken_bpe\n",
    "bpe_path = \"../models/o200k_base.tiktoken\"\n",
    "bpe_dict = load_tiktoken_bpe(bpe_path)\n",
    "\n",
    "tokenizer = tiktoken.Encoding(\n",
    "    name=\"o200k_base\",  # Name of the encoding\n",
    "    pat_str=r\"\"\"'s|'t|'re|'ve|'m|'ll|'d| ?\\p{L}+| ?\\p{N}+| ?[^\\s\\p{L}\\p{N}]+|\\s+\"\"\",\n",
    "    mergeable_ranks=bpe_dict,\n",
    "    special_tokens={\n",
    "        \"<|endoftext|>\": 199999,  # Custom special token example (modify as needed)\n",
    "        \"<|endofprompt|>\": 200018,\n",
    "    }\n",
    ")\n"
   ]
  },
  {
   "cell_type": "code",
   "execution_count": 16,
   "id": "88070375-8af1-4a23-90b0-d0f70644c191",
   "metadata": {},
   "outputs": [
    {
     "name": "stdout",
     "output_type": "stream",
     "text": [
      "Model Parameter Count: 550.31M\n",
      "\n",
      "Loading checkpoint from ../models/model_step-114000.safetensors...\n",
      "Checkpoint loaded in 0.22 seconds.\n",
      "Model weights loaded successfully!\n"
     ]
    }
   ],
   "source": [
    "device = torch.device(\"cuda\")\n",
    "\n",
    "# Load model and config.\n",
    "model, config_data = load_stu_model(CONFIG_PATH, CHECKPOINT_PATH, device)\n",
    "# tokenizer = tiktoken.get_encoding(\"o200k_base\") #need to cache this for offline\n",
    "\n"
   ]
  },
  {
   "cell_type": "code",
   "execution_count": 17,
   "id": "dcd2dd73-e402-444e-a0d3-29e4c7b33a0b",
   "metadata": {},
   "outputs": [
    {
     "name": "stderr",
     "output_type": "stream",
     "text": [
      "2025-04-01 14:20:45,202 - INFO - Found 1 shards for split val\n"
     ]
    }
   ],
   "source": [
    "from torch.amp import autocast\n",
    "from torch.nn import CrossEntropyLoss\n",
    "import tqdm \n",
    "\n",
    "from dataloader import DataLoader\n",
    "\n",
    "val_loader = DataLoader(\n",
    "    bsz=1,\n",
    "    seq_len= 128,\n",
    "    dataset='../fineweb-edu', \n",
    "    split=\"val\", \n",
    "    main_process=True,\n",
    ")\n",
    "\n",
    "def evaluate(model, val_steps = 5):\n",
    "    loss_fn = CrossEntropyLoss()\n",
    "    val_loss = 0.0\n",
    "    torch_dtype = getattr(torch, 'bfloat16')\n",
    "    # val_steps = 5 # Abitrarily set to reduce long evaluations, >20 typically used\n",
    "    model.eval()\n",
    "    val_loader.reset()\n",
    "    with torch.no_grad():\n",
    "        for i, batch in tqdm.tqdm(zip(range(val_steps), val_loader, strict=False)):\n",
    "            inputs, targets = batch\n",
    "            inputs, targets = inputs.to(device), targets.to(device)\n",
    "            if torch_dtype != torch.float32:\n",
    "                with autocast(device_type=device.type, dtype=torch_dtype, cache_enabled=True):\n",
    "                    preds = model(inputs)\n",
    "            else:\n",
    "                preds = model(inputs)\n",
    "\n",
    "            loss = loss_fn(preds.flatten(0, 1), targets.flatten(0, 1))\n",
    "            loss = loss / val_steps\n",
    "            val_loss += loss.detach().float()\n",
    "    return(val_loss)"
   ]
  },
  {
   "cell_type": "code",
   "execution_count": 18,
   "id": "6d95e05c-8320-4061-85c8-3a62b9fee437",
   "metadata": {},
   "outputs": [
    {
     "name": "stdout",
     "output_type": "stream",
     "text": [
      "Generating text for prompt 1: Obama is famous for\n"
     ]
    },
    {
     "name": "stderr",
     "output_type": "stream",
     "text": [
      "100%|██████████| 7996/7996 [02:04<00:00, 63.99it/s]"
     ]
    },
    {
     "name": "stdout",
     "output_type": "stream",
     "text": [
      "\n",
      "Prompt: Obama is famous for\n",
      "Generated Text: Obama is famous for his efforts to create a perfect union between the two countries, and for his efforts on behalf of the poor, the homeless and the disabled. He also worked to bring about the abolition of child labour and the abolition of child labour in the Indian economy. Both were very important in terms of his contribution to the Indian economy.\n",
      "The relationship between the two countries is not entirely harmonious, however. While some of the economic benefits accrued to the United States are obvious, others are more subtle. The United States is seen as a strong partner in providing basic necessities to the poor, while the Indian economy is seen as a weak partner. It is this dichotomy that has been the focus of much debate in recent years.\n",
      "The American Indian community, for example, is often portrayed as a negative force in the Indian economy. This is partly due to the fact that the Indian economy is viewed as a source of income for many Indians, and it is believed that Indian businesses are not taking advantage of this potential. However, it is also believed that the Indian economy is also a source of income for many other Indians, as it is a source of support for the poor and the disabled.\n",
      "The relationship between the two countries is not entirely harmonious, however. There is a certain amount of friction between the two nations, as it is believed that one country is more responsible for providing basic necessities to the Indian economy while the other is a source of income for the Indian economy. It is also believed that the Indian economy is more developed than the Indian economy, and that this has caused some of the Indian people to feel insecure about their relationship with the United States.\n",
      "It is important to note that the relationship between the two countries is not entirely harmonious, however. The relationship between the United States and India is often seen as a source of income for the Indian economy, while the Indian economy is seen as a weak partner. This is because of the historical link between the two countries, as well as the perception of Indian people that the United States is a strong partner in providing basic necessities to the Indian economy.\n",
      "It is also important to note that the relationship between the two countries is not entirely harmonious, however. There is a certain amount of friction between the two nations, as it is believed that one country is more responsible for providing basic necessities to the Indian economy while the other is a source of income for the Indian economy.\n",
      "It is important to note that the relationship between the two countries is not entirely harmonious, however. There is a certain amount of friction between the two nations, as it is believed that one country is more responsible for providing basic necessities to the Indian economy while the other is a source of income for the Indian economy.\n",
      "The importance of the relationship between the two countries cannot be overemphasized. It is important to note that the relationship between the two countries is not fully harmonious, however. The relationship between the two countries is not entirely harmonious, however.\n",
      "The relationship between the two countries is not entirely harmonious, however. This is because the relationship between the two countries is not entirely harmonious, and it is believed that the Indian economy is more developed than the Indian economy. This is because the relationship between the two countries is not entirely harmonious, and it is believed that the Indian economy is not taking advantage of this potential.\n",
      "It is important to note that the relationship between the two countries is not entirely harmonious, however. There is a certain amount of friction between the two nations, as it is believed that one country is more responsible for providing basic necessities to the Indian economy while the other is a source of income for the Indian economy. It is also important to note that the relationship between the two countries is not entirely harmonious, but it is believed that the Indian economy is more developed than the Indian economy.\n",
      "It is important to note that the relationship between the two countries is not entirely harmonious, however. It is believed that the Indian economy is not taking advantage of this potential. It is believed that the Indian economy is not taking advantage of this potential.\n",
      "It is important to note that the relationship between the two countries is not entirely harmonious, however. There is a certain amount of friction between the two nations, as it is believed that one country is more responsible for providing basic necessities to the Indian economy while the other is a source of income for the Indian economy.\n",
      "The relationship between the two countries is not quite harmonious, however. There is a certain amount of friction between the two nations, as it is believed that one country is more responsible for providing basic necessities to the Indian economy while the other is a source of income for the Indian economy. This is because the relationship between the two countries is not entirely harmonious, and it is believed that the Indian economy is not taking advantage of this potential.\n",
      "It is important to note that the relationship between the two countries is not entirely harmonious, however. There is a certain amount of friction between the two nations, as it is believed that one country is more responsible for providing basic necessities to the Indian economy while the other is a source of income for the Indian economy. This is because the relationship between the two countries is not entirely harmonious, and it is believed that the Indian economy is not taking advantage of this potential.\n",
      "It is important to note that the relationship between the two countries is not entirely harmonious, however. There is a certain amount of friction between the two nations, as it is believed that one country is more responsible for providing basic necessities to the Indian economy while the other is a source of income for the Indian economy. This is because the relationship between the two countries is not entirely harmonious, and it is believed that the Indian economy is not taking advantage of this potential.\n",
      "It is important to note that the relationship between the two countries is not entirely harmonious, however. There is a certain amount of friction between the two nations, as it is believed that one country is more responsible for providing basic necessities to the Indian economy while the other is a source of income for the Indian economy.\n",
      "It is important to note that the relationship between the two countries is not entirely harmonious, however. There is a certain amount of friction between the two nations, as it is believed that one country is more responsible for providing basic necessities to the Indian economy while the other is a source of income for the Indian economy.\n",
      "It is important to note that the relationship between the two countries is not entirely harmonious, however. There is a certain amount of friction between the two nations, as it is believed that one country is more responsible for providing basic necessities to the Indian economy while the other is a source of income for the Indian economy.\n",
      "It is important to note that the relationship between the two countries is not entirely harmonious, however. There is a certain amount of friction between the two nations, as it is believed that one country is more responsible for providing basic necessities to the Indian economy while the other is a source of income for the Indian economy.\n",
      "It is important to note that the relationship between the two countries is not entirely harmonious, however. There is a certain amount of friction between the two nations, as it is believed that one country is more responsible for providing basic necessities to the Indian economy while the other is a source of income for the Indian economy.\n",
      "It is important to note that the relationship between the two countries is not entirely harmonious, however. There is a certain amount of friction between the two nations, as it is believed that one country is more responsible for providing basic necessities to the Indian economy while the other is a source of income for the Indian economy.\n",
      "It is important to note that the relationship between the two countries is not entirely harmonious, though. There is a certain amount of friction between the two nations, as it is believed that one country is more responsible for providing basic necessities to the Indian economy while the other is a source of income for the Indian economy.\n",
      "It is important to note that the relationship between the two countries is not entirely harmonious, however. There is a certain amount of friction between the two nations, as it is believed that one country is more responsible for providing basic necessities to the Indian economy while the other is a source of income for the Indian economy. This is because the relationship between the two countries is not entirely harmonious, and it is believed that the Indian economy is not taking advantage of this potential.\n",
      "It is important to note that the relationship between the two countries is not entirely harmonious, however. There is a certain amount of friction between the two nations, as it is believed that one country is more responsible for providing basic necessities to the Indian economy while the other is a source of income for the Indian economy. This is because the relationship between the two countries is not entirely harmonious, and it is believed that the Indian economy is not taking advantage of this potential.\n",
      "It is important to note that the relationship between the two countries is not entirely harmonious, although it is believed that one country is more responsible for providing basic necessities to the Indian economy while the other is a source of income for the Indian economy. This is because the relationship between the two countries is not entirely harmonious, and it is believed that the Indian economy is not taking advantage of this potential.\n",
      "It is important to note that the relationship between the two countries is not entirely harmonious, although it is believed that one country is more responsible for providing basic necessities to the Indian economy while the other is a source of income for the Indian economy. This is because the relationship between the two countries is not entirely harmonious, and it is believed that the Indian economy is not taking advantage of this potential.\n",
      "It is important to note that the relationship between the two countries is not entirely harmonious, however. There is a certain amount of friction between the two nations, as it is believed that one country is more responsible for providing basic necessities to the Indian economy while the other is a source of income for the Indian economy. This is because the relationship between the two countries is not entirely harmonious, and it is believed that the Indian economy is not taking advantage of this potential.\n",
      "It is important to note that the relationship between the two countries is not entirely harmonious, although it is believed that one country is more responsible for providing basic necessities to the Indian economy while the other is a source of income for the Indian economy. This is because the relationship between the two countries is not entirely harmonious, and it is believed that the Indian economy is not taking advantage of this potential.\n",
      "It is important to note that the relationship between the two countries is not entirely harmonious, however. There is a certain amount of friction between the two nations, as it is believed that one country is more responsible for providing basic necessities to the Indian economy while the other is a source of income for the Indian economy. This is because the relationship between the two countries is not entirely harmonious, and it is believed that the Indian economy is not taking advantage of this potential.\n",
      "It is important to note that the relationship between the two countries is not entirely harmonious, although it is believed that one country is more responsible for providing basic necessities to the Indian economy while the other is a source of income for the Indian economy. This is because the relationship between the two countries is not entirely harmonious, and it is believed that the Indian economy is not taking advantage of this potential.\n",
      "It is important to note that the relationship between the two countries is not entirely harmonious, but it is believed that one country is more responsible for providing basic necessities to the Indian economy while the other is a source of income for the Indian economy. This is because the relationship between the two countries is not entirely harmonious, and it is believed that the Indian economy is not taking advantage of this potential.\n",
      "It is important to note that the relationship between the two countries is not entirely harmonious, however. There is a certain amount of friction between the two nations, as it is believed that one country is more responsible for providing basic necessities to the Indian economy while the other is a source of income for the Indian economy. This is because the relationship between the two countries is not entirely harmonious, and it is believed that the Indian economy is not taking advantage of this potential.\n",
      "It is important to note that the relationship between the two countries is not entirely harmonious, though it is believed that one country is more responsible for providing basic necessities to the Indian economy while the other is a source of income for the Indian economy. This is because the relationship between the two countries is not entirely harmonious, and it is believed that the Indian economy is not taking advantage of this potential.\n",
      "It is important to note that the relationship between the two countries is not entirely harmonious, though it is believed that one country is more responsible for providing basic necessities to the Indian economy while the other is a source of income for the Indian economy.\n",
      "It is important to note that the relationship between the two countries is not entirely harmonious, and it is believed that one country is more responsible for providing basic necessities to the Indian economy while the other is a source of income for the Indian economy. This is because the relationship between the two countries is not entirely harmonious, and it is believed that the Indian economy is not taking advantage of this potential.\n",
      "It is important to note that the relationship between the two countries is not entirely harmonious, though it is believed that one country is more responsible for providing basic necessities to the Indian economy while the other is a source of income for the Indian economy. This is because the relationship between the two countries is not entirely harmonious, and it is believed that the Indian economy is not taking advantage of this potential.\n",
      "It is important to note that the relationship between the two countries is not entirely harmonious, because there is a certain amount of friction in the relationship between the two countries, and it is believed that one country is more responsible for providing basic necessities to the Indian economy than the other is a source of income for the Indian economy.\n",
      "It is important to note that the relationship between the two countries is not entirely harmonious, though there is a certain amount of friction in the relationship between the two countries. This is because the relationship between the two countries is not entirely harmonious, and it is believed that the Indian economy is not taking advantage of this potential.\n",
      "It is important to note that the relationship between the two countries is not entirely harmonious, though it is believed that one country is more responsible for providing basic necessities to the Indian economy while the other is a source of income for the Indian economy. This is because the relationship between the two countries is not entirely harmonious, and it is believed that one country is more responsible for providing basic necessities to the Indian economy than the other is a source of income for the Indian economy.\n",
      "It is important to note that the relationship between the two countries is not entirely harmonious, though it is believed that one country is more responsible for providing basic necessities to the Indian economy than the other is a source of income for the Indian economy. This is because the relationship between the two countries is not entirely harmonious, and it is believed that one country is more responsible for providing basic necessities to the Indian economy while the other is a source of income for the Indian economy.\n",
      "It is important to note that the relationship between the two countries is not entirely harmonious, though it is believed that one country is more responsible for providing basic necessities to the Indian economy while the other is a source of income for the Indian economy. This is because the relationship between the two countries is not entirely harmonious, and it is believed that one country is more responsible for providing basic necessities to the Indian economy than the other is a source of income for the Indian economy.\n",
      "It is important to note that the relationship between the two countries is not entirely harmonious, though it is believed that one country is more responsible for providing basic necessities to the Indian economy while the other is a source of income for the Indian economy.\n",
      "It is important to note that the relationship between the two countries is not entirely harmonious, though it is believed that one country is more responsible for providing basic necessities to the Indian economy while the other is a source of income for the Indian economy.\n",
      "It is important to note that the relationship between the two countries is not entirely harmonious, though it is believed that one country is more responsible for providing basic necessities to the Indian economy than the other is a source of income for the Indian economy. This is because the relationship between the two countries is not entirely harmonious, and it is believed that one country is more responsible for providing basic necessities to the Indian economy than the other is a source of income for the Indian economy.\n",
      "It is important to note that the relationship between the two countries is not entirely harmonious, though it is believed that one country is more responsible for providing basic necessities to the Indian economy while the other is a source of income for the Indian economy.\n",
      "It is important to note that the relationship between the two countries is not entirely harmonious, though it is believed that one country is more responsible for providing basic necessities to the Indian economy while the other is a source of income for the Indian economy.\n",
      "It is important to note that the relationship between the two countries is not entirely harmonious, but it is believed that one country is more responsible for providing basic necessities to the Indian economy while the other is a source of income for the Indian economy. This is because the relationship between the two countries is not entirely harmonious, and it is believed that one country is more responsible for providing basic necessities to the Indian economy than the other is a source of income for the Indian economy.\n",
      "It is important to note that the relationship between the two countries is not entirely harmonious, though it is believed that one country is more responsible for providing basic necessities to the Indian economy while the other is a source of income for the Indian economy.\n",
      "It is important to note that the relationship between the two countries is not entirely harmonious, though it is believed that one country is more responsible for providing basic necessities to the Indian economy while the other is a source of income for the Indian economy.\n",
      "It is important to note that the relationship between the two countries is not entirely harmonious, though it is believed that one country is more responsible for providing basic necessities to the Indian economy while the other is a source of income for the Indian economy.\n",
      "It is important to note that the relationship between the two countries is not entirely harmonious, though it is believed that one country is more responsible for providing basic necessities to the Indian economy while the other is a source of income for the Indian economy.\n",
      "It is important to note that the relationship between the two countries is not entirely harmonious, though it is believed that one country is more responsible for providing basic necessities to the Indian economy while the other is a source of income for the Indian economy. This is because the relationship between the two countries is not entirely harmonious, and it is believed that one country is more responsible for providing basic necessities to the Indian economy while the other is a source of income for the Indian economy.\n",
      "It is important to note that the relationship between the two countries is not entirely harmonious, though it is believed that one country is more responsible for providing basic necessities to the Indian economy than the other is a source of income for the Indian economy.\n",
      "It is important to note that the relationship between the two countries is not entirely harmonious, though it is believed that one country is more responsible for providing basic necessities to the Indian economy while the other is a source of income for the Indian economy.\n",
      "It is important to note that the relationship between the two countries is not entirely harmonious, though it is believed that one country is more responsible for providing basic necessities to the Indian economy while the other is a source of income for the Indian economy.\n",
      "It is important to note that the relationship between the two countries is not entirely harmonious, though it is believed that one country is more responsible for providing basic necessities to the Indian economy while the other is a source of income for the Indian economy.\n",
      "It is important to note that the relationship between the two countries is not entirely harmonious, though it is believed that one country is more responsible for providing basic necessities to the Indian economy while the other is a source of income for the Indian economy.\n",
      "It is important to note that the relationship between the two countries is not entirely harmonious, though it is believed that one country is more responsible for providing basic necessities to the Indian economy while the other is a source of income for the Indian economy.\n",
      "It is important to note that the relationship between the two countries is not entirely harmonious, though it is believed that one country is more responsible for providing basic necessities to the Indian economy while the other is a source of income for the Indian economy.\n",
      "It is important to note that the relationship between the two countries is not entirely harmonious, though it is believed that one country is more responsible for providing basic necessities to the Indian economy while the other is a source of income for the Indian economy.\n",
      "It is important to note that the relationship between the two countries is not entirely harmonious, though it is believed that one country is more responsible for providing basic necessities to the Indian economy while the other is a source of income for the Indian economy.\n",
      "It is important to note that the relationship between the two countries is not entirely harmonious, though it is believed that one country is more responsible for providing basic necessities to the Indian economy while the other is a source of income for the Indian economy.\n",
      "It is important to note that the relationship between the two countries is not entirely harmonious, though it is believed that one country is more responsible for providing basic necessities to the Indian economy while the other is a source of income for the Indian economy.\n",
      "It is important to note that the relationship between the two countries is not entirely harmonious, though it is believed that one country is more responsible for providing basic necessities to the Indian economy while the other is a source of income for the Indian economy.\n",
      "It is important to note that the relationship between the two countries is not entirely harmonious, though it is believed that one country is more responsible for providing basic necessities to the Indian economy while the other is a source of income for the Indian economy.\n",
      "It is important to note that the relationship between the two countries is not entirely harmonious, though it is believed that one country is more responsible for providing basic necessities to the Indian economy while the other is a source of income for the Indian economy.\n",
      "It is important to note that the relationship between the two countries is not entirely harmonious, though it is believed that one country is more responsible for providing basic necessities to the Indian economy while the other is a source of income for the Indian economy.\n",
      "It is important to note that the relationship between the two countries is not entirely harmonious, though it is believed that one country is more responsible for providing basic necessities to the Indian economy while the other is a source of income for the Indian economy.\n",
      "It is important to note that the relationship between the two countries is not entirely harmonious, though it is believed that one country is more responsible for providing basic necessities to the Indian economy while the other is a source of income for the Indian economy.\n",
      "It is important to note that the relationship between the two countries is not entirely harmonious, though it is believed that one country is more responsible for providing basic necessities to the Indian economy while the other is a source of income for the Indian economy.\n",
      "It is important to note that the relationship between the two countries is not entirely harmonious, though it is believed that one country is more responsible for providing basic necessities to the Indian economy while the other is a source of income for the Indian economy.\n",
      "It is important to note that the relationship between the two countries is not entirely harmonious, though it is believed that one country is more responsible for providing basic necessities to the Indian economy while the other is a source of income for the Indian economy.\n",
      "It is important to note that the relationship between the two countries is not entirely harmonious, though it is believed that one country is more responsible for providing basic necessities to the Indian economy while the other is a source of income for the Indian economy.\n",
      "It is important to note that the relationship between the two countries is not entirely harmonious, though it is believed that one country is more responsible for providing basic necessities to the Indian economy while the other is a source of income for the Indian economy.\n",
      "It is important to note that the relationship between the two countries is not entirely harmonious, though it is believed that one country is more responsible for providing basic necessities to the Indian economy while the other is a source of income for the Indian economy.\n",
      "It is important to note that the relationship between the two countries is not entirely harmonious, though it is believed that one country is more responsible for providing basic necessities to the Indian economy while the other is a source of income for the Indian economy.\n",
      "It is important to note that the relationship between the two countries is not entirely harmonious, though it is believed that one country is more responsible for providing basic necessities to the Indian economy while the other is a source of income for the Indian economy.\n",
      "It is important to note that the relationship between the two countries is not entirely harmonious, though it is believed that one country is more responsible for providing basic necessities to the Indian economy while the other is a source of income for the Indian economy.\n",
      "It is important to note that the relationship between the two countries is not entirely harmonious, though it is believed that one country is more responsible for providing basic necessities to the Indian economy while the other is a source of income for the Indian economy.\n",
      "It is important to note that the relationship between the two countries is not entirely harmonious, though it is believed that one country is more responsible for providing basic necessities to the Indian economy while the other is a source of income for the Indian economy.\n",
      "It is important to note that the relationship between the two countries is not entirely harmonious, although it is believed that one country is more responsible for providing basic necessities to the Indian economy while the other is a source of income for the Indian economy.\n",
      "It is important to note that the relationship between the two countries is not entirely harmonious, though it is believed that one country is more responsible for providing basic necessities to the Indian economy while the other is a source of income for the Indian economy.\n",
      "It is important to note that the relationship between the two countries is not entirely harmonious, though it is believed that one country is more responsible for providing basic necessities to the Indian economy while the other is a source of income for the Indian economy.\n",
      "It is important to note that the relationship between the two countries is not entirely harmonious, though it is believed that one country is more responsible for providing basic necessities to the Indian economy while the other is a source of income for the Indian economy.\n",
      "It is important to note that the relationship between the two countries is not entirely harmonious, though it is believed that one country is more responsible for providing basic necessities to the Indian economy while the other is a source of income for the Indian economy.\n",
      "It is important to note that the relationship between the two countries is not entirely harmonious, though it is believed that one country is more responsible for providing basic necessities to the Indian economy while the other is a source of income for the Indian economy.\n",
      "It is important to note that the relationship between the two countries is not entirely harmonious, though it is believed that one country is more responsible for providing basic necessities to the Indian economy while the other is a source of income for the Indian economy.\n",
      "It is important to note that the relationship between the two countries is not entirely harmonious, though it is believed that one country is more responsible for providing basic necessities to the Indian economy while the other is a source of income for the Indian economy.\n",
      "It is important to note that the relationship between the two countries is not entirely harmonious, though it is believed that one country is more responsible for providing basic necessities to the Indian economy while the other is a source of income for the Indian economy.\n",
      "It is important to note that the relationship between the two countries is not entirely harmonious, though it is believed that one country is more responsible for providing basic necessities to the Indian economy while the other is a source of income for the Indian economy.\n",
      "It is important to note that the relationship between the two countries is not entirely harmonious, though it is believed that one country is more responsible for providing basic necessities to the Indian economy while the other is a source of income for the Indian economy.\n",
      "It is important to note that the relationship between the two countries is not entirely harmonious, though it is believed that one country is more responsible for providing basic necessities to the Indian economy while the other is a source of income for the Indian economy.\n",
      "It is important to note that the relationship between the two countries is not entirely harmonious, though it is believed that one country is more responsible for providing basic necessities to the Indian economy while the other is a source of income for the Indian economy.\n",
      "It is important to note that the relationship between the two countries is not entirely harmonious, though it is believed that one country is more responsible for providing basic necessities to the Indian economy while the other is a source of income for the Indian economy.\n",
      "It is important to note that the relationship between the two countries is not entirely harmonious, though it is believed that one country is more responsible for providing basic necessities to the Indian economy while the other is a source of income for the Indian economy.\n",
      "It is important to note that the relationship between the two countries is not entirely harmonious, though it is believed that one country is more responsible for providing basic necessities to the Indian economy while the other is a source of income for the Indian economy.\n",
      "It is important to note that the relationship between the two countries is not entirely harmonious, though it is believed that one country is more responsible for providing basic necessities to the Indian economy while the other is a source of income for the Indian economy.\n",
      "It is important to note that the relationship between the two countries is not entirely harmonious, though it is believed that one country is more responsible for providing basic necessities to the Indian economy while the other is a source of income for the Indian economy.\n",
      "It is important to note that the relationship between the two countries is not entirely harmonious, though it is believed that one country is more responsible for providing basic necessities to the Indian economy while the other is a source of income for the Indian economy.\n",
      "It is important to note that the relationship between the two countries is not entirely harmonious, although it is believed that one country is more responsible for providing basic necessities to the Indian economy while the other is a source of income for the Indian economy.\n",
      "It is important to note that the relationship between the two countries is not entirely harmonious, though it is believed that one country is more responsible for providing basic necessities to the Indian economy while the other is a source of income for the Indian economy.\n",
      "It is important to note that the relationship between the two countries is not entirely harmonious, though it is believed that one country is more responsible for providing basic necessities to the Indian economy while the other is a source of income for the Indian economy.\n",
      "It is important to note that the relationship between the two countries is not entirely harmonious, though it is believed that one country is more responsible for providing basic necessities to the Indian economy while the other is a source of income for the Indian economy.\n",
      "It is important to note that the relationship between the two countries is not entirely harmonious, though it is believed that one country is more responsible for providing basic necessities to the Indian economy while the other is a source of income for the Indian economy.\n",
      "It is important to note that the relationship between the two countries is not entirely harmonious, though it is believed that one country is more responsible for providing basic necessities to the Indian economy while the other is a source of income for the Indian economy.\n",
      "It is important to note that the relationship between the two countries is not entirely harmonious, though it is believed that one country is more responsible for providing basic necessities to the Indian economy while the other is a source of income for the Indian economy.\n",
      "It is important to note that the relationship between the two countries is not entirely harmonious, though it is believed that one country is more responsible for providing basic necessities to the Indian economy while the other is a source of income for the Indian economy.\n",
      "It is important to note that the relationship between the two countries is not entirely harmonious, though it is believed that one country is more responsible for providing basic necessities to the Indian economy while the other is a source of income for the Indian economy.\n",
      "It is important to note that the relationship between the two countries is not entirely harmonious, though it is believed that one country is more responsible for providing basic necessities to the Indian economy while the other is a source of income for the Indian economy.\n",
      "It is important to note that the relationship between the two countries is not entirely harmonious, though it is believed that one country is more responsible for providing basic necessities to the Indian economy while the other is a source of income for the Indian economy.\n",
      "It is important to note that the relationship between the two countries is not entirely harmonious, though it is believed that one country is more responsible for providing basic necessities to the Indian economy while the other is a source of income for the Indian economy.\n",
      "It is important to note that the relationship between the two countries is not entirely harmonious, though it is believed that one country is more responsible for providing basic necessities to the Indian economy while the other is a source of income for the Indian economy.\n",
      "It is important to note that the relationship between the two countries is not entirely harmonious, though it is believed that one country is more responsible for providing basic necessities to the Indian economy while the other is a source of income for the Indian economy.\n",
      "It is important to note that the relationship between the two countries is not entirely harmonious, though it is believed that one country is more responsible for providing basic necessities to the Indian economy while the other is a source of income for the Indian economy.\n",
      "It is important to note that the relationship between the two countries is not entirely harmonious, though it is believed that one country is more responsible for providing basic necessities to the Indian economy while the other is a source of income for the Indian economy.\n",
      "It is important to note that the relationship between the two countries is not entirely harmonious, though it is believed that one country is more responsible for providing basic necessities to the Indian economy while the other is a source of income for the Indian economy.\n",
      "It is important to note that the relationship between the two countries is not entirely harmonious, though it is believed that one country is more responsible for providing basic necessities to the Indian economy while the other is a source of income for the Indian economy.\n",
      "It is important to note that the relationship between the two countries is not entirely harmonious, though it is believed that one country is more responsible for providing basic necessities to the Indian economy while the other is a source of income for the Indian economy.\n",
      "It is important to note that the relationship between the two countries is not entirely harmonious, though it is believed that one country is more responsible for providing basic necessities to the Indian economy while the other is a source of income for the Indian economy.\n",
      "It is important to note that the relationship between the two countries is not entirely harmonious, though it is believed that one country is more responsible for providing basic necessities to the Indian economy while the other is a source of income for the Indian economy.\n",
      "It is important to note that the relationship between the two countries is not entirely harmonious, though it is believed that one country is more responsible for providing basic necessities to the Indian economy while the other is a source of income for the Indian economy.\n",
      "It is important to note that the relationship between the two countries is not entirely harmonious, though it is believed that one country is more responsible for providing basic necessities to the Indian economy while the other is a source of income for the Indian economy.\n",
      "It is important to note that the relationship between the two countries is not entirely harmonious, though it is believed that one country is more responsible for providing basic necessities to the Indian economy while the other is a source of income for the Indian economy.\n",
      "It is important to note that the relationship between the two countries is not entirely harmonious, though it is believed that one country is more responsible for providing basic necessities to the Indian economy while the other is a source of income for the Indian economy.\n",
      "It is important to note that the relationship between the two countries is not entirely harmonious, though it is believed that one country is more responsible for providing basic necessities to the Indian economy while the other is a source of income for the Indian economy.\n",
      "It is important to note that the relationship between the two countries is not entirely harmonious, though it is believed that one country is more responsible for providing basic necessities to the Indian economy while the other is a source of income for the Indian economy.\n",
      "It is important to note that the relationship between the two countries is not entirely harmonious, though it is believed that one country is more responsible for providing basic necessities to the Indian economy while the other is a source of income for the Indian economy.\n",
      "It is important to note that the relationship between the two countries is not entirely harmonious, though it is believed that one country is more responsible for providing basic necessities to the Indian economy while the other is a source of income for the Indian economy.\n",
      "It is important to note that the relationship between the two countries is not entirely harmonious, though it is believed that one country is more responsible for providing basic necessities to the Indian economy while the other is a source of income for the Indian economy.\n",
      "It is important to note that the relationship between the two countries is not entirely harmonious, though it is believed that one country is less responsible for providing basic necessities to the Indian economy while the other is a source of income for the Indian economy.\n",
      "It is important to note that the relationship between the two countries is not entirely harmonious, though it is believed that one country is more responsible for providing basic necessities to the Indian economy while the other is a source of income for the Indian economy.\n",
      "It is important to note that the relationship between the two countries is not entirely harmonious, though it is believed that one country is more responsible for providing basic necessities to the Indian economy while the other is a source of income for the Indian economy.\n",
      "It is important to note that the relationship between the two countries is not entirely harmonious, though it is believed that one country is more responsible for providing basic necessities to the Indian economy while the other is a source of income for the Indian economy.\n",
      "It is important to note that the relationship between the two countries is not entirely harmonious, though it is believed that one country is more responsible for providing basic necessities to the Indian economy while the other is a source of income for the Indian economy.\n",
      "It is important to note that the relationship between the two countries is not entirely harmonious, though it is believed that one country is more responsible for providing basic necessities to the Indian economy while the other is a source of income for the Indian economy.\n",
      "It is important to note that the relationship between the two countries is not entirely harmonious, though it is believed that one country is more responsible for providing basic necessities to the Indian economy while the other is a source of income for the Indian economy.\n",
      "It is important to note that the relationship between the two countries is not entirely harmonious, though it is believed that one country is more responsible for providing basic necessities to the Indian economy while the other is a source of income for the Indian economy.\n",
      "It is important to note that the relationship between the two countries is not entirely harmonious, though it is believed that one country is more responsible for providing basic necessities to the Indian economy while the other is a source of income for the Indian economy.\n",
      "It is important to note that the relationship between the two countries is not entirely harmonious, though it is believed that one country is more responsible for providing basic necessities to the Indian economy while the other is a source of income for the Indian economy.\n",
      "It is important to note that the relationship between the two countries is not entirely harmonious, though it is believed that one country is more responsible for providing basic necessities to the Indian economy while the other is a source of income for the Indian economy.\n",
      "\n",
      "\n",
      "Tokens per second: 65.11\n"
     ]
    },
    {
     "name": "stderr",
     "output_type": "stream",
     "text": [
      "\n"
     ]
    }
   ],
   "source": [
    "# Collect prompt(s) from user.\n",
    "# prompts = []\n",
    "# while True:\n",
    "#     prompt = input(\"Enter a prompt (press enter with no text to finish): \")\n",
    "#     if not prompt:\n",
    "#         break\n",
    "#     prompts.append(prompt.strip())\n",
    "\n",
    "#     if len(prompts) == 0:\n",
    "#         print(\"No prompts provided. Exiting.\")\n",
    "#         break\n",
    "\n",
    "prompts = ['Obama is famous for']\n",
    "\n",
    "# -------------------------------------------------------------------\n",
    "# BASE SETTINGS:\n",
    "BASE_TEMPERATURE = 0.7  # Increase for more randomness.\n",
    "BASE_TOP_K = 50         # Limit sampling to the top k tokens.\n",
    "MAX_LENGTH = 8000        # Maximum number of tokens to generate.\n",
    "# -------------------------------------------------------------------\n",
    "def generate_and_time(model, prompts, cache = True):\n",
    "    total_tokens = 0\n",
    "    start_time = time()\n",
    "    \n",
    "    for i, prompt in enumerate(prompts, 1):\n",
    "        print(f\"Generating text for prompt {i}: {prompt}\")\n",
    "        if cache:\n",
    "            model.setup_caches(batch_size = 1)\n",
    "        if not cache and model.caches_are_enabled():\n",
    "            model.reset_caches()\n",
    "            \n",
    "        generated_texts = generate_text(\n",
    "            model,\n",
    "            tokenizer,\n",
    "            prompt,\n",
    "            num_return_sequences=1,\n",
    "            max_length=MAX_LENGTH,\n",
    "            device=device,\n",
    "            temperature=BASE_TEMPERATURE,\n",
    "            top_k=BASE_TOP_K,\n",
    "            cache = cache\n",
    "        )\n",
    "        for gen_text in generated_texts:\n",
    "            print(f\"\\nPrompt: {prompt}\")\n",
    "            print(f\"Generated Text: {gen_text}\\n\")\n",
    "            total_tokens += len(\n",
    "                tokenizer.encode(gen_text, allowed_special={\"<|endoftext|>\"})\n",
    "            )\n",
    "        \n",
    "        if cache:\n",
    "            model.reset_caches()\n",
    "    \n",
    "    end_time = time()\n",
    "    tokens_per_second = total_tokens / (end_time - start_time)\n",
    "    print(f\"Tokens per second: {tokens_per_second:.2f}\")\n",
    "generate_and_time(model, prompts, True)\n",
    "\n",
    "#note that when stu is entirely removed, the speed is 145.89 it.s"
   ]
  },
  {
   "cell_type": "code",
   "execution_count": 19,
   "id": "1bb5728f-d4ba-4007-97fb-5df1b5ab1bfa",
   "metadata": {},
   "outputs": [
    {
     "name": "stderr",
     "output_type": "stream",
     "text": [
      "50it [00:04, 11.70it/s]\n"
     ]
    },
    {
     "data": {
      "text/plain": [
       "tensor(3.3545, device='cuda:0')"
      ]
     },
     "execution_count": 19,
     "metadata": {},
     "output_type": "execute_result"
    }
   ],
   "source": [
    "evaluate(model, val_steps = 50)"
   ]
  },
  {
   "cell_type": "code",
   "execution_count": 23,
   "id": "f9dd1089-bd32-444e-96d1-b716d84d198f",
   "metadata": {},
   "outputs": [],
   "source": [
    "from full_fast_stu import FullFastSTU\n",
    "import copy\n",
    "\n",
    "stu_before = []\n",
    "stu_after = []"
   ]
  },
  {
   "cell_type": "code",
   "execution_count": 24,
   "id": "66ab57d6-201a-4e2b-8005-101a47b8c2af",
   "metadata": {},
   "outputs": [
    {
     "name": "stderr",
     "output_type": "stream",
     "text": [
      "/home/ds6237/stu_distill/experiments/convex_hull/full_fast_stu.py:103: FutureWarning: You are using `torch.load` with `weights_only=False` (the current default value), which uses the default pickle module implicitly. It is possible to construct malicious pickle data which will execute arbitrary code during unpickling (See https://github.com/pytorch/pytorch/blob/main/SECURITY.md#untrusted-models for more details). In a future release, the default value for `weights_only` will be flipped to `True`. This limits the functions that could be executed during unpickling. Arbitrary objects will no longer be allowed to be loaded via this mode unless they are explicitly allowlisted by the user via `torch.serialization.add_safe_globals`. We recommend you start setting `weights_only=True` for any use case where you don't have full control of the loaded file. Please open an issue on GitHub for any issues related to this experimental feature.\n",
      "  checkpoint = torch.load(checkpoint_path, map_location=torch.device('cpu'))\n"
     ]
    }
   ],
   "source": [
    "for idx in range(0, 12, 2):\n",
    "    stu_layer = copy.deepcopy(model.layers[idx].stu)\n",
    "    fast_layer = FullFastSTU(stu_layer.cuda(), \"../experiments/convex_hull/best_phi_lds.pt\").cuda()\n",
    "    model.layers[idx].stu = fast_layer\n",
    "\n",
    "    stu_before.append(stu_layer)\n",
    "    stu_after.append(fast_layer)\n"
   ]
  },
  {
   "cell_type": "code",
   "execution_count": 25,
   "id": "ce1ada22-3ea0-4a72-b4f3-cf0f72fb0404",
   "metadata": {},
   "outputs": [
    {
     "name": "stderr",
     "output_type": "stream",
     "text": [
      "50it [00:21,  2.32it/s]\n"
     ]
    },
    {
     "data": {
      "text/plain": [
       "tensor(3.3530, device='cuda:0')"
      ]
     },
     "execution_count": 25,
     "metadata": {},
     "output_type": "execute_result"
    }
   ],
   "source": [
    "evaluate(model, val_steps = 50)"
   ]
  },
  {
   "cell_type": "code",
   "execution_count": 26,
   "id": "f5713d29-36bf-42dd-bf92-719a64aba6df",
   "metadata": {},
   "outputs": [
    {
     "name": "stdout",
     "output_type": "stream",
     "text": [
      "Generating text for prompt 1: Obama is famous for\n"
     ]
    },
    {
     "name": "stderr",
     "output_type": "stream",
     "text": [
      "100%|██████████| 7996/7996 [01:44<00:00, 76.32it/s]"
     ]
    },
    {
     "name": "stdout",
     "output_type": "stream",
     "text": [
      "\n",
      "Prompt: Obama is famous for\n",
      "Generated Text: Obama is famous for his efforts to make the Great Recession a success. While he has not been the most visible of the four, he is one of the most important. He is the first black president and has been credited with changing the course of American history. One of the most important things Obama did during his presidency was to put a stop to the economic crisis, which has resulted in more than a million jobs being created and more than 2.5 million people being employed.\n",
      "Obama has also made several other important public statements, including his statement in which he stated that he would not allow the federal government to take over the banks. In his statement he stated that he would not let the banks take over the banks, but would rather let them be controlled by the private sector. He also stated that he would not allow the government to impose taxes on the banks, but would allow the private sector to do so.\n",
      "Obama has also made a number of other statements that have been considered controversial. One of the most controversial is his statement stating that he would not allow Wall Street to take over the banks. He stated that he would not allow Wall Street to take over the banks, but would instead allow them to take over the financial institutions. Another controversial statement he made was his statement stating that he would not allow Wall Street to take over the banks, but would instead allow them to take over the financial institutions. Another controversial statement he made was his statement that he would not allow Wall Street to take over the financial institutions, but would instead allow them to take over the banking sector. All of these statements have caused controversy and have made Obama famous in the eyes of many individuals and businesses.\n",
      "The Great Recession has been a major political issue in recent history. It has had a significant impact on American society, and has been a source of controversy for many years. However, it has also been a major source of inspiration for many people. President Obama has been a leader in many different fields, including the arts, science, and business. He has also been a force for peace and reconciliation in many different parts of the world.\n",
      "Despite his success, Obama has also been criticized for his policies. He has criticized the U.S. government for failing to provide adequate resources for its many veterans and soldiers, and has criticized the way in which the country has been treated by the international community. He has also criticized the way in which the government has treated its minorities. He has also been criticized for his decision to withdraw from the Paris climate agreement in 2015, and has been criticized for his failure to address the issue of climate change. In addition, he has been criticized for his unwillingness to address the issue of climate change himself, and for his failure to address the issue of climate change.\n",
      "The Great Recession has had a significant impact on the economy of the United States, with many economists predicting that it will continue to worsen over the coming years. One of the most important things that has happened since the Great Recession occurred is the rise in unemployment rates. Many economists believe that the recession will continue to be a major problem for many years to come. There has been a 3.2 percent increase in unemployment rates since the start of the recession, and there have been 4.5 million jobs lost since the beginning of the recession.\n",
      "Overall, the Great Recession has had a significant impact on the economy of the United States, with many economists predicting that it will continue to worsen over the coming years. However, there are also a number of important issues that have been raised by the recession, including the issue of economic inequality and the growing number of refugees. These issues have been raised by the recession, and the fact that they have been raised by President Obama is a positive sign that the economy is on the right path.\n",
      "The Great Recession has had a significant impact on the economy of the United States, with many economists predicting that it will continue to worsen over the coming years. There has been a 3.2 percent increase in unemployment rates since the start of the recession, and there has been a 4.5 million job loss since the start of the recession. Many economists believe that the recession will continue to worsen over the coming years, and that there will be a 3.2 percent increase in unemployment rates in the coming years. There has also been a 6.5 percent increase in the number of refugees in the United States, and there has been a 6.5 percent increase in the number of refugees in the United States since the start of the recession. Overall, the recession has had a significant impact on the economy of the United States, with many economists predicting that it will continue to worsen over the coming years.\n",
      "The Great Recession has had a significant impact on the economy of the United States, with many economists predicting that it will continue to worsen over the coming years. There has been a 3.2 percent increase in unemployment rates since the start of the recession, and there have been 4.5 million jobs lost since the start of the recession. There have also been a 6.5 percent increase in the number of refugees in the United States, and there has been a 6.5 percent increase in the number of refugees in the United States since the start of the recession.\n",
      "Overall, the Great Recession has had a significant impact on the economy of the United States, with many economists predicting that it will continue to worsen over the coming years. There has been a 3.2 percent increase in unemployment rates since the start of the recession, and there have been 4.5 million jobs lost since the beginning of the recession. Overall, the recession has had a significant impact on the economy of the United States, with many economists predicting that it will continue to worsen over the coming years. Overall, the recession has had a significant impact on the economy of the United States, with many economists predicting that it will continue to worsen over the coming years.\n",
      "The Great Recession has had a significant impact on the economy of the United States, with many economists predicting that it will continue to worsen over the coming years. There have been a number of important factors that have contributed to the Great Recession, such as the lack of investment in infrastructure, the effects of climate change, and the rise in unemployment rates. However, there are also a number of other factors that have contributed to the Great Recession, including the effects of climate change, the rise in unemployment rates, and the rising number of refugees. Overall, the Great Recession has had a significant impact on the economy of the United States, with many economists predicting that it will continue to worsen over the coming years. Overall, the Great Recession has had a significant impact on the economy of the United States, with many economists predicting that it will continue to worsen over the coming years. Overall, the Great Recession has had a significant impact on the economy of the United States, with many economists predicting that it will continue to worsen over the coming years. Overall, the Great Recession has had a significant impact on the economy of the United States, with many economists predicting that it will continue to worsen over the coming years. Overall, the Great Recession has had a significant impact on the economy of the United States, with many experts predicting that it will continue to worsen over the coming years. Overall, the Great Recession has had a significant impact on the economy of the United States, and with many experts predicting that it will continue to worsen over the coming years, the Great Recession will continue to worsen over the coming years. Overall, the Great Recession has had a significant impact on the economy of the United States, with many experts predicting that it will continue to worsen over the coming years.<|endoftext|>A new article published in the journal NeuroImage contains a number of interesting findings. The article shows that the brain uses a form of memory that is similar to that of the human mind. The brain is able to store memories for a long time, which is why it is a good idea to keep your brain active throughout the day. This is especially important for people with dementia, as they may need help with everyday activities. In addition, taking a daily dose of vitamin E can help to improve memory.<|endoftext|>This is a well-written article that should not be overlooked. One of the most important aspects of the design of a website is the presentation of the content. This is why the layout of a website is always important. As a designer you should be able to create a design that is both easy to understand and easily understood. You need to make sure that you have a good idea of what your website is going to look like. You should also have a good idea of what the audience expects in the page. This article will help you to design a website that is easy to understand and easy to use.\n",
      "The first step to creating a website is to choose the right theme. This is one of the first things that you need to look into. You should also have a good idea of what the page layout will look like. You will also need to be aware of how to make the page more interesting. You should also make sure that you have a good idea of how to make the page look better.\n",
      "The second step is to make sure that your design is easy to understand. This is one of the first things that you need to do. You should also make sure that you have a good idea of how to make the page look better. You should also make sure that you have a good idea of how to make the page look better. You should also make sure that you have a good idea of how to make the page look better. You should also make sure that you have a good idea of how to make the page look better. You should also make sure that you have a good idea of how to make the page look better.\n",
      "The third step is to make sure that your website is easy to use. This is one of the first things that you need to do. You should also make sure that your design is easy to use. You should also make sure that your design is easy to use. You should also make sure that your design is easy to use. You should also make sure that your design is easy to use. You should also make sure that your design is easy to use. You should also make sure that your design is easy to use. You should also make sure that your design is easy to use. You should also make sure that your design is easy to use. You should also make sure that your design is easy to use. You should also make sure that your design is easy to use. You should also make sure that your design is easy to use. You should also make sure that your design is easy to use. You should also make sure that your design is easy to use. You should also make sure that your design is easy to use. You should also make sure that your design is easy to use. You should also make sure that your design is easy to use. You should also make sure that your design is easy to use. You should also make sure that your design is easy to use. You should also make sure that your design is easy to use. You should also make sure that your design is easy to use. You should also make sure that your design is easy to use. You should also make sure that your design is easy to use. You should also make sure that your design is easy to use. You should also make sure that your design is easy to use. You should also make sure that your design is easy to use. You should also make sure that your design is easy to use. You should make sure that your design is easy to use. You should also make sure that your design is easy to use. You should also make sure that your design is easy to use. You should also make sure that your design is easy to use. You should also make sure that your design is easy to use. You should also make sure that your design is easy to use. You should also make sure that your design is easy to use. You should also make sure that your design is easy to use. You should also make sure that your design is easy to use. You should make sure that your design is easy to use. You should also make sure that your design is easy to use. You should also make sure that your design is easy to use. You should also make sure that your design is easy to use. You should also make sure that your design is easy to use. You should make sure that your design is easy to use. You should also make sure that your design is easy to use. You should make sure that your design is easy to use. You should make sure that your design is easy to use. You should make sure that your design is easy to use. You should make sure that your design is easy to use. You should make sure that your design is easy to use. You should make sure that your design is easy to use. You should make sure that your design is easy to use. You should make sure that your design is easy to use. You should make sure that your design is easy to use. You should make sure that your design is easy to use. You should make sure that your design is easy to use. You should make sure that your design is easy to use. You should make sure that your design is easy to use. You should make sure that your design is easy to use. You should make sure that your design is easy to use. You should make sure that your design is easy to use. You should make sure that your design is easy to use. You should make sure that your design is easy to use. You should make sure that your design is easy to use. You should make sure that your design is easy to use. You should make sure that your design is easy to use. You should make sure that your design is easy to use. You should make sure that your design is easy to use. You should make sure that your design is easy to use. You should make sure that your design is easy to use. You should make sure that your design is easy to use. You should make sure that your design is easy to use. You should make sure that your design is easy to use. You should make sure that your design is easy to use. You should make sure that your design is easy to use. You should make sure that your design is easy to use. You should make sure that your design is easy to use. You should make sure that your design is easy to use. You should make sure that your design is easy to use. You should make sure that your design is easy to use. You should make sure that your design is easy to use. You should make sure that your design is easy to use. You should make sure that your design is easy to use. You should make sure that your design is easy to use. You should make sure that your design is easy to use. You should make sure that your design is easy to use. You should make sure that your design is easy to use. You should make sure that your design is easy to use. You should make sure that your design is easy to use. You should make sure that your design is easy to use. You should make sure that your design is easy to use. You should make sure that your design is easy to use. You should make sure that your design is easy to use. You should make sure that your design is easy to use. You should make sure that your design is easy to use. You should make sure that your design is easy to use. You should make sure that your design is easy to use. You should make sure that your design is easy to use. You should make sure that your design is easy to use. You should make sure that your design is easy to use. You should make sure that your design is easy to use. You should make sure that your design is easy to use. You should make sure that your design is easy to use. You should make sure that your design is easy to use. You should make sure that your design is easy to use. You should make sure that your design is easy to use. You should make sure that your design is easy to use. You should make sure that your design is easy to use. You should make sure that your design is easy to use. You should make sure that your design is easy to use. You should make sure that your design is easy to use. You should make sure that your design is easy to use. You should make sure that your design is easy to use. You should make sure that your design is easy to use. You should make sure that your design is easy to use. You should make sure that your design is easy to use. You should make sure that your design is easy to use. You should make sure that your design is easy to use. You should make sure that your design is easy to use. You should make sure that your design is easy to use. You should make sure that your design is easy to use. You should make sure that your design is easy to use. You should make sure that your design is easy to use. You should make sure that your design is easy to use. You should make sure that your design is easy to use. You should make sure that your design is easy to use. You should make sure that your design is easy to use. You should make sure that your design is easy to use. You should make sure that your design is easy to use. You should make sure that your design is easy to use. You should make sure that your design is easy to use. You should make sure that your design is easy to use. You should make sure that your design is easy to use. You should make sure that your design is easy to use. You should make sure that your design is easy to use. You should make sure that your design is easy to use. You should make sure that your design is easy to use. You should make sure that your design is easy to use. You should make sure that your design is easy to use. You should make sure that your design is easy to use. You should make sure that your design is easy to use. You should make sure that your design is easy to use. You should make sure that your design is easy to use. You should make sure that your design is easy to use. You should make sure that your design is easy to use. You should make sure that your design is easy to use. You should make sure that your design is easy to use. You should make sure that your design is easy to use. You should make sure that your design is easy to use. You should make sure that your design is easy to use. You should make sure that your design is easy to use. You should make sure that your design is easy to use. You should make sure that your design is easy to use. You should make sure that your design is easy to use. You should make sure that your design is easy to use. You should make sure that your design is easy to use. You should make sure that your design is easy to use. You should make sure that your design is easy to use. You should make sure that your design is easy to use. You should make sure that your design is easy to use. You should make sure that your design is easy to use. You should make sure that your design is easy to use. You should make sure that your design is easy to use. You should make sure that your design is easy to use. You should make sure that your design is easy to use. You should make sure that your design is easy to use. You should make sure that your design is easy to use. You should make sure that your design is easy to use. You should make sure that your design is easy to use. You should make sure that your design is easy to use. You should make sure that your design is easy to use. You should make sure that your design is easy to use. You should make sure that your design is easy to use. You should make sure that your design is easy to use. You should make sure that your design is easy to use. You should make sure that your design is easy to use. You should make sure that your design is easy to use. You should make sure that your design is easy to use. You should make sure that your design is easy to use. You should make sure that your design is easy to use. You should make sure that your design is easy to use. You should make sure that your design is easy to use. You should make sure that your design is easy to use. You should make sure that your design is easy to use. You should make sure that your design is easy to use. You should make sure that your design is easy to use. You should make sure that your design is easy to use. You should make sure that your design is easy to use. You should make sure that your design is easy to use. You should make sure that your design is easy to use. You should make sure that your design is easy to use. You should make sure that your design is easy to use. You should make sure that your design is easy to use. You should make sure that your design is easy to use. You should make sure that your design is easy to use. You should make sure that your design is easy to use. You should make sure that your design is easy to use. You should make sure that your design is easy to use. You should make sure that your design is easy to use. You should make sure that your design is easy to use. You should make sure that your design is easy to use. You should make sure that your design is easy to use. You should make sure that your design is easy to use. You should make sure that your design is easy to use. You should make sure that your design is easy to use. You should make sure that your design is easy to use. You should make sure that your design is easy to use. You should make sure that your design is easy to use. You should make sure that your design is easy to use. You should make sure that your design is easy to use. You should make sure that your design is easy to use. You should make sure that your design is easy to use. You should make sure that your design is easy to use. You should make sure that your design is easy to use. You should make sure that your design is easy to use. You should make sure that your design is easy to use. You should make sure that your design is easy to use. You should make sure that your design is easy to use. You should make sure that your design is easy to use. You should make sure that your design is easy to use. You should make sure that your design is easy to use. You should make sure that your design is easy to use. You should make sure that your design is easy to use. You should make sure that your design is easy to use. You should make sure that your design is easy to use. You should make sure that your design is easy to use. You should make sure that your design is easy to use. You should make sure that your design is easy to use. You should make sure that your design is easy to use. You should make sure that your design is easy to use. You should make sure that your design is easy to use. You should make sure that your design is easy to use. You should make sure that your design is easy to use. You should make sure that your design is easy to use. You should make sure that your design is easy to use. You should make sure that your design is easy to use. You should make sure that your design is easy to use. You should make sure that your design is easy to use. You should make sure that your design is easy to use. You should make sure that your design is easy to use. You should make sure that your design is easy to use. You should make sure that your design is easy to use. You should make sure that your design is easy to use. You should make sure that your design is easy to use. You should make sure that your design is easy to use. You should make sure that your design is easy to use. You should make sure that your design is easy to use. You should make sure that your design is easy to use. You should make sure that your design is easy to use. You should make sure that your design is easy to use. You should make sure that your design is easy to use. You should make sure that your design is easy to use. You should make sure that your design is easy to use. You should make sure that your design is easy to use. You should make sure that your design is easy to use. You should make sure that your design is easy to use. You should make sure that your design is easy to use. You should make sure that your design is easy to use. You should make sure that your design is easy to use. You should make sure that your design is easy to use. You should make sure that your design is easy to use. You should make sure that your design is easy to use. You should make sure that your design is easy to use. You should make sure that your design is easy to use. You should make sure that your design is easy to use. You should make sure that your design is easy to use. You should make sure that your design is easy to use. You should make sure that your design is easy to use. You should make sure that your design is easy to use. You should make sure that your design is easy to use. You should make sure that your design is easy to use. You should make sure that your design is easy to use. You should make sure that your design is easy to use. You should make sure that your design is easy to use. You should make sure that your design is easy to use. You should make sure that your design is easy to use. You should make sure that your design is easy to use. You should make sure that your design is easy to use. You should make sure that your design is easy to use. You should make sure that your design is easy to use. You should make sure that your design is easy to use. You should make sure that your design is easy to use. You should make sure that your design is easy to use. You should make sure that your design is easy to use. You should make sure that your design is easy to use. You should make sure that your design is easy to use. You should make sure that your design is easy to use. You should make sure that your design is easy to use. You should make sure that your design is easy to use. You should make sure that your design is easy to use. You should make sure that your design is easy to use. You should make sure that your design is easy to use. You should make sure that your design is easy to use. You should make sure that your design is easy to use. You should make sure that your design is easy to use. You should make sure that your design is easy to use. You should make sure that your design is easy to use. You should make sure that your design is easy to use. You should make sure that your design is easy to use. You should make sure that your design is easy to use. You should make sure that your design is easy to use. You should make sure that your design is easy to use. You should make sure that your design is easy to use. You should make sure that your design is easy to use. You should make sure that your design is easy to use. You should make sure that your design is easy to use. You should make sure that your design is easy to use. You should make sure that your design is easy to use. You should make sure that your design is easy to use. You should make sure that your design is easy to use. You should make sure that your design is easy to use. You should make sure that your design is easy to use. You should make sure that your design is easy to use. You should make sure that your design is easy to use. You should make sure that your design is easy to use. You should make sure that your design is easy to use. You should make sure that your design is easy to use. You should make sure that your design is easy to use. You should make sure that your design is easy to use. You should make sure that your design is easy to use. You should make sure that your design is easy to use. You should make sure that your design is easy to use. You should make sure that your design is easy to use. You should make sure that your design is easy to use. You should make sure that your design is easy to use. You should make sure that your design is easy to use. You should make sure that your design is easy to use. You should make sure that you are made aware of your design. You should make sure that your design is easy to use. You should make sure that your design is easy to use. You should make sure that your design is easy to use. You should make sure that your design is easy to use. You should make sure that your design is easy to use. You should make sure that your design is easy to use. You should make sure that your design is easy to use. You should make sure that your design is easy to use. You should make sure that your design is easy to use. You should make sure that your design is easy to use. You should make sure that your design is easy to use. You should make sure that your design is easy to use. You should make sure that your design is easy to use. You should make sure that your design is easy to use. You should make sure that your design is easy to use. You should make sure that your design is easy to use. You should make sure that your design is easy to use. You should make sure that your design is easy to use. You should make sure that your design is easy to use. You should make sure that your design is easy to use. You should make sure that your design is easy to use. You should make sure that your design is easy to use. You should make sure that your design is easy to use. You should make sure that your design is easy to use. You should make sure that your design is easy to use. You should make sure that your design is easy to use. You should make sure that your design is easy to use. You should make sure that your design is easy to use. You should make sure that your design is easy to use. You should make sure that your design is easy to use. You should make sure that your design is easy to use. You should make sure that your design is easy to use. You should make sure that your design is easy to use. You should make sure that your design is easy to use. You should make sure that your design is easy to use. You should make sure that your design is easy to use. You should make sure that your design is easy to use. You should make sure that your design is easy to use. You should make sure that your design is easy to use. You should make sure that your design is easy to use. You should make sure that your design is easy to use. You should make sure that your design is easy to use. You should make sure that your design is easy to use. You should make sure that your design is easy to use. You should make sure that your design is easy to use. You should make sure that your design is easy to use. You should make sure that your design is easy to use. You should make sure that your design is easy to use. You should make sure that your design is easy to use. You should make sure that your design is easy to use. You should make sure that you are made aware of your design. You should make sure that your design is easy to use. You should make sure that your design is easy to use. You should make sure that your design is easy to use. You should make sure that your design is easy to use. You should make sure that your design is easy to use. You should make sure that your design is easy to use. You should make sure that your design is easy to use. You should make sure that your design is easy to use. You should make sure that your design is easy to use. You should make sure that your design is easy to use. You should make sure that your design is easy to use. You should make sure that your design is easy to use. You should make sure that your design is easy to use. You should make sure that your design is easy to use. You should make sure that you are made aware of your design. You should make sure that you are made aware of your design. You should make sure that your design is easy to use. You should make sure that your design is easy to use. You should make sure that your design is easy to use. You should make sure that your design is easy to use. You should make sure that your design is easy to use. You should make sure that your design is easy to use. You should make sure that your design is easy to use. You should make sure that your design is easy to use. You should make sure that your design is easy to use. You should make sure that your design is easy to use. You should make sure that your design is easy to use. You should make sure that your design is easy to use. You should make sure that your design is easy to use. You should make sure that your design is easy to use. You should make sure that your design is easy to use. You should make sure that your design is easy to use. You should make sure that your design is easy to use. You should make sure that your design is easy to use. You should make sure that your design is easy to use. You should make sure that your design is easy to use. You should make sure that your design is easy to use. You should make sure that your design is easy to use. You should make sure that your design is easy to use. You should make sure that your design is easy to use. You should make sure that your design is easy to use. You should make sure that your design is easy to use. You should make sure that your design is easy to use. You should make sure that your design is easy to use. You should make sure that your design is easy to use. You should make sure that your design is easy to use. You should make sure that your design is easy to use. You should make sure that your design is easy to use. You should make sure that your design is easy to use. You should make sure that you are made aware of your design. You should make sure that your design is easy to use. You should make sure that your design is easy to use. You should make sure that your design is easy to use. You should make sure that your design is easy to use. You should make sure that your design is easy to use. You should make sure that you are made aware of your design. You should make sure that your design is easy to use. You should make sure that your design is easy to use. You should make sure that your design is easy to use. You should make sure that your design is easy to use. You should make sure that your design is easy to use. You should make sure that your design is easy to use. You should make sure that your design is easy to use. You should make sure that your design is easy to use. You should make sure that your design is easy to use. You should make sure that your design is easy to use. You should make sure that your design is easy to use. You should make sure that your design is easy to use. You should make sure that your design is easy to use. You should make sure that your design is easy to use. You should make sure that your design is easy to use. You should make sure that your design is easy to use. You should make sure that your design is easy to use. You should make sure that your design is easy to use. You should make sure that your design is easy to use. You should make sure that your design is easy to use. You need to make sure that your design is easy to use. You should make sure that your design is easy to use. You need to make sure that your design is easy to use. You need to make sure that your design is easy to use. You should make sure that your design is easy to use. You want to make sure that your design is easy to use. You should make sure that your design is easy to use. You need to make sure that your design is easy to use. You need to make sure that your design is easy to use. You need to make sure that your design is easy to use. You need to make sure that your design is easy to use. You need to make sure that your design is easy to use. You need to make sure that your design is easy to use. You need to make sure that your design is easy to use. You need to make sure that your design is easy to use. You need to make sure that your design is easy to use. You need to make sure that your design is easy to use. You need to make sure that your design is easy to use. You need to make sure that your design is easy to use. You need to make sure that your design is easy to use. You need to make sure that your design is easy to use. You need to make sure that your design is easy to use. You need to make sure that your design is easy to use. You need to make sure that your design is easy to use. You need to make sure that your design is easy to use. You need to make sure that your design is easy to use. You need to make sure that your design is easy to use. You need to make sure that your design is easy to use. You need to make sure that your design is easy to use You need to make sure that your design is easy to use. You need to make sure that your design is easy to use. You need to make sure that your design is easy to use. You need to make sure that your design is easy to use. You need to make sure that your design is easy to use. You need to make sure that your design is easy to use. You need to make sure that your design is easy to use. You need to make sure that your design is easy to use. You need to make sure that your design is easy to use. You need to make sure that your design is easy to use. You\n",
      "\n",
      "Tokens per second: 76.46\n"
     ]
    },
    {
     "name": "stderr",
     "output_type": "stream",
     "text": [
      "\n"
     ]
    }
   ],
   "source": [
    "generate_and_time(model, prompts, cache = True)"
   ]
  },
  {
   "cell_type": "code",
   "execution_count": 27,
   "id": "62ce7ef0-dffc-4ee7-aa3c-3a00b600684b",
   "metadata": {},
   "outputs": [
    {
     "name": "stdout",
     "output_type": "stream",
     "text": [
      "Generating text for prompt 1: Obama is famous for\n"
     ]
    },
    {
     "name": "stderr",
     "output_type": "stream",
     "text": [
      "  1%|          | 73/7996 [00:10<18:27,  7.16it/s]\n",
      "\n",
      "KeyboardInterrupt\n",
      "\n"
     ]
    }
   ],
   "source": [
    "generate_and_time(model, prompts, cache = False)"
   ]
  },
  {
   "cell_type": "code",
   "execution_count": null,
   "id": "ee5f3999-7535-4760-b848-06c9d7317abd",
   "metadata": {},
   "outputs": [],
   "source": []
  },
  {
   "cell_type": "code",
   "execution_count": 28,
   "id": "a4f0b53c-611c-4ede-9c32-fd53abfd0584",
   "metadata": {},
   "outputs": [
    {
     "name": "stdout",
     "output_type": "stream",
     "text": [
      "tensor(0.0006, device='cuda:0', dtype=torch.bfloat16)\n",
      "tensor(0.0021, device='cuda:0', dtype=torch.bfloat16)\n",
      "tensor(0.0038, device='cuda:0', dtype=torch.bfloat16)\n",
      "tensor(0.0045, device='cuda:0', dtype=torch.bfloat16)\n",
      "tensor(0.0040, device='cuda:0', dtype=torch.bfloat16)\n",
      "tensor(0.0043, device='cuda:0', dtype=torch.bfloat16)\n"
     ]
    }
   ],
   "source": [
    "\n",
    "import torch.nn.functional as F\n",
    "gaps = []\n",
    "with torch.no_grad():\n",
    "    for i in range(6):\n",
    "        x = torch.randn(1,100,896).cuda()\n",
    "        input_pos = torch.arange(100, device=device)\n",
    "        \n",
    "        stu_out = stu_before[i](x.bfloat16(), input_pos)\n",
    "        lds_out = stu_after[i](x.bfloat16(), input_pos)\n",
    "        print(F.l1_loss(stu_out, lds_out))\n",
    "        gaps.append((stu_out - lds_out).abs().cpu().detach().float().flatten())\n",
    "        #F1 of approx 0.005 between stu with lds filters and lds. That's pretty high error"
   ]
  },
  {
   "cell_type": "code",
   "execution_count": 29,
   "id": "43968ab9-e845-460a-abd8-9a80e67dc369",
   "metadata": {},
   "outputs": [
    {
     "data": {
      "image/png": "[encoded data removed]",
      "text/plain": [
       "<Figure size 640x480 with 1 Axes>"
      ]
     },
     "metadata": {},
     "output_type": "display_data"
    }
   ],
   "source": [
    "import matplotlib.pyplot as plt\n",
    "\n",
    "_ = plt.hist(gaps, bins = 100, log = True)\n",
    "# plt.xscale('log')\n",
    "plt.show()"
   ]
  }
 ],
 "metadata": {
  "kernelspec": {
   "display_name": "torch-env [~/.conda/envs/torch-env/]",
   "language": "python",
   "name": "conda_torch-env"
  },
  "language_info": {
   "codemirror_mode": {
    "name": "ipython",
    "version": 3
   },
   "file_extension": ".py",
   "mimetype": "text/x-python",
   "name": "python",
   "nbconvert_exporter": "python",
   "pygments_lexer": "ipython3",
   "version": "3.12.7"
  }
 },
 "nbformat": 4,
 "nbformat_minor": 5
}
