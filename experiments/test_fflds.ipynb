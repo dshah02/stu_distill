{
 "cells": [
  {
   "cell_type": "code",
   "execution_count": 1,
   "id": "9e3d8e43-3ca8-4580-b8d7-6c0e0c3930c5",
   "metadata": {},
   "outputs": [
    {
     "ename": "SyntaxError",
     "evalue": "unterminated string literal (detected at line 6) (20115604.py, line 6)",
     "output_type": "error",
     "traceback": [
      "\u001b[0;36m  Cell \u001b[0;32mIn[1], line 6\u001b[0;36m\u001b[0m\n\u001b[0;31m    \"\u001b[0m\n\u001b[0m    ^\u001b[0m\n\u001b[0;31mSyntaxError\u001b[0m\u001b[0;31m:\u001b[0m unterminated string literal (detected at line 6)\n"
     ]
    }
   ],
   "source": [
    "import torch\n",
    "import sys\n",
    "import os\n",
    "sys.path.append(os.path.abspath(\"../src\"))\n",
    "sys.path.append(os.path.abspath(\"../experiments/convex_hull\"))\n",
    "\n",
    "from model_550m import get_spectral_filters, STU\n",
    "from full_fast_stu import FullFastSTU\n",
    "\n",
    "class STUConfig():\n",
    "    def __init__(\n",
    "        self,\n",
    "        d_in=4,\n",
    "        d_out=4,\n",
    "        num_eigh=24,\n",
    "        seq_len=8192,\n",
    "        use_hankel_L=False,\n",
    "        use_approx=True,\n",
    "        use_flash_fft = True,\n",
    "        torch_dtype = torch.bfloat16\n",
    "    ):\n",
    "        super().__init__()\n",
    "        self.n_embd = d_in  # Used by some parts of the code\n",
    "        self.dim = d_in     # Used by other parts of the code\n",
    "        self.d_out = d_out\n",
    "        self.num_eigh = num_eigh\n",
    "        self.seq_len = seq_len\n",
    "        self.use_hankel_L = use_hankel_L\n",
    "        self.use_approx = use_approx\n",
    "        self.use_flash_fft = use_flash_fft\n",
    "        self.torch_dtype = torch_dtype\n",
    "\n",
    "def create_random_stu(d_in=1, d_out=1, num_eigh=24, use_hankel_L=False, use_approx=True):\n",
    "    # Create a random config\n",
    " \n",
    "    filters = get_spectral_filters(\n",
    "        seq_len=8192,\n",
    "        K=num_eigh,\n",
    "        use_hankel_L=use_hankel_L,\n",
    "        device=torch.device('cuda'),\n",
    "        dtype=torch.bfloat16\n",
    "    )\n",
    "    \n",
    "    # Create random STU\n",
    "    config = STUConfig()\n",
    "    stu = STU(config, filters).cuda()\n",
    "    return stu"
   ]
  },
  {
   "cell_type": "code",
   "execution_count": 2,
   "id": "5885b479-a048-4792-ae21-4099f6a6250a",
   "metadata": {},
   "outputs": [
    {
     "name": "stderr",
     "output_type": "stream",
     "text": [
      "/home/ds6237/stu_distill/experiments/convex_hull/full_fast_stu.py:111: FutureWarning: You are using `torch.load` with `weights_only=False` (the current default value), which uses the default pickle module implicitly. It is possible to construct malicious pickle data which will execute arbitrary code during unpickling (See https://github.com/pytorch/pytorch/blob/main/SECURITY.md#untrusted-models for more details). In a future release, the default value for `weights_only` will be flipped to `True`. This limits the functions that could be executed during unpickling. Arbitrary objects will no longer be allowed to be loaded via this mode unless they are explicitly allowlisted by the user via `torch.serialization.add_safe_globals`. We recommend you start setting `weights_only=True` for any use case where you don't have full control of the loaded file. Please open an issue on GitHub for any issues related to this experimental feature.\n",
      "  checkpoint = torch.load(checkpoint_path, map_location=torch.device('cpu'))\n"
     ]
    },
    {
     "name": "stdout",
     "output_type": "stream",
     "text": [
      "Mean absolute difference: 0.0123291015625\n",
      "Max absolute difference: 0.125\n"
     ]
    }
   ],
   "source": [
    "stu = create_random_stu()\n",
    "\n",
    "seq_len = 8192    \n",
    "# Generate random input\n",
    "batch_size = 1\n",
    "d_in = stu.config.n_embd\n",
    "x = torch.randn(batch_size, seq_len, d_in, dtype=torch.bfloat16).cuda()\n",
    "input_pos = torch.arange(seq_len).unsqueeze(0).expand(batch_size, -1).cuda()\n",
    "\n",
    "full_fast_stu = FullFastSTU(stu, \"./convex_hull/best_phi_lds.pt\")\n",
    "# Get outputs from both models\n",
    "with torch.no_grad():\n",
    "    stu_output = stu(x, input_pos)\n",
    "    full_fast_output = full_fast_stu(x, input_pos)\n",
    "# Calculate differences\n",
    "abs_diff = torch.abs(stu_output - full_fast_output)\n",
    "mean_diff = abs_diff.mean().item()\n",
    "max_diff = abs_diff.max().item()\n",
    "    \n",
    "\n",
    "print(f\"Mean absolute difference: {mean_diff}\")\n",
    "print(f\"Max absolute difference: {max_diff}\")\n",
    "\n",
    "\n",
    "# Check if outputs are close\n",
    "is_close = torch.allclose(stu_output, full_fast_output, rtol=1e-5, atol=1e-5)\n",
    "\n",
    "#with best_phi_lds.pt\n",
    "#Mean absolute difference: 0.00689697265625\n",
    "#Max absolute difference: 0.0625\n",
    "\n",
    "#with 250"
   ]
  },
  {
   "cell_type": "code",
   "execution_count": 2,
   "id": "b2f461c4-8080-40f0-9395-434699780e5c",
   "metadata": {},
   "outputs": [],
   "source": [
    "from lds import LDS as NLDS\n",
    "from inference_lds import ILDS"
   ]
  },
  {
   "cell_type": "code",
   "execution_count": 3,
   "id": "0b4380b0-9579-4395-8a38-1d1fb7733c5d",
   "metadata": {},
   "outputs": [],
   "source": [
    "def get_lds(checkpoint_path = './convex_hull/best_phi_lds.pt'):\n",
    "    # Load the LDS model from the checkpoint\n",
    "    checkpoint = torch.load(checkpoint_path, map_location=torch.device('cpu'))\n",
    "    \n",
    "    \n",
    "    # Create the LDS model\n",
    "    lds_phi = NLDS(\n",
    "        state_dim=checkpoint['state_dim'],\n",
    "        input_dim=checkpoint['input_dim'],\n",
    "        output_dim=checkpoint['output_dim'],\n",
    "        kx=checkpoint['kx'],\n",
    "        dtype=torch.float32 if checkpoint['dtype'] == 'torch.float32' else torch.float64,\n",
    "        # bsz_dim = 4\n",
    "    )\n",
    "    \n",
    "    \n",
    "    # Load the weights from checkpoint\n",
    "    lds_phi.load_state_dict(checkpoint['model_state_dict'], strict = False)\n",
    "    return lds_phi.cuda()"
   ]
  },
  {
   "cell_type": "code",
   "execution_count": 4,
   "id": "c1763cdc-2980-401a-b003-20fc0583b253",
   "metadata": {},
   "outputs": [],
   "source": [
    "def get_ilds(checkpoint_path = './convex_hull/best_phi_lds.pt'):\n",
    "    # Load the LDS model from the checkpoint\n",
    "    checkpoint = torch.load(checkpoint_path, map_location=torch.device('cpu'))\n",
    "    \n",
    "    \n",
    "    # Create the LDS model\n",
    "    lds_phi = ILDS(\n",
    "        state_dim=checkpoint['state_dim'],\n",
    "        input_dim=checkpoint['input_dim'],\n",
    "        output_dim=checkpoint['output_dim'],\n",
    "        kx=checkpoint['kx'],\n",
    "        dtype=torch.float32 if checkpoint['dtype'] == 'torch.float32' else torch.float64,\n",
    "        bsz_dim = 4\n",
    "    )\n",
    "    \n",
    "    \n",
    "    # Load the weights from checkpoint\n",
    "    lds_phi.load_state_dict(checkpoint['model_state_dict'], strict = False)\n",
    "    return lds_phi.cuda()"
   ]
  },
  {
   "cell_type": "code",
   "execution_count": 5,
   "id": "81b854b6-dfe5-4c09-beb3-271d9a1d0454",
   "metadata": {},
   "outputs": [
    {
     "name": "stderr",
     "output_type": "stream",
     "text": [
      "/tmp/ipykernel_4059302/4034998123.py:3: FutureWarning: You are using `torch.load` with `weights_only=False` (the current default value), which uses the default pickle module implicitly. It is possible to construct malicious pickle data which will execute arbitrary code during unpickling (See https://github.com/pytorch/pytorch/blob/main/SECURITY.md#untrusted-models for more details). In a future release, the default value for `weights_only` will be flipped to `True`. This limits the functions that could be executed during unpickling. Arbitrary objects will no longer be allowed to be loaded via this mode unless they are explicitly allowlisted by the user via `torch.serialization.add_safe_globals`. We recommend you start setting `weights_only=True` for any use case where you don't have full control of the loaded file. Please open an issue on GitHub for any issues related to this experimental feature.\n",
      "  checkpoint = torch.load(checkpoint_path, map_location=torch.device('cpu'))\n"
     ]
    }
   ],
   "source": [
    "lds = get_lds()"
   ]
  },
  {
   "cell_type": "code",
   "execution_count": 6,
   "id": "615f1fd1-2b2f-4b2f-b53b-40622adf88b1",
   "metadata": {},
   "outputs": [
    {
     "name": "stderr",
     "output_type": "stream",
     "text": [
      "/tmp/ipykernel_4059302/2061604832.py:3: FutureWarning: You are using `torch.load` with `weights_only=False` (the current default value), which uses the default pickle module implicitly. It is possible to construct malicious pickle data which will execute arbitrary code during unpickling (See https://github.com/pytorch/pytorch/blob/main/SECURITY.md#untrusted-models for more details). In a future release, the default value for `weights_only` will be flipped to `True`. This limits the functions that could be executed during unpickling. Arbitrary objects will no longer be allowed to be loaded via this mode unless they are explicitly allowlisted by the user via `torch.serialization.add_safe_globals`. We recommend you start setting `weights_only=True` for any use case where you don't have full control of the loaded file. Please open an issue on GitHub for any issues related to this experimental feature.\n",
      "  checkpoint = torch.load(checkpoint_path, map_location=torch.device('cpu'))\n"
     ]
    }
   ],
   "source": [
    "ilds = get_ilds()"
   ]
  },
  {
   "cell_type": "code",
   "execution_count": 21,
   "id": "dcae81e4-fc23-4aa8-820b-a179d3db23c5",
   "metadata": {},
   "outputs": [],
   "source": [
    "x = torch.randn(100).reshape(1, -1, 1).cuda()"
   ]
  },
  {
   "cell_type": "code",
   "execution_count": 22,
   "id": "ecbd7f6f-898b-464e-9003-ef70d33be9b1",
   "metadata": {},
   "outputs": [],
   "source": [
    "ilds.reset_state()"
   ]
  },
  {
   "cell_type": "code",
   "execution_count": 23,
   "id": "f07b70ff-664f-4e5d-870b-9c83e3445d5b",
   "metadata": {},
   "outputs": [
    {
     "data": {
      "text/plain": [
       "tensor([[[ 2.1530e-10,  4.5513e-10,  9.5488e-10,  ...,  3.3501e-03,\n",
       "          -1.5496e-02, -1.1379e-01],\n",
       "         [-1.9089e-08, -3.7422e-08, -7.2795e-08,  ...,  4.4006e-02,\n",
       "          -1.5492e-01, -8.2400e-01],\n",
       "         [ 3.0989e-07,  5.4630e-07,  9.4081e-07,  ...,  1.2978e-01,\n",
       "          -2.0339e-01,  6.3200e-01],\n",
       "         ...,\n",
       "         [-1.1616e-04, -4.4637e-04, -8.8879e-04,  ...,  6.0397e-02,\n",
       "          -4.2050e-01,  1.6584e+00],\n",
       "         [ 2.5105e-04, -5.1268e-06, -3.9115e-04,  ..., -9.7667e-02,\n",
       "           9.2074e-01, -2.1384e-01],\n",
       "         [ 1.3872e-04, -1.6183e-04, -8.2756e-04,  ..., -2.6890e-01,\n",
       "          -5.2398e-01,  3.4276e-01]]], device='cuda:0', dtype=torch.float64,\n",
       "       grad_fn=<AddBackward0>)"
      ]
     },
     "execution_count": 23,
     "metadata": {},
     "output_type": "execute_result"
    }
   ],
   "source": [
    "lds(x)"
   ]
  },
  {
   "cell_type": "code",
   "execution_count": 24,
   "id": "19e25fbc-3b65-471f-b79e-88ca33178e7d",
   "metadata": {},
   "outputs": [
    {
     "data": {
      "text/plain": [
       "tensor([[[ 2.1530e-10,  4.5513e-10,  9.5489e-10,  ...,  3.3501e-03,\n",
       "          -1.5496e-02, -1.1379e-01],\n",
       "         [-1.9089e-08, -3.7422e-08, -7.2796e-08,  ...,  4.4006e-02,\n",
       "          -1.5492e-01, -8.2400e-01],\n",
       "         [ 3.0989e-07,  5.4630e-07,  9.4081e-07,  ...,  1.2978e-01,\n",
       "          -2.0339e-01,  6.3200e-01],\n",
       "         ...,\n",
       "         [-1.1616e-04, -4.4637e-04, -8.8879e-04,  ...,  6.0397e-02,\n",
       "          -4.2050e-01,  1.6584e+00],\n",
       "         [ 2.5105e-04, -5.1268e-06, -3.9115e-04,  ..., -9.7667e-02,\n",
       "           9.2074e-01, -2.1384e-01],\n",
       "         [ 1.3872e-04, -1.6183e-04, -8.2756e-04,  ..., -2.6890e-01,\n",
       "          -5.2398e-01,  3.4276e-01]]], device='cuda:0', dtype=torch.float64,\n",
       "       grad_fn=<CatBackward0>)"
      ]
     },
     "execution_count": 24,
     "metadata": {},
     "output_type": "execute_result"
    }
   ],
   "source": [
    "ilds(x.double())"
   ]
  },
  {
   "cell_type": "code",
   "execution_count": 25,
   "id": "ef5dcf16-66c6-46f9-88be-1d35131a4bdb",
   "metadata": {},
   "outputs": [],
   "source": [
    "ilds.reset_state()\n",
    "ilds.cache = True"
   ]
  },
  {
   "cell_type": "code",
   "execution_count": 28,
   "id": "e75bdc97-5ccf-4aab-a7d8-450d479624b6",
   "metadata": {},
   "outputs": [],
   "source": [
    "out = []\n",
    "for i in range(100):\n",
    "    y = ilds(x[:, i:i+1, :].double())\n",
    "    out.append(y)"
   ]
  },
  {
   "cell_type": "code",
   "execution_count": 29,
   "id": "0e6a8b6f-9282-4df3-9ba8-58a41530c6c8",
   "metadata": {},
   "outputs": [
    {
     "data": {
      "text/plain": [
       "tensor([[[ 2.1530e-10,  4.5513e-10,  9.5489e-10,  ...,  3.3501e-03,\n",
       "          -1.5496e-02, -1.1379e-01],\n",
       "         [ 1.6157e-09,  3.4155e-09,  7.1660e-09,  ...,  2.5141e-02,\n",
       "          -1.1629e-01, -8.5394e-01],\n",
       "         [-7.9411e-10, -1.6787e-09, -3.5220e-09,  ..., -1.2356e-02,\n",
       "           5.7157e-02,  4.1970e-01],\n",
       "         ...,\n",
       "         [-2.4426e-09, -5.1635e-09, -1.0833e-08,  ..., -3.8007e-02,\n",
       "           1.7581e-01,  1.2910e+00],\n",
       "         [-5.4714e-10, -1.1566e-09, -2.4267e-09,  ..., -8.5136e-03,\n",
       "           3.9381e-02,  2.8918e-01],\n",
       "         [-3.5817e-10, -7.5715e-10, -1.5885e-09,  ..., -5.5732e-03,\n",
       "           2.5780e-02,  1.8930e-01]]], device='cuda:0', dtype=torch.float64,\n",
       "       grad_fn=<CatBackward0>)"
      ]
     },
     "execution_count": 29,
     "metadata": {},
     "output_type": "execute_result"
    }
   ],
   "source": [
    "torch.concat(out, dim = 1)"
   ]
  },
  {
   "cell_type": "code",
   "execution_count": null,
   "id": "124bfc87-3f28-4e58-baa7-fb0bfc8abcbf",
   "metadata": {},
   "outputs": [],
   "source": []
  }
 ],
 "metadata": {
  "kernelspec": {
   "display_name": "torch-env [~/.conda/envs/torch-env/]",
   "language": "python",
   "name": "conda_torch-env"
  },
  "language_info": {
   "codemirror_mode": {
    "name": "ipython",
    "version": 3
   },
   "file_extension": ".py",
   "mimetype": "text/x-python",
   "name": "python",
   "nbconvert_exporter": "python",
   "pygments_lexer": "ipython3",
   "version": "3.12.7"
  }
 },
 "nbformat": 4,
 "nbformat_minor": 5
}
